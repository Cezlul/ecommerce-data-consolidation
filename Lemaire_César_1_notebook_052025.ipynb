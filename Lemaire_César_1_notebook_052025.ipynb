{
 "cells": [
  {
   "cell_type": "markdown",
   "id": "97dccc01",
   "metadata": {},
   "source": [
    "<div style=\"display: flex; background-color: RGB(255,114,0);\" >\n",
    "<h1 style=\"margin: auto; padding: 30px; \">ANALYSE DU STOCK ET DES VENTES DU SITE BOTTLENECK</h1>\n",
    "</div>"
   ]
  },
  {
   "cell_type": "markdown",
   "id": "4d0d1bb8",
   "metadata": {},
   "source": [
    "# OBJECTIF DE CE NOTEBOOK\n",
    "\n",
    "Bienvenue dans l'outil plébiscité par les analystes de données Jupyter.\n",
    "\n",
    "Il s'agit d'un outil permettant de mixer et d'alterner codes, textes et graphique.\n",
    "\n",
    "Cet outil est formidable pour plusieurs raisons:\n",
    "\n",
    "+ il permet de tester des lignes de codes au fur et à mesure de votre rédaction, de constater immédiatement le résultat d'un instruction, de la corriger si nécessaire.\n",
    "+ De rédiger du texte pour expliquer l'approche suivie ou les résultats d'une analyse et de le mettre en forme grâce à du code html ou plus simple avec **Markdown**\n",
    "+ d'agrémenter de graphiques\n",
    "\n",
    "Pour vous aider dans vos premiers pas à l'usage de Jupyter et de Python, nous avons rédigé ce notebook en vous indiquant les instructions à suivre.\n",
    "\n",
    "Il vous suffit pour cela de saisir le code Python répondant à l'instruction donnée.\n",
    "\n",
    "Vous verrez de temps à autre le code Python répondant à une instruction donnée mais cela est fait pour vous aider à comprendre la nature du travail qui vous est demandée.\n",
    "\n",
    "Et garder à l'esprit, qu'il n'y a pas de solution unique pour résoudre un problème et qu'il y a autant de résolutions de problèmes que de développeurs ;)...\n",
    "\n"
   ]
  },
  {
   "cell_type": "markdown",
   "id": "b85efb87",
   "metadata": {},
   "source": [
    "<div style=\"background-color: RGB(51,165,182);\" >\n",
    "<h2 style=\"margin: auto; padding: 20px; color:#fff; \">Etape 1 - Importation des librairies et chargement des fichiers</h2>\n",
    "</div>"
   ]
  },
  {
   "cell_type": "markdown",
   "id": "b5449401",
   "metadata": {},
   "source": [
    "<div style=\"border: 1px solid RGB(51,165,182);\" >\n",
    "<h3 style=\"margin: auto; padding: 20px; color: RGB(51,165,182); \">1.1 - Importation des librairies</h3>\n",
    "</div>"
   ]
  },
  {
   "cell_type": "code",
   "execution_count": 1,
   "id": "e6ef06ec",
   "metadata": {},
   "outputs": [],
   "source": [
    "#Importation de la librairie Pandas\n",
    "import pandas as pd"
   ]
  },
  {
   "cell_type": "code",
   "execution_count": 2,
   "id": "25b6873a-24fa-42e9-aa3c-b0f07b9bc086",
   "metadata": {},
   "outputs": [],
   "source": [
    "#Importation de la librairie Numpy\n",
    "import numpy as np"
   ]
  },
  {
   "cell_type": "code",
   "execution_count": 3,
   "id": "5ea9badc",
   "metadata": {},
   "outputs": [],
   "source": [
    "#Importation de la librairie matplotlib\n",
    "import matplotlib as mpl\n",
    "import matplotlib.pyplot as plt"
   ]
  },
  {
   "cell_type": "code",
   "execution_count": 4,
   "id": "a38ce0fc",
   "metadata": {},
   "outputs": [],
   "source": [
    "#Importation de la librairie plotly express\n",
    "import plotly.express as px"
   ]
  },
  {
   "cell_type": "code",
   "execution_count": 5,
   "id": "d9756407",
   "metadata": {},
   "outputs": [],
   "source": [
    "#Importation de la librairie seaborn\n",
    "import seaborn as sns"
   ]
  },
  {
   "cell_type": "markdown",
   "id": "f4918299",
   "metadata": {},
   "source": [
    "<div style=\"border: 1px solid RGB(51,165,182);\" >\n",
    "<h3 style=\"margin: auto; padding: 20px; color: RGB(51,165,182); \">1.2 - Chargements des fichiers</h3>\n",
    "</div>"
   ]
  },
  {
   "cell_type": "code",
   "execution_count": 6,
   "id": "9642cf03",
   "metadata": {
    "scrolled": true
   },
   "outputs": [
    {
     "name": "stderr",
     "output_type": "stream",
     "text": [
      "C:\\Users\\grackow\\AppData\\Local\\Packages\\PythonSoftwareFoundation.Python.3.12_qbz5n2kfra8p0\\LocalCache\\local-packages\\Python312\\site-packages\\openpyxl\\worksheet\\_reader.py:329: UserWarning: Unknown extension is not supported and will be removed\n",
      "  warn(msg)\n",
      "C:\\Users\\grackow\\AppData\\Local\\Packages\\PythonSoftwareFoundation.Python.3.12_qbz5n2kfra8p0\\LocalCache\\local-packages\\Python312\\site-packages\\openpyxl\\worksheet\\_reader.py:329: UserWarning: Unknown extension is not supported and will be removed\n",
      "  warn(msg)\n",
      "C:\\Users\\grackow\\AppData\\Local\\Packages\\PythonSoftwareFoundation.Python.3.12_qbz5n2kfra8p0\\LocalCache\\local-packages\\Python312\\site-packages\\openpyxl\\worksheet\\_reader.py:329: UserWarning: Unknown extension is not supported and will be removed\n",
      "  warn(msg)\n"
     ]
    }
   ],
   "source": [
    "#Importation du fichier web.xlsx\n",
    "df_web = pd.read_excel(\"web.xlsx\")\n",
    "#Importation du fichier erp.xlsx\n",
    "df_erp = pd.read_excel(\"erp.xlsx\")\n",
    "#importation du fichier liaison.xlsx\n",
    "df_liaison = pd.read_excel(\"liaison.xlsx\")"
   ]
  },
  {
   "cell_type": "markdown",
   "id": "605f7056",
   "metadata": {},
   "source": [
    "<div style=\"background-color: RGB(51,165,182);\" >\n",
    "<h2 style=\"margin: auto; padding: 20px; color:#fff; \">Etape 2 - Analyse exploratoire des fichiers</h2>\n",
    "</div>"
   ]
  },
  {
   "cell_type": "code",
   "execution_count": 7,
   "id": "0a718067",
   "metadata": {},
   "outputs": [
    {
     "name": "stdout",
     "output_type": "stream",
     "text": [
      "Par exemple, voici les colonnes présentes dans le fichier erp : ['product_id' 'onsale_web' 'price' 'stock_quantity' 'stock_status'\n",
      " 'purchase_price']\n"
     ]
    }
   ],
   "source": [
    "#Trouver dans Google l'instruction permettant d'afficher toutes les colonnes d'un dataframe\n",
    "#Saisir, dans Google, les mots clés \"display all columns dataframe Pandas\", par exemple.\n",
    "#Dans les résultats de la recherche, privilégiez les solutions provenants de Stack Overflow ou Medium\n",
    "\n",
    "print(\"Par exemple, voici les colonnes présentes dans le fichier erp : {}\" .format(df_erp.columns.values))\n"
   ]
  },
  {
   "cell_type": "markdown",
   "id": "47d3a649",
   "metadata": {},
   "source": [
    "<div style=\"border: 1px solid RGB(51,165,182);\" >\n",
    "<h3 style=\"margin: auto; padding: 20px; color: RGB(51,165,182); \">2.1 - Analyse exploratoire du fichier erp.xlsx</h3>\n",
    "</div>"
   ]
  },
  {
   "cell_type": "code",
   "execution_count": 8,
   "id": "094ef206",
   "metadata": {},
   "outputs": [
    {
     "name": "stdout",
     "output_type": "stream",
     "text": [
      "<class 'pandas.core.frame.DataFrame'>\n",
      "RangeIndex: 825 entries, 0 to 824\n",
      "Data columns (total 6 columns):\n",
      " #   Column          Non-Null Count  Dtype  \n",
      "---  ------          --------------  -----  \n",
      " 0   product_id      825 non-null    int64  \n",
      " 1   onsale_web      825 non-null    int64  \n",
      " 2   price           825 non-null    float64\n",
      " 3   stock_quantity  825 non-null    int64  \n",
      " 4   stock_status    825 non-null    object \n",
      " 5   purchase_price  825 non-null    float64\n",
      "dtypes: float64(2), int64(3), object(1)\n",
      "memory usage: 38.8+ KB\n"
     ]
    }
   ],
   "source": [
    "#Afficher les dimensions du dataset\n",
    "df_erp.info()"
   ]
  },
  {
   "cell_type": "code",
   "execution_count": 9,
   "id": "182441f0",
   "metadata": {},
   "outputs": [
    {
     "name": "stdout",
     "output_type": "stream",
     "text": [
      "Nombre de colonnes présentes dans le fichier : 6\n",
      "\n",
      "Nature des données des colonnes:\n",
      "product_id          int64\n",
      "onsale_web          int64\n",
      "price             float64\n",
      "stock_quantity      int64\n",
      "stock_status       object\n",
      "purchase_price    float64\n",
      "dtype: object\n",
      "\n",
      "Nombre de valeurs par colonnes :\n",
      "product_id        825\n",
      "onsale_web        825\n",
      "price             825\n",
      "stock_quantity    825\n",
      "stock_status      825\n",
      "purchase_price    825\n",
      "dtype: int64\n"
     ]
    }
   ],
   "source": [
    "#Consulter le nombre de colonnes\n",
    "print('Nombre de colonnes présentes dans le fichier : {}'.format(df_erp.shape[1]))\n",
    "print()\n",
    "#La nature des données dans chacune des colonnes\n",
    "print('Nature des données des colonnes:')\n",
    "print('{}'.format(df_erp.dtypes))\n",
    "print()\n",
    "#Le nombre de valeurs présentes dans chacune des colonnes\n",
    "print('Nombre de valeurs par colonnes :')\n",
    "print('{}'.format(df_erp.count()))\n"
   ]
  },
  {
   "cell_type": "code",
   "execution_count": 10,
   "id": "d3977646",
   "metadata": {},
   "outputs": [
    {
     "name": "stdout",
     "output_type": "stream",
     "text": [
      "Voici les 5 premières lignes de la table:\n"
     ]
    },
    {
     "data": {
      "text/html": [
       "<div>\n",
       "<style scoped>\n",
       "    .dataframe tbody tr th:only-of-type {\n",
       "        vertical-align: middle;\n",
       "    }\n",
       "\n",
       "    .dataframe tbody tr th {\n",
       "        vertical-align: top;\n",
       "    }\n",
       "\n",
       "    .dataframe thead th {\n",
       "        text-align: right;\n",
       "    }\n",
       "</style>\n",
       "<table border=\"1\" class=\"dataframe\">\n",
       "  <thead>\n",
       "    <tr style=\"text-align: right;\">\n",
       "      <th></th>\n",
       "      <th>product_id</th>\n",
       "      <th>onsale_web</th>\n",
       "      <th>price</th>\n",
       "      <th>stock_quantity</th>\n",
       "      <th>stock_status</th>\n",
       "      <th>purchase_price</th>\n",
       "    </tr>\n",
       "  </thead>\n",
       "  <tbody>\n",
       "    <tr>\n",
       "      <th>0</th>\n",
       "      <td>3847</td>\n",
       "      <td>1</td>\n",
       "      <td>24.2</td>\n",
       "      <td>16</td>\n",
       "      <td>instock</td>\n",
       "      <td>12.88</td>\n",
       "    </tr>\n",
       "    <tr>\n",
       "      <th>1</th>\n",
       "      <td>3849</td>\n",
       "      <td>1</td>\n",
       "      <td>34.3</td>\n",
       "      <td>10</td>\n",
       "      <td>instock</td>\n",
       "      <td>17.54</td>\n",
       "    </tr>\n",
       "    <tr>\n",
       "      <th>2</th>\n",
       "      <td>3850</td>\n",
       "      <td>1</td>\n",
       "      <td>20.8</td>\n",
       "      <td>0</td>\n",
       "      <td>outofstock</td>\n",
       "      <td>10.64</td>\n",
       "    </tr>\n",
       "    <tr>\n",
       "      <th>3</th>\n",
       "      <td>4032</td>\n",
       "      <td>1</td>\n",
       "      <td>14.1</td>\n",
       "      <td>26</td>\n",
       "      <td>instock</td>\n",
       "      <td>6.92</td>\n",
       "    </tr>\n",
       "    <tr>\n",
       "      <th>4</th>\n",
       "      <td>4039</td>\n",
       "      <td>1</td>\n",
       "      <td>46.0</td>\n",
       "      <td>3</td>\n",
       "      <td>outofstock</td>\n",
       "      <td>23.77</td>\n",
       "    </tr>\n",
       "  </tbody>\n",
       "</table>\n",
       "</div>"
      ],
      "text/plain": [
       "   product_id  onsale_web  price  stock_quantity stock_status  purchase_price\n",
       "0        3847           1   24.2              16      instock           12.88\n",
       "1        3849           1   34.3              10      instock           17.54\n",
       "2        3850           1   20.8               0   outofstock           10.64\n",
       "3        4032           1   14.1              26      instock            6.92\n",
       "4        4039           1   46.0               3   outofstock           23.77"
      ]
     },
     "execution_count": 10,
     "metadata": {},
     "output_type": "execute_result"
    }
   ],
   "source": [
    "#Afficher les 5 premières lignes de la table\n",
    "print('Voici les 5 premières lignes de la table:')\n",
    "df_erp.head()"
   ]
  },
  {
   "cell_type": "code",
   "execution_count": 11,
   "id": "db102a4a",
   "metadata": {},
   "outputs": [
    {
     "data": {
      "text/html": [
       "<div>\n",
       "<style scoped>\n",
       "    .dataframe tbody tr th:only-of-type {\n",
       "        vertical-align: middle;\n",
       "    }\n",
       "\n",
       "    .dataframe tbody tr th {\n",
       "        vertical-align: top;\n",
       "    }\n",
       "\n",
       "    .dataframe thead th {\n",
       "        text-align: right;\n",
       "    }\n",
       "</style>\n",
       "<table border=\"1\" class=\"dataframe\">\n",
       "  <thead>\n",
       "    <tr style=\"text-align: right;\">\n",
       "      <th></th>\n",
       "      <th>product_id</th>\n",
       "    </tr>\n",
       "  </thead>\n",
       "  <tbody>\n",
       "  </tbody>\n",
       "</table>\n",
       "</div>"
      ],
      "text/plain": [
       "Empty DataFrame\n",
       "Columns: [product_id]\n",
       "Index: []"
      ]
     },
     "execution_count": 11,
     "metadata": {},
     "output_type": "execute_result"
    }
   ],
   "source": [
    "#Vérifier si il y a les lignes en doublons dans la colonne product_id\n",
    "df_erp.loc[df_erp['product_id'].duplicated(keep=False),['product_id']]"
   ]
  },
  {
   "cell_type": "code",
   "execution_count": 12,
   "id": "d443d4ff",
   "metadata": {},
   "outputs": [
    {
     "data": {
      "text/plain": [
       "stock_status\n",
       "instock       733\n",
       "outofstock     92\n",
       "Name: count, dtype: int64"
      ]
     },
     "metadata": {},
     "output_type": "display_data"
    },
    {
     "name": "stdout",
     "output_type": "stream",
     "text": [
      "\n",
      "Le résultat de la colonne stock_status devrait dépendre des valeurs de la colonne stock_quantity\n"
     ]
    }
   ],
   "source": [
    "#Afficher les valeurs distinctes de la colonne stock_status\n",
    "display(df_erp.value_counts('stock_status'))\n",
    "#À quelle(s) autre(s) colonne(s) sont-elles liées ?\n",
    "print()\n",
    "print(\"Le résultat de la colonne stock_status devrait dépendre des valeurs de la colonne stock_quantity\")"
   ]
  },
  {
   "cell_type": "code",
   "execution_count": 13,
   "id": "68088943",
   "metadata": {},
   "outputs": [],
   "source": [
    "#Création d'une colonne \"stock_status_2\n",
    "#La valeur de cette deuxième colonne sera fonction de la valeur dans la colonne \"stock_quantity\"\n",
    "#si la valeur de la colonne \"stock_quantity\" est nulle renseigner \"outofstock\" sinon mettre \"instock\"\n",
    "def valeur_null(stock_quantity):\n",
    "    if stock_quantity == 'NaN' or stock_quantity <=0:\n",
    "        return \"outofstock\"\n",
    "    else:\n",
    "        return \"instock\"\n",
    "df_erp[\"stock_status_2\"] = df_erp[\"stock_quantity\"].apply(valeur_null)\n"
   ]
  },
  {
   "cell_type": "code",
   "execution_count": 14,
   "id": "90a1c8ae",
   "metadata": {},
   "outputs": [
    {
     "data": {
      "text/plain": [
       "0       True\n",
       "1       True\n",
       "2       True\n",
       "3       True\n",
       "4      False\n",
       "       ...  \n",
       "820     True\n",
       "821     True\n",
       "822     True\n",
       "823     True\n",
       "824     True\n",
       "Length: 825, dtype: bool"
      ]
     },
     "execution_count": 14,
     "metadata": {},
     "output_type": "execute_result"
    }
   ],
   "source": [
    "#Vérifions que les 2 colonnes sont identiques:\n",
    "#Les 2 colonnes sont strictement identiques si les valeurs de chaque ligne sont strictement identiques 2 à 2\n",
    "#La comparaison de 2 colonnes peut se réaliser simplement avec l'instruction ci-dessous:\n",
    "df_erp[\"stock_status\"] == df_erp[\"stock_status_2\"]\n",
    "\n",
    "#Le résultat est l'affichage de True ou False pour chacune des lignes du dataset\n",
    "#C'est un bon début, mais difficile à exploiter"
   ]
  },
  {
   "cell_type": "code",
   "execution_count": 15,
   "id": "ebe3650a",
   "metadata": {},
   "outputs": [
    {
     "data": {
      "text/plain": [
       "True     823\n",
       "False      2\n",
       "Name: count, dtype: int64"
      ]
     },
     "execution_count": 15,
     "metadata": {},
     "output_type": "execute_result"
    }
   ],
   "source": [
    "#Mais il est possible de synthétiser ce résultat en effectuant la somme de cette colonne:\n",
    "#True vaut 1 et False 0\n",
    "#Nous devrions obtenir la somme de 824 qui correspond au nombre de lignes dans ce dataset\n",
    "comptage = df_erp[\"stock_status\"] == df_erp[\"stock_status_2\"]\n",
    "df_erp.value_counts(comptage)"
   ]
  },
  {
   "cell_type": "code",
   "execution_count": 16,
   "id": "1ca6060a",
   "metadata": {},
   "outputs": [
    {
     "data": {
      "text/html": [
       "<div>\n",
       "<style scoped>\n",
       "    .dataframe tbody tr th:only-of-type {\n",
       "        vertical-align: middle;\n",
       "    }\n",
       "\n",
       "    .dataframe tbody tr th {\n",
       "        vertical-align: top;\n",
       "    }\n",
       "\n",
       "    .dataframe thead th {\n",
       "        text-align: right;\n",
       "    }\n",
       "</style>\n",
       "<table border=\"1\" class=\"dataframe\">\n",
       "  <thead>\n",
       "    <tr style=\"text-align: right;\">\n",
       "      <th></th>\n",
       "      <th>product_id</th>\n",
       "      <th>onsale_web</th>\n",
       "      <th>price</th>\n",
       "      <th>stock_quantity</th>\n",
       "      <th>stock_status</th>\n",
       "      <th>purchase_price</th>\n",
       "      <th>stock_status_2</th>\n",
       "    </tr>\n",
       "  </thead>\n",
       "  <tbody>\n",
       "    <tr>\n",
       "      <th>4</th>\n",
       "      <td>4039</td>\n",
       "      <td>1</td>\n",
       "      <td>46.0</td>\n",
       "      <td>3</td>\n",
       "      <td>outofstock</td>\n",
       "      <td>23.77</td>\n",
       "      <td>instock</td>\n",
       "    </tr>\n",
       "    <tr>\n",
       "      <th>398</th>\n",
       "      <td>4885</td>\n",
       "      <td>1</td>\n",
       "      <td>18.7</td>\n",
       "      <td>0</td>\n",
       "      <td>instock</td>\n",
       "      <td>9.66</td>\n",
       "      <td>outofstock</td>\n",
       "    </tr>\n",
       "  </tbody>\n",
       "</table>\n",
       "</div>"
      ],
      "text/plain": [
       "     product_id  onsale_web  price  stock_quantity stock_status  \\\n",
       "4          4039           1   46.0               3   outofstock   \n",
       "398        4885           1   18.7               0      instock   \n",
       "\n",
       "     purchase_price stock_status_2  \n",
       "4             23.77        instock  \n",
       "398            9.66     outofstock  "
      ]
     },
     "execution_count": 16,
     "metadata": {},
     "output_type": "execute_result"
    }
   ],
   "source": [
    "#Si les colonnes ne sont absolument pas identiques ligne à ligne alors identifier la ligne en écart\n",
    "##Dans ce cas je vous ce lien pour apprendre à réaliser des filtres dans Pandas:\n",
    "##https://bitbucket.org/hrojas/learn-pandas/src/master/\n",
    "##Lesson 3\n",
    "df_erp.loc[comptage==False]"
   ]
  },
  {
   "cell_type": "code",
   "execution_count": 17,
   "id": "ce1b9704",
   "metadata": {},
   "outputs": [
    {
     "name": "stdout",
     "output_type": "stream",
     "text": [
      "On va vérifier avec les personnes en charge des stocks, l'inventaire des références puis on corrige notre dataframe.\n",
      "\n"
     ]
    },
    {
     "data": {
      "text/html": [
       "<div>\n",
       "<style scoped>\n",
       "    .dataframe tbody tr th:only-of-type {\n",
       "        vertical-align: middle;\n",
       "    }\n",
       "\n",
       "    .dataframe tbody tr th {\n",
       "        vertical-align: top;\n",
       "    }\n",
       "\n",
       "    .dataframe thead th {\n",
       "        text-align: right;\n",
       "    }\n",
       "</style>\n",
       "<table border=\"1\" class=\"dataframe\">\n",
       "  <thead>\n",
       "    <tr style=\"text-align: right;\">\n",
       "      <th></th>\n",
       "      <th>product_id</th>\n",
       "      <th>onsale_web</th>\n",
       "      <th>price</th>\n",
       "      <th>stock_quantity</th>\n",
       "      <th>stock_status</th>\n",
       "      <th>purchase_price</th>\n",
       "      <th>stock_status_2</th>\n",
       "    </tr>\n",
       "  </thead>\n",
       "  <tbody>\n",
       "  </tbody>\n",
       "</table>\n",
       "</div>"
      ],
      "text/plain": [
       "Empty DataFrame\n",
       "Columns: [product_id, onsale_web, price, stock_quantity, stock_status, purchase_price, stock_status_2]\n",
       "Index: []"
      ]
     },
     "execution_count": 17,
     "metadata": {},
     "output_type": "execute_result"
    }
   ],
   "source": [
    "#Corriger la ou les données incohérentes\n",
    "print(\"On va vérifier avec les personnes en charge des stocks, l'inventaire des références puis on corrige notre dataframe.\")\n",
    "print()\n",
    "df_erp.iloc[4,4] = \"instock\"\n",
    "df_erp.iloc[398,4] = \"outofstock\"\n",
    "#Verification en utilisant le même code que plus haut pour afficher les problemes\n",
    "comptage = df_erp[\"stock_status\"] == df_erp[\"stock_status_2\"]\n",
    "df_erp.loc[comptage==False]"
   ]
  },
  {
   "cell_type": "markdown",
   "id": "08bd4b08",
   "metadata": {},
   "source": [
    "<div style=\"border: 1px solid RGB(51,165,182);\" >\n",
    "<h3 style=\"margin: auto; padding: 20px; color: RGB(51,165,182); \">2.1.1 - Analyse exploratoire de chaque variable du fichier erp.xlsx</h3>\n",
    "</div>"
   ]
  },
  {
   "cell_type": "markdown",
   "id": "3476df40",
   "metadata": {},
   "source": [
    "<div style=\"border: 1px solid RGB(51,165,182);\" >\n",
    "<h3 style=\"margin: auto; padding: 20px; color: RGB(51,165,182); \">2.1.1.1 - Analyse de la variable PRIX</h3>\n",
    "</div>"
   ]
  },
  {
   "cell_type": "code",
   "execution_count": 18,
   "id": "a7fc3384",
   "metadata": {},
   "outputs": [
    {
     "name": "stdout",
     "output_type": "stream",
     "text": [
      "Nombres d'article avec un prix non renseignés: 0\n",
      "Prix minimum pratiqué : -20.0\n",
      "Prix maximum pratiqué : 225.0\n",
      "Prix < ou = à 0 :\n"
     ]
    },
    {
     "data": {
      "text/html": [
       "<div>\n",
       "<style scoped>\n",
       "    .dataframe tbody tr th:only-of-type {\n",
       "        vertical-align: middle;\n",
       "    }\n",
       "\n",
       "    .dataframe tbody tr th {\n",
       "        vertical-align: top;\n",
       "    }\n",
       "\n",
       "    .dataframe thead th {\n",
       "        text-align: right;\n",
       "    }\n",
       "</style>\n",
       "<table border=\"1\" class=\"dataframe\">\n",
       "  <thead>\n",
       "    <tr style=\"text-align: right;\">\n",
       "      <th></th>\n",
       "      <th>price</th>\n",
       "    </tr>\n",
       "  </thead>\n",
       "  <tbody>\n",
       "    <tr>\n",
       "      <th>151</th>\n",
       "      <td>-20.0</td>\n",
       "    </tr>\n",
       "    <tr>\n",
       "      <th>469</th>\n",
       "      <td>-8.0</td>\n",
       "    </tr>\n",
       "    <tr>\n",
       "      <th>739</th>\n",
       "      <td>-9.1</td>\n",
       "    </tr>\n",
       "  </tbody>\n",
       "</table>\n",
       "</div>"
      ],
      "text/plain": [
       "     price\n",
       "151  -20.0\n",
       "469   -8.0\n",
       "739   -9.1"
      ]
     },
     "execution_count": 18,
     "metadata": {},
     "output_type": "execute_result"
    }
   ],
   "source": [
    "###############\n",
    "## LES PRIX  ##\n",
    "###############\n",
    "\n",
    "#Vérification des prix: Y a t-il des prix non renseignés, négatif ou nul?\n",
    "#Afficher le ou les prix non renseignés dans la colonne \"price\"\n",
    "print(\"Nombres d'article avec un prix non renseignés: {}\".format(df_erp[\"price\"].isnull().sum())) #Saisir l'instruction manquante dans la fonction format\n",
    "#Afficher le prix minimum de la colonne \"price\"\n",
    "print(\"Prix minimum pratiqué : {}\".format(df_erp[\"price\"].min()))\n",
    "#Afficher le prix maximum de la colonne \"price\"\n",
    "print(\"Prix maximum pratiqué : {}\".format(df_erp[\"price\"].max()))\n",
    "#Afficher les prix inférieurs à 0 (qu'est ce qu'il faut en faire ?)\n",
    "print(\"Prix < ou = à 0 :\")\n",
    "df_erp.loc[df_erp[\"price\"]<=0,[\"price\"]]\n"
   ]
  },
  {
   "cell_type": "markdown",
   "id": "06fb6f1c-35f4-4c6e-b1c1-e17bfe70d112",
   "metadata": {},
   "source": [
    "Suite à l'analyse, nous voyons qu'il existe 3 valeurs aberrantes (les prix pratiqués qui sont négatifs).\n",
    "Dans un premier temps, il faudra vérifier en détails ces lignes, consulter les personnes du métier pour comprendre pourquoi ces prix sont en négatifs.\n",
    "Par la suite, nous allons corriger ces valeurs, soit en ayant obtenu les prix corrigés, soit en nous basant sur un produit similaires.\n",
    "Ici, nous allons simuler le fait qu'il s'agit d'une erreur de frappe, les valeurs sont bonnes mais pas négatives.\n"
   ]
  },
  {
   "cell_type": "code",
   "execution_count": 19,
   "id": "4ad06c3f-0047-4314-ab4b-d8708fcc3510",
   "metadata": {},
   "outputs": [
    {
     "name": "stdout",
     "output_type": "stream",
     "text": [
      "Prix < ou = à 0 :\n"
     ]
    },
    {
     "data": {
      "text/html": [
       "<div>\n",
       "<style scoped>\n",
       "    .dataframe tbody tr th:only-of-type {\n",
       "        vertical-align: middle;\n",
       "    }\n",
       "\n",
       "    .dataframe tbody tr th {\n",
       "        vertical-align: top;\n",
       "    }\n",
       "\n",
       "    .dataframe thead th {\n",
       "        text-align: right;\n",
       "    }\n",
       "</style>\n",
       "<table border=\"1\" class=\"dataframe\">\n",
       "  <thead>\n",
       "    <tr style=\"text-align: right;\">\n",
       "      <th></th>\n",
       "      <th>price</th>\n",
       "    </tr>\n",
       "  </thead>\n",
       "  <tbody>\n",
       "  </tbody>\n",
       "</table>\n",
       "</div>"
      ],
      "text/plain": [
       "Empty DataFrame\n",
       "Columns: [price]\n",
       "Index: []"
      ]
     },
     "execution_count": 19,
     "metadata": {},
     "output_type": "execute_result"
    }
   ],
   "source": [
    "#Suppression du - devant nos prix négatifs:\n",
    "df_erp.iloc[151,2] = 20\n",
    "df_erp.iloc[469,2] = 8\n",
    "df_erp.iloc[739,2] = 9.1\n",
    "print(\"Prix < ou = à 0 :\")\n",
    "df_erp.loc[df_erp[\"price\"]<=0,[\"price\"]]"
   ]
  },
  {
   "cell_type": "markdown",
   "id": "c5fce58c",
   "metadata": {},
   "source": [
    "<div style=\"border: 1px solid RGB(51,165,182);\" >\n",
    "<h3 style=\"margin: auto; padding: 20px; color: RGB(51,165,182); \">2.1.1.2 - Analyse de la variable STOCK</h3>\n",
    "</div>"
   ]
  },
  {
   "cell_type": "code",
   "execution_count": 20,
   "id": "3d14c4a0",
   "metadata": {},
   "outputs": [
    {
     "name": "stdout",
     "output_type": "stream",
     "text": [
      "Quantité minimum : -10\n",
      "Quantité maximum : 145\n",
      "Stock < à 0 :\n"
     ]
    },
    {
     "data": {
      "text/html": [
       "<div>\n",
       "<style scoped>\n",
       "    .dataframe tbody tr th:only-of-type {\n",
       "        vertical-align: middle;\n",
       "    }\n",
       "\n",
       "    .dataframe tbody tr th {\n",
       "        vertical-align: top;\n",
       "    }\n",
       "\n",
       "    .dataframe thead th {\n",
       "        text-align: right;\n",
       "    }\n",
       "</style>\n",
       "<table border=\"1\" class=\"dataframe\">\n",
       "  <thead>\n",
       "    <tr style=\"text-align: right;\">\n",
       "      <th></th>\n",
       "      <th>stock_quantity</th>\n",
       "    </tr>\n",
       "  </thead>\n",
       "  <tbody>\n",
       "    <tr>\n",
       "      <th>449</th>\n",
       "      <td>-10</td>\n",
       "    </tr>\n",
       "    <tr>\n",
       "      <th>573</th>\n",
       "      <td>-1</td>\n",
       "    </tr>\n",
       "  </tbody>\n",
       "</table>\n",
       "</div>"
      ],
      "text/plain": [
       "     stock_quantity\n",
       "449             -10\n",
       "573              -1"
      ]
     },
     "execution_count": 20,
     "metadata": {},
     "output_type": "execute_result"
    }
   ],
   "source": [
    "#######################\n",
    "### stock_quantity  ###\n",
    "#######################\n",
    "\n",
    "#Vérification de la colonne stock quantity\n",
    "#Afficher la quantité minimum de la colonne \"stock_quantity\"\n",
    "print(\"Quantité minimum : {}\".format(df_erp[\"stock_quantity\"].min()))\n",
    "#Afficher la quantité maximum de la colonne \"stock_quantity\"\n",
    "print(\"Quantité maximum : {}\".format(df_erp[\"stock_quantity\"].max()))\n",
    "#Affichier les stocks inférieurs à 0 (qu'est ce qu'il faut en faire ?)\n",
    "print(\"Stock < à 0 :\")\n",
    "df_erp.loc[df_erp[\"stock_quantity\"]<0,[\"stock_quantity\"]]"
   ]
  },
  {
   "cell_type": "markdown",
   "id": "2682935d-9755-440e-bca9-b1f9bc880fe0",
   "metadata": {},
   "source": [
    "Nous sommes en présence de valeurs négatifs concernant l'inventaire des stocks. Il faudra dans un premier temps, vérifier auprès des personnes en charge des stocks la cause et corriger soit en remettant les stocks à 0, soit en se basant sur les résultats d'un nouvel inventaire pour ces références.Ici nous simulerons également une erreur de frappe, les valeurs sont bonnes mais pas négatives."
   ]
  },
  {
   "cell_type": "code",
   "execution_count": 21,
   "id": "d9e073c1-4c4d-47cd-aa4a-1f3bbddd3e97",
   "metadata": {},
   "outputs": [
    {
     "name": "stdout",
     "output_type": "stream",
     "text": [
      "Stock < à 0 :\n"
     ]
    },
    {
     "data": {
      "text/html": [
       "<div>\n",
       "<style scoped>\n",
       "    .dataframe tbody tr th:only-of-type {\n",
       "        vertical-align: middle;\n",
       "    }\n",
       "\n",
       "    .dataframe tbody tr th {\n",
       "        vertical-align: top;\n",
       "    }\n",
       "\n",
       "    .dataframe thead th {\n",
       "        text-align: right;\n",
       "    }\n",
       "</style>\n",
       "<table border=\"1\" class=\"dataframe\">\n",
       "  <thead>\n",
       "    <tr style=\"text-align: right;\">\n",
       "      <th></th>\n",
       "      <th>stock_quantity</th>\n",
       "    </tr>\n",
       "  </thead>\n",
       "  <tbody>\n",
       "  </tbody>\n",
       "</table>\n",
       "</div>"
      ],
      "text/plain": [
       "Empty DataFrame\n",
       "Columns: [stock_quantity]\n",
       "Index: []"
      ]
     },
     "execution_count": 21,
     "metadata": {},
     "output_type": "execute_result"
    }
   ],
   "source": [
    "#Suppression du - devant nos stocks négatifs:\n",
    "df_erp.iloc[449,3] = 10\n",
    "df_erp.iloc[573,3] = 1\n",
    "print(\"Stock < à 0 :\")\n",
    "df_erp.loc[df_erp[\"stock_quantity\"]<0,[\"stock_quantity\"]]"
   ]
  },
  {
   "cell_type": "markdown",
   "id": "20e8c554",
   "metadata": {},
   "source": [
    "<div style=\"border: 1px solid RGB(51,165,182);\" >\n",
    "<h3 style=\"margin: auto; padding: 20px; color: RGB(51,165,182); \">2.1.1.3 - Analyse de la variable ONSALE_WEB</h3>\n",
    "</div>"
   ]
  },
  {
   "cell_type": "code",
   "execution_count": 22,
   "id": "99b936ca",
   "metadata": {},
   "outputs": [
    {
     "name": "stdout",
     "output_type": "stream",
     "text": [
      "Informations :\n",
      "<class 'pandas.core.series.Series'>\n",
      "RangeIndex: 825 entries, 0 to 824\n",
      "Series name: onsale_web\n",
      "Non-Null Count  Dtype\n",
      "--------------  -----\n",
      "825 non-null    int64\n",
      "dtypes: int64(1)\n",
      "memory usage: 6.6 KB\n",
      "\n",
      "Valeurs de la colonne :\n"
     ]
    },
    {
     "data": {
      "text/plain": [
       "0      1\n",
       "1      1\n",
       "2      1\n",
       "3      1\n",
       "4      1\n",
       "      ..\n",
       "820    0\n",
       "821    0\n",
       "822    1\n",
       "823    0\n",
       "824    1\n",
       "Name: onsale_web, Length: 825, dtype: int64"
      ]
     },
     "metadata": {},
     "output_type": "display_data"
    },
    {
     "name": "stdout",
     "output_type": "stream",
     "text": [
      "\n",
      "Valeurs booléennes qui determinent si la vente est en ligne ou non.\n"
     ]
    }
   ],
   "source": [
    "#Vérification de la colonne onsale_web et des valeurs qu'elle contient? Que signifient-elles?\n",
    "print(\"Informations :\")\n",
    "df_erp[\"onsale_web\"].info()\n",
    "print()\n",
    "print(\"Valeurs de la colonne :\")\n",
    "display(df_erp[\"onsale_web\"])\n",
    "print()\n",
    "print(\"Valeurs booléennes qui determinent si la vente est en ligne ou non.\")"
   ]
  },
  {
   "cell_type": "code",
   "execution_count": 23,
   "id": "6c1f5beb-0ce9-4274-a734-8779e5a45678",
   "metadata": {},
   "outputs": [],
   "source": [
    "#Supprimer la colonne comportant le libellé \"stock_status_2\" car elle est redondante avec la colonne\"stock_status\"\n",
    "df_erp.drop(\"stock_status_2\",axis=1,inplace=True)"
   ]
  },
  {
   "cell_type": "code",
   "execution_count": 24,
   "id": "89b32c2e-2c36-4958-b92a-afb6d80dc0ca",
   "metadata": {},
   "outputs": [
    {
     "data": {
      "text/plain": [
       "array(['product_id', 'onsale_web', 'price', 'stock_quantity',\n",
       "       'stock_status', 'purchase_price'], dtype=object)"
      ]
     },
     "execution_count": 24,
     "metadata": {},
     "output_type": "execute_result"
    }
   ],
   "source": [
    "#Vérification\n",
    "df_erp.columns.values"
   ]
  },
  {
   "cell_type": "markdown",
   "id": "eca4fce9",
   "metadata": {},
   "source": [
    "<div style=\"border: 1px solid RGB(51,165,182);\" >\n",
    "<h3 style=\"margin: auto; padding: 20px; color: RGB(51,165,182); \">2.1.1.4 - Analyse de la variable prix d'achat</h3>\n",
    "</div>"
   ]
  },
  {
   "cell_type": "code",
   "execution_count": 25,
   "id": "6b85ba0d",
   "metadata": {},
   "outputs": [
    {
     "name": "stdout",
     "output_type": "stream",
     "text": [
      "Nombres d'article avec un prix d'achat non renseignés: 0\n",
      "Prix d'achat minimum pratiqué : 2.74\n",
      "Prix d'achat maximum pratiqué : 137.81\n"
     ]
    }
   ],
   "source": [
    "######################\n",
    "##   prix d'achat   ##\n",
    "######################\n",
    "\n",
    "#Vérification de la colonne purchase_price : \n",
    "#Afficher le ou les prix non renseignés dans la colonne \"purchase_price\"\n",
    "print(\"Nombres d'article avec un prix d'achat non renseignés: {}\".format(df_erp[\"purchase_price\"].isnull().sum()))\n",
    "#Afficher le prix minimum de la colonne \"purchase_price\"\n",
    "print(\"Prix d'achat minimum pratiqué : {}\".format(df_erp[\"purchase_price\"].min()))\n",
    "#Afficher le prix maximum de la colonne \"purchase_price\"\n",
    "print(\"Prix d'achat maximum pratiqué : {}\".format(df_erp[\"purchase_price\"].max()))"
   ]
  },
  {
   "cell_type": "markdown",
   "id": "a550f996",
   "metadata": {},
   "source": [
    "<div style=\"border: 1px solid RGB(51,165,182);\" >\n",
    "<h3 style=\"margin: auto; padding: 20px; color: RGB(51,165,182); \">2.2 - Analyse exploratoire du fichier web.xlsx</h3>\n",
    "</div>\n",
    " "
   ]
  },
  {
   "cell_type": "code",
   "execution_count": 26,
   "id": "bb7e292c",
   "metadata": {},
   "outputs": [
    {
     "name": "stdout",
     "output_type": "stream",
     "text": [
      "Dimension du dataset web (lignes, colonnes):\n",
      "<class 'pandas.core.frame.DataFrame'>\n",
      "RangeIndex: 1513 entries, 0 to 1512\n",
      "Data columns (total 29 columns):\n",
      " #   Column                 Non-Null Count  Dtype         \n",
      "---  ------                 --------------  -----         \n",
      " 0   sku                    1428 non-null   object        \n",
      " 1   virtual                1513 non-null   int64         \n",
      " 2   downloadable           1513 non-null   int64         \n",
      " 3   rating_count           1513 non-null   int64         \n",
      " 4   average_rating         1430 non-null   float64       \n",
      " 5   total_sales            1430 non-null   float64       \n",
      " 6   tax_status             716 non-null    object        \n",
      " 7   tax_class              0 non-null      float64       \n",
      " 8   post_author            1430 non-null   float64       \n",
      " 9   post_date              1430 non-null   datetime64[ns]\n",
      " 10  post_date_gmt          1430 non-null   datetime64[ns]\n",
      " 11  post_content           0 non-null      float64       \n",
      " 12  product_type           1429 non-null   object        \n",
      " 13  post_title             1430 non-null   object        \n",
      " 14  post_excerpt           716 non-null    object        \n",
      " 15  post_status            1430 non-null   object        \n",
      " 16  comment_status         1430 non-null   object        \n",
      " 17  ping_status            1430 non-null   object        \n",
      " 18  post_password          0 non-null      float64       \n",
      " 19  post_name              1430 non-null   object        \n",
      " 20  post_modified          1430 non-null   datetime64[ns]\n",
      " 21  post_modified_gmt      1430 non-null   datetime64[ns]\n",
      " 22  post_content_filtered  0 non-null      float64       \n",
      " 23  post_parent            1430 non-null   float64       \n",
      " 24  guid                   1430 non-null   object        \n",
      " 25  menu_order             1430 non-null   float64       \n",
      " 26  post_type              1430 non-null   object        \n",
      " 27  post_mime_type         714 non-null    object        \n",
      " 28  comment_count          1430 non-null   float64       \n",
      "dtypes: datetime64[ns](4), float64(10), int64(3), object(12)\n",
      "memory usage: 342.9+ KB\n",
      "\n",
      "Nombre d'observations:\n",
      "1513\n",
      "\n",
      "Nombre de caractéristiques:\n",
      "29\n"
     ]
    }
   ],
   "source": [
    "#Dimension du dataset\n",
    "print('Dimension du dataset web (lignes, colonnes):')\n",
    "df_web.info()\n",
    "#Nombre d'observations\n",
    "print()\n",
    "print(\"Nombre d'observations:\")\n",
    "print('{}'.format(df_web.shape[0]))\n",
    "#Nombre de caractéristique\n",
    "print()\n",
    "print(\"Nombre de caractéristiques:\")\n",
    "print('{}'.format(df_web.shape[1]))"
   ]
  },
  {
   "cell_type": "code",
   "execution_count": 27,
   "id": "0b70a8da",
   "metadata": {},
   "outputs": [
    {
     "name": "stdout",
     "output_type": "stream",
     "text": [
      "Nombre de colonnes présentes dans le fichier : 29\n",
      "\n",
      "Nature des données des colonnes:\n",
      "sku                              object\n",
      "virtual                           int64\n",
      "downloadable                      int64\n",
      "rating_count                      int64\n",
      "average_rating                  float64\n",
      "total_sales                     float64\n",
      "tax_status                       object\n",
      "tax_class                       float64\n",
      "post_author                     float64\n",
      "post_date                datetime64[ns]\n",
      "post_date_gmt            datetime64[ns]\n",
      "post_content                    float64\n",
      "product_type                     object\n",
      "post_title                       object\n",
      "post_excerpt                     object\n",
      "post_status                      object\n",
      "comment_status                   object\n",
      "ping_status                      object\n",
      "post_password                   float64\n",
      "post_name                        object\n",
      "post_modified            datetime64[ns]\n",
      "post_modified_gmt        datetime64[ns]\n",
      "post_content_filtered           float64\n",
      "post_parent                     float64\n",
      "guid                             object\n",
      "menu_order                      float64\n",
      "post_type                        object\n",
      "post_mime_type                   object\n",
      "comment_count                   float64\n",
      "dtype: object\n",
      "\n",
      "Nombre de valeurs par colonnes :\n",
      "sku                      1428\n",
      "virtual                  1513\n",
      "downloadable             1513\n",
      "rating_count             1513\n",
      "average_rating           1430\n",
      "total_sales              1430\n",
      "tax_status                716\n",
      "tax_class                   0\n",
      "post_author              1430\n",
      "post_date                1430\n",
      "post_date_gmt            1430\n",
      "post_content                0\n",
      "product_type             1429\n",
      "post_title               1430\n",
      "post_excerpt              716\n",
      "post_status              1430\n",
      "comment_status           1430\n",
      "ping_status              1430\n",
      "post_password               0\n",
      "post_name                1430\n",
      "post_modified            1430\n",
      "post_modified_gmt        1430\n",
      "post_content_filtered       0\n",
      "post_parent              1430\n",
      "guid                     1430\n",
      "menu_order               1430\n",
      "post_type                1430\n",
      "post_mime_type            714\n",
      "comment_count            1430\n",
      "dtype: int64\n"
     ]
    }
   ],
   "source": [
    "#Consulter le nombre de colonnes\n",
    "print('Nombre de colonnes présentes dans le fichier : {}'.format(df_web.shape[1]))\n",
    "print()\n",
    "#La nature des données dans chacune des colonnes\n",
    "print('Nature des données des colonnes:')\n",
    "print('{}'.format(df_web.dtypes))\n",
    "print()\n",
    "#Le nombre de valeurs présentes dans chacune des colonnes\n",
    "print('Nombre de valeurs par colonnes :')\n",
    "print('{}'.format(df_web.count()))"
   ]
  },
  {
   "cell_type": "code",
   "execution_count": 28,
   "id": "b0d2f149",
   "metadata": {},
   "outputs": [
    {
     "name": "stdout",
     "output_type": "stream",
     "text": [
      "Les colonnes n'ayant pas de données seront supprimées\n",
      "idem pour les colonnes en double (ex: date et date_gmt) et les colonnes ayant des valeurs uniformes\n"
     ]
    }
   ],
   "source": [
    "#Selon vous, quelles sont les colonnes à conserver ? valeur = 0 , doublon ...\n",
    "print(\"Les colonnes n'ayant pas de données seront supprimées\")\n",
    "print(\"idem pour les colonnes en double (ex: date et date_gmt) et les colonnes ayant des valeurs uniformes\")"
   ]
  },
  {
   "cell_type": "code",
   "execution_count": 29,
   "id": "30b2196b",
   "metadata": {},
   "outputs": [],
   "source": [
    "#Si vous avez défini des colonnes à supprimer, effectuer l'opération\n",
    "df_web.drop([\"virtual\",\"downloadable\",\"rating_count\",\"average_rating\",\"tax_class\",\"post_date_gmt\",\"post_content\",\"post_status\",\"comment_status\",\"ping_status\",\"post_password\",\"post_modified_gmt\",\"post_content_filtered\",\"post_parent\",\"menu_order\",\"post_mime_type\",\"comment_count\"],axis=1,inplace=True)"
   ]
  },
  {
   "cell_type": "code",
   "execution_count": 30,
   "id": "1b965d06",
   "metadata": {},
   "outputs": [
    {
     "data": {
      "text/plain": [
       "0       11862\n",
       "1       16057\n",
       "2       14692\n",
       "3       16295\n",
       "4       15328\n",
       "        ...  \n",
       "1508    16326\n",
       "1509    15662\n",
       "1510    15329\n",
       "1511    14827\n",
       "1512    16004\n",
       "Name: sku, Length: 1513, dtype: object"
      ]
     },
     "metadata": {},
     "output_type": "display_data"
    },
    {
     "data": {
      "text/html": [
       "<div>\n",
       "<style scoped>\n",
       "    .dataframe tbody tr th:only-of-type {\n",
       "        vertical-align: middle;\n",
       "    }\n",
       "\n",
       "    .dataframe tbody tr th {\n",
       "        vertical-align: top;\n",
       "    }\n",
       "\n",
       "    .dataframe thead th {\n",
       "        text-align: right;\n",
       "    }\n",
       "</style>\n",
       "<table border=\"1\" class=\"dataframe\">\n",
       "  <thead>\n",
       "    <tr style=\"text-align: right;\">\n",
       "      <th></th>\n",
       "      <th>sku</th>\n",
       "    </tr>\n",
       "  </thead>\n",
       "  <tbody>\n",
       "    <tr>\n",
       "      <th>272</th>\n",
       "      <td>13127-1</td>\n",
       "    </tr>\n",
       "    <tr>\n",
       "      <th>842</th>\n",
       "      <td>bon-cadeau-25-euros</td>\n",
       "    </tr>\n",
       "    <tr>\n",
       "      <th>1117</th>\n",
       "      <td>13127-1</td>\n",
       "    </tr>\n",
       "    <tr>\n",
       "      <th>1387</th>\n",
       "      <td>bon-cadeau-25-euros</td>\n",
       "    </tr>\n",
       "  </tbody>\n",
       "</table>\n",
       "</div>"
      ],
      "text/plain": [
       "                      sku\n",
       "272               13127-1\n",
       "842   bon-cadeau-25-euros\n",
       "1117              13127-1\n",
       "1387  bon-cadeau-25-euros"
      ]
     },
     "execution_count": 30,
     "metadata": {},
     "output_type": "execute_result"
    }
   ],
   "source": [
    "#Visualisation des valeurs de la colonne sku\n",
    "display(df_web['sku'])\n",
    "#Quelles sont les valeurs qui ne semblent pas respecter la régle de codification?\n",
    "df_web.loc[(~df_web[\"sku\"].isin(np.arange(1,50000))) & (df_web[\"sku\"].notnull()),[\"sku\"]]"
   ]
  },
  {
   "cell_type": "code",
   "execution_count": 31,
   "id": "1226dcfd",
   "metadata": {},
   "outputs": [
    {
     "name": "stdout",
     "output_type": "stream",
     "text": [
      "sku                                                        13127-1\n",
      "total_sales                                                    4.0\n",
      "tax_status                                                 taxable\n",
      "post_author                                                    2.0\n",
      "post_date                                      2020-06-09 15:42:04\n",
      "product_type                                                   Vin\n",
      "post_title            Clos du Mont-Olivet Châteauneuf-du-Pape 2007\n",
      "post_excerpt     Nez gracieux, très élégant avec une touche flo...\n",
      "post_name           clos-du-mont-olivet-chateauneuf-du-pape-2007-2\n",
      "post_modified                                  2020-07-20 17:09:06\n",
      "guid             https://www.bottle-neck.fr/?post_type=product&...\n",
      "post_type                                                  product\n",
      "Name: 272, dtype: object\n",
      "\n",
      "sku                                            bon-cadeau-25-euros\n",
      "total_sales                                                    7.0\n",
      "tax_status                                                     NaN\n",
      "post_author                                                    1.0\n",
      "post_date                                      2018-06-01 13:53:46\n",
      "product_type                                                 Autre\n",
      "post_title                                       Bon cadeau de 25€\n",
      "post_excerpt                                                   NaN\n",
      "post_name                                   bon-cadeau-de-25-euros\n",
      "post_modified                                  2018-06-01 14:13:57\n",
      "guid             https://www.bottle-neck.fr/wp-content/uploads/...\n",
      "post_type                                               attachment\n",
      "Name: 842, dtype: object\n",
      "\n",
      "sku                                                        13127-1\n",
      "total_sales                                                    4.0\n",
      "tax_status                                                     NaN\n",
      "post_author                                                    2.0\n",
      "post_date                                      2020-06-09 15:42:04\n",
      "product_type                                                   Vin\n",
      "post_title            Clos du Mont-Olivet Châteauneuf-du-Pape 2007\n",
      "post_excerpt                                                   NaN\n",
      "post_name           clos-du-mont-olivet-chateauneuf-du-pape-2007-2\n",
      "post_modified                                  2020-07-20 17:09:06\n",
      "guid             https://www.bottle-neck.fr/wp-content/uploads/...\n",
      "post_type                                               attachment\n",
      "Name: 1117, dtype: object\n",
      "\n",
      "sku                                            bon-cadeau-25-euros\n",
      "total_sales                                                    7.0\n",
      "tax_status                                                 taxable\n",
      "post_author                                                    1.0\n",
      "post_date                                      2018-06-01 13:53:46\n",
      "product_type                                                   NaN\n",
      "post_title                                       Bon cadeau de 25€\n",
      "post_excerpt     <span style=\"color: #a85253;\"><strong>Parlons ...\n",
      "post_name                                   bon-cadeau-de-25-euros\n",
      "post_modified                                  2018-06-01 14:13:57\n",
      "guid             https://www.bottle-neck.fr/?post_type=product&...\n",
      "post_type                                                  product\n",
      "Name: 1387, dtype: object\n",
      "\n"
     ]
    }
   ],
   "source": [
    "#Si vous avez identifié des codes articles ne respectant pas la régle de codification, consultez-les?\n",
    "print(df_web.iloc[272,:])\n",
    "print()\n",
    "print(df_web.iloc[842,:])\n",
    "print()\n",
    "print(df_web.iloc[1117,:])\n",
    "print()\n",
    "print(df_web.iloc[1387,:])\n",
    "print()\n"
   ]
  },
  {
   "cell_type": "code",
   "execution_count": 32,
   "id": "eb8d31bf",
   "metadata": {},
   "outputs": [
    {
     "data": {
      "text/html": [
       "<div>\n",
       "<style scoped>\n",
       "    .dataframe tbody tr th:only-of-type {\n",
       "        vertical-align: middle;\n",
       "    }\n",
       "\n",
       "    .dataframe tbody tr th {\n",
       "        vertical-align: top;\n",
       "    }\n",
       "\n",
       "    .dataframe thead th {\n",
       "        text-align: right;\n",
       "    }\n",
       "</style>\n",
       "<table border=\"1\" class=\"dataframe\">\n",
       "  <thead>\n",
       "    <tr style=\"text-align: right;\">\n",
       "      <th></th>\n",
       "      <th>sku</th>\n",
       "      <th>total_sales</th>\n",
       "      <th>tax_status</th>\n",
       "      <th>post_author</th>\n",
       "      <th>post_date</th>\n",
       "      <th>product_type</th>\n",
       "      <th>post_title</th>\n",
       "      <th>post_excerpt</th>\n",
       "      <th>post_name</th>\n",
       "      <th>post_modified</th>\n",
       "      <th>guid</th>\n",
       "      <th>post_type</th>\n",
       "    </tr>\n",
       "  </thead>\n",
       "  <tbody>\n",
       "    <tr>\n",
       "      <th>8</th>\n",
       "      <td>NaN</td>\n",
       "      <td>NaN</td>\n",
       "      <td>NaN</td>\n",
       "      <td>NaN</td>\n",
       "      <td>NaT</td>\n",
       "      <td>NaN</td>\n",
       "      <td>NaN</td>\n",
       "      <td>NaN</td>\n",
       "      <td>NaN</td>\n",
       "      <td>NaT</td>\n",
       "      <td>NaN</td>\n",
       "      <td>NaN</td>\n",
       "    </tr>\n",
       "    <tr>\n",
       "      <th>20</th>\n",
       "      <td>NaN</td>\n",
       "      <td>NaN</td>\n",
       "      <td>NaN</td>\n",
       "      <td>NaN</td>\n",
       "      <td>NaT</td>\n",
       "      <td>NaN</td>\n",
       "      <td>NaN</td>\n",
       "      <td>NaN</td>\n",
       "      <td>NaN</td>\n",
       "      <td>NaT</td>\n",
       "      <td>NaN</td>\n",
       "      <td>NaN</td>\n",
       "    </tr>\n",
       "    <tr>\n",
       "      <th>30</th>\n",
       "      <td>NaN</td>\n",
       "      <td>NaN</td>\n",
       "      <td>NaN</td>\n",
       "      <td>NaN</td>\n",
       "      <td>NaT</td>\n",
       "      <td>NaN</td>\n",
       "      <td>NaN</td>\n",
       "      <td>NaN</td>\n",
       "      <td>NaN</td>\n",
       "      <td>NaT</td>\n",
       "      <td>NaN</td>\n",
       "      <td>NaN</td>\n",
       "    </tr>\n",
       "    <tr>\n",
       "      <th>37</th>\n",
       "      <td>NaN</td>\n",
       "      <td>NaN</td>\n",
       "      <td>NaN</td>\n",
       "      <td>NaN</td>\n",
       "      <td>NaT</td>\n",
       "      <td>NaN</td>\n",
       "      <td>NaN</td>\n",
       "      <td>NaN</td>\n",
       "      <td>NaN</td>\n",
       "      <td>NaT</td>\n",
       "      <td>NaN</td>\n",
       "      <td>NaN</td>\n",
       "    </tr>\n",
       "    <tr>\n",
       "      <th>41</th>\n",
       "      <td>NaN</td>\n",
       "      <td>NaN</td>\n",
       "      <td>NaN</td>\n",
       "      <td>NaN</td>\n",
       "      <td>NaT</td>\n",
       "      <td>NaN</td>\n",
       "      <td>NaN</td>\n",
       "      <td>NaN</td>\n",
       "      <td>NaN</td>\n",
       "      <td>NaT</td>\n",
       "      <td>NaN</td>\n",
       "      <td>NaN</td>\n",
       "    </tr>\n",
       "    <tr>\n",
       "      <th>...</th>\n",
       "      <td>...</td>\n",
       "      <td>...</td>\n",
       "      <td>...</td>\n",
       "      <td>...</td>\n",
       "      <td>...</td>\n",
       "      <td>...</td>\n",
       "      <td>...</td>\n",
       "      <td>...</td>\n",
       "      <td>...</td>\n",
       "      <td>...</td>\n",
       "      <td>...</td>\n",
       "      <td>...</td>\n",
       "    </tr>\n",
       "    <tr>\n",
       "      <th>1384</th>\n",
       "      <td>NaN</td>\n",
       "      <td>NaN</td>\n",
       "      <td>NaN</td>\n",
       "      <td>NaN</td>\n",
       "      <td>NaT</td>\n",
       "      <td>NaN</td>\n",
       "      <td>NaN</td>\n",
       "      <td>NaN</td>\n",
       "      <td>NaN</td>\n",
       "      <td>NaT</td>\n",
       "      <td>NaN</td>\n",
       "      <td>NaN</td>\n",
       "    </tr>\n",
       "    <tr>\n",
       "      <th>1429</th>\n",
       "      <td>NaN</td>\n",
       "      <td>NaN</td>\n",
       "      <td>NaN</td>\n",
       "      <td>NaN</td>\n",
       "      <td>NaT</td>\n",
       "      <td>NaN</td>\n",
       "      <td>NaN</td>\n",
       "      <td>NaN</td>\n",
       "      <td>NaN</td>\n",
       "      <td>NaT</td>\n",
       "      <td>NaN</td>\n",
       "      <td>NaN</td>\n",
       "    </tr>\n",
       "    <tr>\n",
       "      <th>1432</th>\n",
       "      <td>NaN</td>\n",
       "      <td>NaN</td>\n",
       "      <td>NaN</td>\n",
       "      <td>NaN</td>\n",
       "      <td>NaT</td>\n",
       "      <td>NaN</td>\n",
       "      <td>NaN</td>\n",
       "      <td>NaN</td>\n",
       "      <td>NaN</td>\n",
       "      <td>NaT</td>\n",
       "      <td>NaN</td>\n",
       "      <td>NaN</td>\n",
       "    </tr>\n",
       "    <tr>\n",
       "      <th>1445</th>\n",
       "      <td>NaN</td>\n",
       "      <td>NaN</td>\n",
       "      <td>NaN</td>\n",
       "      <td>NaN</td>\n",
       "      <td>NaT</td>\n",
       "      <td>NaN</td>\n",
       "      <td>NaN</td>\n",
       "      <td>NaN</td>\n",
       "      <td>NaN</td>\n",
       "      <td>NaT</td>\n",
       "      <td>NaN</td>\n",
       "      <td>NaN</td>\n",
       "    </tr>\n",
       "    <tr>\n",
       "      <th>1457</th>\n",
       "      <td>NaN</td>\n",
       "      <td>NaN</td>\n",
       "      <td>NaN</td>\n",
       "      <td>NaN</td>\n",
       "      <td>NaT</td>\n",
       "      <td>NaN</td>\n",
       "      <td>NaN</td>\n",
       "      <td>NaN</td>\n",
       "      <td>NaN</td>\n",
       "      <td>NaT</td>\n",
       "      <td>NaN</td>\n",
       "      <td>NaN</td>\n",
       "    </tr>\n",
       "  </tbody>\n",
       "</table>\n",
       "<p>85 rows × 12 columns</p>\n",
       "</div>"
      ],
      "text/plain": [
       "      sku  total_sales tax_status  post_author post_date product_type  \\\n",
       "8     NaN          NaN        NaN          NaN       NaT          NaN   \n",
       "20    NaN          NaN        NaN          NaN       NaT          NaN   \n",
       "30    NaN          NaN        NaN          NaN       NaT          NaN   \n",
       "37    NaN          NaN        NaN          NaN       NaT          NaN   \n",
       "41    NaN          NaN        NaN          NaN       NaT          NaN   \n",
       "...   ...          ...        ...          ...       ...          ...   \n",
       "1384  NaN          NaN        NaN          NaN       NaT          NaN   \n",
       "1429  NaN          NaN        NaN          NaN       NaT          NaN   \n",
       "1432  NaN          NaN        NaN          NaN       NaT          NaN   \n",
       "1445  NaN          NaN        NaN          NaN       NaT          NaN   \n",
       "1457  NaN          NaN        NaN          NaN       NaT          NaN   \n",
       "\n",
       "     post_title post_excerpt post_name post_modified guid post_type  \n",
       "8           NaN          NaN       NaN           NaT  NaN       NaN  \n",
       "20          NaN          NaN       NaN           NaT  NaN       NaN  \n",
       "30          NaN          NaN       NaN           NaT  NaN       NaN  \n",
       "37          NaN          NaN       NaN           NaT  NaN       NaN  \n",
       "41          NaN          NaN       NaN           NaT  NaN       NaN  \n",
       "...         ...          ...       ...           ...  ...       ...  \n",
       "1384        NaN          NaN       NaN           NaT  NaN       NaN  \n",
       "1429        NaN          NaN       NaN           NaT  NaN       NaN  \n",
       "1432        NaN          NaN       NaN           NaT  NaN       NaN  \n",
       "1445        NaN          NaN       NaN           NaT  NaN       NaN  \n",
       "1457        NaN          NaN       NaN           NaT  NaN       NaN  \n",
       "\n",
       "[85 rows x 12 columns]"
      ]
     },
     "execution_count": 32,
     "metadata": {},
     "output_type": "execute_result"
    }
   ],
   "source": [
    "#Identifier les lignes sans code articles\n",
    "df_web.loc[df_web['sku'].isnull()]\n"
   ]
  },
  {
   "cell_type": "code",
   "execution_count": 33,
   "id": "967495da",
   "metadata": {},
   "outputs": [
    {
     "name": "stdout",
     "output_type": "stream",
     "text": [
      "Les valeurs présentes sont soit en double ou soit nulles dont une au format texte, il faudra supprimer les doublons ainsi que les valeurs nulles et corriger si possible, la valeur qui est en texte\n"
     ]
    }
   ],
   "source": [
    "#Pour les codes articles identifiés, réalisez une analyse et définissez l'action à entreprendre\n",
    "print(\"Les valeurs présentes sont soit en double ou soit nulles dont une au format texte, il faudra supprimer les doublons ainsi que les valeurs nulles et corriger si possible, la valeur qui est en texte\")"
   ]
  },
  {
   "cell_type": "code",
   "execution_count": 34,
   "id": "27bf30de",
   "metadata": {},
   "outputs": [
    {
     "name": "stdout",
     "output_type": "stream",
     "text": [
      "Il y a  714 valeurs uniques sur 1513 valeurs totales, nous avons donc des doublons.\n"
     ]
    }
   ],
   "source": [
    "#La clé pour chaque ligne est-elle uniques? ou autrement dit, y a-t-il des doublons?\n",
    "print(\"Il y a  {} valeurs uniques sur 1513 valeurs totales, nous avons donc des doublons.\".format(df_web[\"sku\"].nunique()))"
   ]
  },
  {
   "cell_type": "code",
   "execution_count": 35,
   "id": "8b81d617",
   "metadata": {},
   "outputs": [
    {
     "name": "stdout",
     "output_type": "stream",
     "text": [
      "<class 'pandas.core.frame.DataFrame'>\n",
      "Index: 85 entries, 8 to 1457\n",
      "Data columns (total 12 columns):\n",
      " #   Column         Non-Null Count  Dtype         \n",
      "---  ------         --------------  -----         \n",
      " 0   sku            0 non-null      object        \n",
      " 1   total_sales    2 non-null      float64       \n",
      " 2   tax_status     2 non-null      object        \n",
      " 3   post_author    2 non-null      float64       \n",
      " 4   post_date      2 non-null      datetime64[ns]\n",
      " 5   product_type   2 non-null      object        \n",
      " 6   post_title     2 non-null      object        \n",
      " 7   post_excerpt   2 non-null      object        \n",
      " 8   post_name      2 non-null      object        \n",
      " 9   post_modified  2 non-null      datetime64[ns]\n",
      " 10  guid           2 non-null      object        \n",
      " 11  post_type      2 non-null      object        \n",
      "dtypes: datetime64[ns](2), float64(2), object(8)\n",
      "memory usage: 8.6+ KB\n",
      "\n",
      "2 produits n'ont pas de référence, les autres lignes sont toutes vides.\n"
     ]
    }
   ],
   "source": [
    "#Les lignes sans code article semble être toutes non renseignés\n",
    "#Pour s'en assurer réaliser les étapes suivantes:\n",
    "#1 - Créer un dataframe avec uniquement les lignes sans code article\n",
    "df_web_null = df_web.loc[df_web['sku'].isnull()]\n",
    "#2 - utiliser la fonction df.info() sur ce nouveau dataframe pour observer le nombre de valeur renseigné dans chacune des colonnes\n",
    "df_web_null.info()\n",
    "#3 - Que constatez-vous?\n",
    "print()\n",
    "print(\"2 produits n'ont pas de référence, les autres lignes sont toutes vides.\")"
   ]
  },
  {
   "cell_type": "code",
   "execution_count": 36,
   "id": "825515df",
   "metadata": {},
   "outputs": [],
   "source": [
    "#Suppression des valeurs nulles \n",
    "df_web.dropna(subset=[\"tax_status\"], inplace=True)\n",
    "df_web.dropna(subset=[\"sku\"], inplace=True)\n",
    "#Suppression des doublons\n",
    "df_web.drop_duplicates(subset =\"sku\", keep = 'first', inplace=True)\n"
   ]
  },
  {
   "cell_type": "markdown",
   "id": "dbff6403",
   "metadata": {},
   "source": [
    "<div style=\"border: 1px solid RGB(51,165,182);\" >\n",
    "<h3 style=\"margin: auto; padding: 20px; color: RGB(51,165,182); \">2.3 - Analyse exploratoire du fichier liaison.xlsx</h3>\n",
    "</div>"
   ]
  },
  {
   "cell_type": "code",
   "execution_count": 37,
   "id": "de426b74",
   "metadata": {},
   "outputs": [
    {
     "name": "stdout",
     "output_type": "stream",
     "text": [
      "Dimension du dataset liaison (lignes, colonnes):\n",
      "<class 'pandas.core.frame.DataFrame'>\n",
      "RangeIndex: 825 entries, 0 to 824\n",
      "Data columns (total 2 columns):\n",
      " #   Column      Non-Null Count  Dtype \n",
      "---  ------      --------------  ----- \n",
      " 0   id_web      734 non-null    object\n",
      " 1   product_id  825 non-null    int64 \n",
      "dtypes: int64(1), object(1)\n",
      "memory usage: 13.0+ KB\n",
      "\n",
      "Nombre d'observations:\n",
      "825\n",
      "\n",
      "Nombre de caractéristiques:\n",
      "2\n"
     ]
    }
   ],
   "source": [
    "#Dimension du dataset\n",
    "print('Dimension du dataset liaison (lignes, colonnes):')\n",
    "df_liaison.info()\n",
    "#Nombre d'observations\n",
    "print()\n",
    "print(\"Nombre d'observations:\")\n",
    "print('{}'.format(df_liaison.shape[0]))\n",
    "#Nombre de caractéristiques\n",
    "print()\n",
    "print(\"Nombre de caractéristiques:\")\n",
    "print('{}'.format(df_liaison.shape[1]))"
   ]
  },
  {
   "cell_type": "code",
   "execution_count": 38,
   "id": "9834ae33",
   "metadata": {},
   "outputs": [
    {
     "name": "stdout",
     "output_type": "stream",
     "text": [
      "Nombre de colonnes présentes dans le fichier : 2\n",
      "\n",
      "Nature des données des colonnes:\n",
      "id_web        object\n",
      "product_id     int64\n",
      "dtype: object\n",
      "\n",
      "Nombre de valeurs par colonnes :\n",
      "id_web        734\n",
      "product_id    825\n",
      "dtype: int64\n"
     ]
    }
   ],
   "source": [
    "#Consulter le nombre de colonnes\n",
    "print('Nombre de colonnes présentes dans le fichier : {}'.format(df_liaison.shape[1]))\n",
    "print()\n",
    "#La nature des données dans chacune des colonnes\n",
    "print('Nature des données des colonnes:')\n",
    "print('{}'.format(df_liaison.dtypes))\n",
    "print()\n",
    "#Le nombre de valeurs présentes dans chacune des colonnes\n",
    "print('Nombre de valeurs par colonnes :')\n",
    "print('{}'.format(df_liaison.count()))"
   ]
  },
  {
   "cell_type": "code",
   "execution_count": 39,
   "id": "2b30d6b2",
   "metadata": {},
   "outputs": [
    {
     "data": {
      "text/plain": [
       "825"
      ]
     },
     "execution_count": 39,
     "metadata": {},
     "output_type": "execute_result"
    }
   ],
   "source": [
    "#Les valeurs de la colonne \"product_id\" sont elles toutes uniques?\n",
    "df_liaison[\"product_id\"].nunique()"
   ]
  },
  {
   "cell_type": "code",
   "execution_count": 40,
   "id": "4d8ca13c",
   "metadata": {},
   "outputs": [
    {
     "data": {
      "text/plain": [
       "734"
      ]
     },
     "execution_count": 40,
     "metadata": {},
     "output_type": "execute_result"
    }
   ],
   "source": [
    "#Les valeurs de la colonne \"id_web\" sont-elles toutes uniques?\n",
    "df_liaison['id_web'].nunique()"
   ]
  },
  {
   "cell_type": "code",
   "execution_count": 41,
   "id": "52f7c843",
   "metadata": {},
   "outputs": [
    {
     "name": "stdout",
     "output_type": "stream",
     "text": [
      "Articles sans correspondances :\n",
      "id_web        91\n",
      "product_id     0\n",
      "dtype: int64\n",
      "\n",
      "Détails :\n"
     ]
    },
    {
     "data": {
      "text/html": [
       "<div>\n",
       "<style scoped>\n",
       "    .dataframe tbody tr th:only-of-type {\n",
       "        vertical-align: middle;\n",
       "    }\n",
       "\n",
       "    .dataframe tbody tr th {\n",
       "        vertical-align: top;\n",
       "    }\n",
       "\n",
       "    .dataframe thead th {\n",
       "        text-align: right;\n",
       "    }\n",
       "</style>\n",
       "<table border=\"1\" class=\"dataframe\">\n",
       "  <thead>\n",
       "    <tr style=\"text-align: right;\">\n",
       "      <th></th>\n",
       "      <th>id_web</th>\n",
       "    </tr>\n",
       "  </thead>\n",
       "  <tbody>\n",
       "    <tr>\n",
       "      <th>19</th>\n",
       "      <td>NaN</td>\n",
       "    </tr>\n",
       "    <tr>\n",
       "      <th>49</th>\n",
       "      <td>NaN</td>\n",
       "    </tr>\n",
       "    <tr>\n",
       "      <th>50</th>\n",
       "      <td>NaN</td>\n",
       "    </tr>\n",
       "    <tr>\n",
       "      <th>119</th>\n",
       "      <td>NaN</td>\n",
       "    </tr>\n",
       "    <tr>\n",
       "      <th>131</th>\n",
       "      <td>NaN</td>\n",
       "    </tr>\n",
       "    <tr>\n",
       "      <th>...</th>\n",
       "      <td>...</td>\n",
       "    </tr>\n",
       "    <tr>\n",
       "      <th>817</th>\n",
       "      <td>NaN</td>\n",
       "    </tr>\n",
       "    <tr>\n",
       "      <th>818</th>\n",
       "      <td>NaN</td>\n",
       "    </tr>\n",
       "    <tr>\n",
       "      <th>819</th>\n",
       "      <td>NaN</td>\n",
       "    </tr>\n",
       "    <tr>\n",
       "      <th>820</th>\n",
       "      <td>NaN</td>\n",
       "    </tr>\n",
       "    <tr>\n",
       "      <th>821</th>\n",
       "      <td>NaN</td>\n",
       "    </tr>\n",
       "  </tbody>\n",
       "</table>\n",
       "<p>91 rows × 1 columns</p>\n",
       "</div>"
      ],
      "text/plain": [
       "    id_web\n",
       "19     NaN\n",
       "49     NaN\n",
       "50     NaN\n",
       "119    NaN\n",
       "131    NaN\n",
       "..     ...\n",
       "817    NaN\n",
       "818    NaN\n",
       "819    NaN\n",
       "820    NaN\n",
       "821    NaN\n",
       "\n",
       "[91 rows x 1 columns]"
      ]
     },
     "execution_count": 41,
     "metadata": {},
     "output_type": "execute_result"
    }
   ],
   "source": [
    "#Avons-nous des articles sans correspondances?\n",
    "print(\"Articles sans correspondances :\")\n",
    "print(df_liaison.isnull().sum())\n",
    "print()\n",
    "print(\"Détails :\")\n",
    "df_liaison.loc[df_liaison[\"id_web\"].isnull(),[\"id_web\"]]"
   ]
  },
  {
   "cell_type": "markdown",
   "id": "1a359137",
   "metadata": {},
   "source": [
    "<div style=\"background-color: RGB(51,165,182);\" >\n",
    "<h2 style=\"margin: auto; padding: 20px; color:#fff; \">Etape 3 - Jonction des fichiers</h2>\n",
    "</div>"
   ]
  },
  {
   "cell_type": "markdown",
   "id": "b7750c10",
   "metadata": {},
   "source": [
    "<div style=\"border: 1px solid RGB(51,165,182);\" >\n",
    "<h3 style=\"margin: auto; padding: 20px; color: RGB(51,165,182); \">Etape 3.1 - Jonction du fichier df_erp et df_liaison</h3>\n",
    "</div>"
   ]
  },
  {
   "cell_type": "code",
   "execution_count": 42,
   "id": "e756ec7d",
   "metadata": {},
   "outputs": [],
   "source": [
    "#Fusion des fichiers df_erp et df_liaison\n",
    "df_fusion=pd.merge(df_erp,df_liaison,on=\"product_id\")"
   ]
  },
  {
   "cell_type": "code",
   "execution_count": 43,
   "id": "b7e1da5e",
   "metadata": {},
   "outputs": [
    {
     "name": "stdout",
     "output_type": "stream",
     "text": [
      "Oui, certains 'product_id' du fichier ERP n'ont pas de correspondance avec ceux du fichier LIAISON\n"
     ]
    }
   ],
   "source": [
    "#Y a t-il des lignes ne \"matchant\" entre les 2 fichiers?\n",
    "print(\"Oui, certains 'product_id' du fichier ERP n'ont pas de correspondance avec ceux du fichier LIAISON\")"
   ]
  },
  {
   "cell_type": "markdown",
   "id": "fe4c51d7",
   "metadata": {},
   "source": [
    "<div style=\"border: 1px solid RGB(51,165,182);\" >\n",
    "<h3 style=\"margin: auto; padding: 20px; color: RGB(51,165,182); \">Etape 3.2 - Jonction du fichier df_merge et df_web</h3>\n",
    "</div>"
   ]
  },
  {
   "cell_type": "code",
   "execution_count": 44,
   "id": "46d9382b",
   "metadata": {},
   "outputs": [],
   "source": [
    "#Fusionnez les datasets df_merge et df_web\n",
    "df_merge = pd.merge(df_fusion,df_web, left_on='id_web', right_on='sku',how='right')\n"
   ]
  },
  {
   "cell_type": "code",
   "execution_count": 45,
   "id": "2021762f",
   "metadata": {},
   "outputs": [
    {
     "name": "stdout",
     "output_type": "stream",
     "text": [
      "Oui, certains articles de notre dataframe MERGE n'ont pas de correspondance avec les articles du fichier WEB\n"
     ]
    }
   ],
   "source": [
    "#Avons-nous des lignes sans correspondances?\n",
    "print(\"Oui, certains articles de notre dataframe MERGE n'ont pas de correspondance avec les articles du fichier WEB\")\n",
    "#traitement des valeurs manquantes\n",
    "df_merge.dropna(subset=[\"sku\"], inplace=True)"
   ]
  },
  {
   "cell_type": "code",
   "execution_count": 46,
   "id": "e63d18d6-c38e-4540-96e6-b16420864eb4",
   "metadata": {},
   "outputs": [
    {
     "name": "stdout",
     "output_type": "stream",
     "text": [
      "<class 'pandas.core.frame.DataFrame'>\n",
      "RangeIndex: 714 entries, 0 to 713\n",
      "Data columns (total 19 columns):\n",
      " #   Column          Non-Null Count  Dtype         \n",
      "---  ------          --------------  -----         \n",
      " 0   product_id      714 non-null    int64         \n",
      " 1   onsale_web      714 non-null    int64         \n",
      " 2   price           714 non-null    float64       \n",
      " 3   stock_quantity  714 non-null    int64         \n",
      " 4   stock_status    714 non-null    object        \n",
      " 5   purchase_price  714 non-null    float64       \n",
      " 6   id_web          714 non-null    object        \n",
      " 7   sku             714 non-null    object        \n",
      " 8   total_sales     714 non-null    float64       \n",
      " 9   tax_status      714 non-null    object        \n",
      " 10  post_author     714 non-null    float64       \n",
      " 11  post_date       714 non-null    datetime64[ns]\n",
      " 12  product_type    713 non-null    object        \n",
      " 13  post_title      714 non-null    object        \n",
      " 14  post_excerpt    714 non-null    object        \n",
      " 15  post_name       714 non-null    object        \n",
      " 16  post_modified   714 non-null    datetime64[ns]\n",
      " 17  guid            714 non-null    object        \n",
      " 18  post_type       714 non-null    object        \n",
      "dtypes: datetime64[ns](2), float64(4), int64(3), object(10)\n",
      "memory usage: 106.1+ KB\n"
     ]
    }
   ],
   "source": [
    "#Information du nouveaux dataframe\n",
    "df_merge.info()"
   ]
  },
  {
   "cell_type": "markdown",
   "id": "13d81fd6",
   "metadata": {},
   "source": [
    "<div style=\"background-color: RGB(51,165,182);\" >\n",
    "<h2 style=\"margin: auto; padding: 20px; color:#fff; \">Etape 4 - Analyse univarié des prix</h2>\n",
    "</div>"
   ]
  },
  {
   "cell_type": "markdown",
   "id": "9c8d0615",
   "metadata": {},
   "source": [
    "<div style=\"border: 1px solid RGB(51,165,182);\" >\n",
    "<h3 style=\"margin: auto; padding: 20px; color: RGB(51,165,182); \">Etape 4.1 - Exploration par la visualisation de données</h3>\n",
    "</div>"
   ]
  },
  {
   "cell_type": "code",
   "execution_count": 47,
   "id": "18f662a9",
   "metadata": {},
   "outputs": [
    {
     "data": {
      "text/plain": [
       "<Axes: >"
      ]
     },
     "execution_count": 47,
     "metadata": {},
     "output_type": "execute_result"
    },
    {
     "data": {
      "image/png": "[encoded data removed]",
      "text/plain": [
       "<Figure size 640x480 with 1 Axes>"
      ]
     },
     "metadata": {},
     "output_type": "display_data"
    }
   ],
   "source": [
    "#Création d'une Boite à moustache de la répartition des prix grâce à Pandas\n",
    "df_merge.boxplot(column='price')"
   ]
  },
  {
   "cell_type": "code",
   "execution_count": 48,
   "id": "3be61f06",
   "metadata": {},
   "outputs": [
    {
     "data": {
      "application/vnd.plotly.v1+json": {
       "config": {
        "plotlyServerURL": "https://plot.ly"
       },
       "data": [
        {
         "alignmentgroup": "True",
         "hovertemplate": "Prix (€)=%{x}<extra></extra>",
         "legendgroup": "",
         "marker": {
          "color": "#636efa"
         },
         "name": "",
         "notched": false,
         "offsetgroup": "",
         "orientation": "h",
         "showlegend": false,
         "type": "box",
         "x": [
          21.7,
          55,
          12.1,
          9.7,
          18.25,
          9.1,
          5.7,
          11.9,
          13.3,
          19.5,
          6.5,
          12.7,
          29.5,
          26.5,
          62,
          19.5,
          26.5,
          10.1,
          10.8,
          52.4,
          32.8,
          17.7,
          20.2,
          59.8,
          59,
          43.9,
          17,
          14.9,
          22.8,
          26.7,
          23,
          17.3,
          17.2,
          16.5,
          39,
          6.3,
          32.2,
          15.4,
          11.1,
          22,
          78,
          15.2,
          12.8,
          25.3,
          79.5,
          10.2,
          33.4,
          44,
          11.6,
          78,
          44,
          16.3,
          59.4,
          105,
          44.3,
          57.7,
          27.2,
          28,
          24.7,
          9.3,
          11.5,
          25.2,
          17.1,
          10.8,
          32.7,
          25.7,
          9.9,
          38.6,
          41.8,
          16.1,
          73.3,
          13.7,
          28.4,
          25.7,
          29.8,
          11.9,
          9.3,
          20.4,
          32.2,
          71.3,
          48.7,
          18.9,
          5.8,
          13.5,
          11.9,
          104,
          52.4,
          49.5,
          12,
          29,
          33.6,
          22.2,
          18.1,
          9.8,
          19.8,
          10.6,
          19.2,
          46,
          9.8,
          20.6,
          16.6,
          7.1,
          15.8,
          17.6,
          72,
          80,
          38.4,
          32.6,
          22.9,
          8.9,
          24,
          13.7,
          12.3,
          28.5,
          14.3,
          31.6,
          58.8,
          30.6,
          12.1,
          28.1,
          6.7,
          12.7,
          12.8,
          49.5,
          105,
          34.3,
          54.8,
          49,
          11.1,
          8.7,
          59,
          22.8,
          38.4,
          16.1,
          37.7,
          25.9,
          6.5,
          13.6,
          14.8,
          21.8,
          12.8,
          48.8,
          10.4,
          34.3,
          115,
          42,
          48.5,
          35.5,
          25.3,
          41,
          48.5,
          63.5,
          10.9,
          124.8,
          22.8,
          26.5,
          45,
          10.4,
          29,
          59,
          78,
          35.2,
          19,
          105.6,
          34.3,
          31.2,
          32.8,
          9.4,
          35.1,
          27.3,
          45.9,
          24.4,
          57,
          41.8,
          67.2,
          76.8,
          17.8,
          47.2,
          14.6,
          35.6,
          28,
          40.2,
          12.2,
          7.2,
          16.9,
          15.8,
          10.7,
          9.9,
          12.1,
          20.8,
          34.7,
          25.2,
          9.3,
          59,
          27,
          23.6,
          39.2,
          55.6,
          59.9,
          21.6,
          7.5,
          11.1,
          69,
          18.2,
          28.5,
          49.5,
          12.5,
          15.9,
          8.7,
          19,
          175,
          48.8,
          157,
          41.6,
          50.5,
          83,
          17.2,
          85.6,
          5.7,
          13.7,
          9.7,
          24.2,
          28.8,
          12.6,
          42.2,
          68.1,
          137,
          30,
          74.8,
          29.9,
          14.9,
          35.6,
          93,
          14.5,
          16.3,
          50.4,
          21.4,
          7.8,
          27.5,
          8.7,
          16.2,
          9.8,
          26.5,
          13.2,
          50,
          61.6,
          63.4,
          27.9,
          5.7,
          78,
          12,
          57,
          18.5,
          12.9,
          109.6,
          32,
          9.9,
          28.1,
          12.7,
          28,
          63.5,
          62.4,
          52.4,
          8.7,
          29.4,
          48.5,
          19.5,
          59,
          24.5,
          9.6,
          11.8,
          13.7,
          14.5,
          18.8,
          25.9,
          19,
          16.3,
          18.2,
          12,
          19,
          23.4,
          9.5,
          12.3,
          19,
          24.2,
          7.6,
          31.5,
          27.8,
          22.8,
          78,
          19.8,
          22.9,
          38.6,
          15.8,
          48.5,
          21,
          7.8,
          32.1,
          15.3,
          92,
          15.5,
          17.1,
          116.4,
          7.1,
          39,
          11.6,
          14.4,
          108.5,
          19.8,
          61.6,
          14.5,
          23,
          8.9,
          58,
          37.5,
          8.1,
          14.9,
          62.4,
          9.9,
          191.3,
          33.7,
          14,
          23.7,
          36,
          26,
          29.8,
          17.2,
          23.2,
          53,
          15.3,
          26.7,
          36.3,
          40,
          50,
          24,
          17,
          69,
          115,
          11.9,
          79.8,
          23,
          11.1,
          7,
          46,
          12.65,
          33,
          52.6,
          12.7,
          17.1,
          46.5,
          13.5,
          16.6,
          19.2,
          19.5,
          29.5,
          16.9,
          19,
          67.5,
          38.6,
          9,
          31.7,
          8.4,
          17.5,
          10.1,
          12.9,
          41.8,
          33.2,
          9.5,
          8.2,
          13.3,
          7.9,
          37,
          46,
          24,
          14.3,
          22,
          19.3,
          33.4,
          21.5,
          16.3,
          44,
          60,
          17.1,
          31.7,
          18.2,
          67,
          39.8,
          62.5,
          12,
          46.5,
          42.1,
          38,
          135,
          13.1,
          9.3,
          56,
          36.2,
          13.5,
          28.5,
          38,
          59.9,
          17.5,
          13.5,
          17.9,
          27.5,
          13.9,
          121,
          15.2,
          43,
          30.1,
          36,
          10.8,
          99,
          48.4,
          15.8,
          8.7,
          24,
          79.5,
          68.3,
          122,
          26.4,
          8.9,
          16.5,
          30.5,
          13.8,
          16.8,
          59.9,
          23.2,
          9.2,
          11.1,
          57.6,
          11.1,
          40.2,
          10.2,
          5.7,
          27.3,
          38.5,
          14.1,
          20.5,
          24.3,
          83.7,
          12.8,
          114,
          27.9,
          52.7,
          10.9,
          5.8,
          19.2,
          176,
          65.9,
          36.9,
          13.2,
          13.5,
          44.6,
          16.9,
          49.5,
          6.8,
          19,
          21.2,
          16.6,
          18.6,
          23.4,
          8.6,
          41,
          23.8,
          9.9,
          5.2,
          18.5,
          42.6,
          27.9,
          54.8,
          12.6,
          33.2,
          23.4,
          12.7,
          21.7,
          60,
          49,
          52.9,
          77.4,
          14.1,
          25,
          24,
          49.5,
          14.1,
          17.4,
          10.7,
          15.4,
          58,
          49,
          12.5,
          43.5,
          7.1,
          27.9,
          20.8,
          24,
          26.6,
          7.6,
          34.8,
          12.9,
          12.6,
          11.1,
          57,
          59,
          27.7,
          23.5,
          46,
          31.7,
          6.5,
          11.3,
          35.3,
          18.4,
          39.1,
          13.5,
          41,
          11.9,
          8.5,
          44,
          15.5,
          46,
          11.6,
          13.4,
          19,
          31.5,
          5.8,
          34.4,
          16.45,
          57,
          7.4,
          8.5,
          28.4,
          77,
          71.7,
          20.35,
          7.4,
          16.4,
          44.5,
          25,
          38,
          69.8,
          20.4,
          7.7,
          13.5,
          64.9,
          8.6,
          16.7,
          43.9,
          55.4,
          112,
          19.8,
          24.4,
          22.1,
          38.6,
          51,
          45,
          16.3,
          22.8,
          27.9,
          20.8,
          35,
          12.6,
          71.6,
          29.5,
          42,
          71.5,
          56.3,
          10.3,
          29.7,
          49,
          15.4,
          13,
          16.4,
          39,
          26.5,
          53.2,
          57,
          16.9,
          56.4,
          20.2,
          21,
          31,
          17,
          9.1,
          12.9,
          7,
          12,
          88.4,
          43,
          16.7,
          12.5,
          17.8,
          35.6,
          10.7,
          20.5,
          25,
          14.3,
          39.6,
          62.1,
          225,
          13.4,
          14.05,
          9.3,
          40.2,
          102.3,
          18.7,
          15.4,
          30.8,
          18.2,
          15.2,
          14.7,
          20.8,
          20.1,
          19,
          49.5,
          14.4,
          26.9,
          69,
          17.9,
          17.9,
          41.2,
          16.7,
          12.8,
          9.6,
          10.7,
          16.6,
          59.6,
          11.3,
          19.3,
          42.2,
          40.5,
          121,
          100,
          6.8,
          24.5,
          57.6,
          13.1,
          24.4,
          19.8,
          18,
          13.6,
          12.7,
          29,
          15.8,
          49.9,
          16.3,
          23.2,
          12.9,
          74.5,
          12.8,
          40.7,
          37.2,
          24.3,
          27.3,
          24.6,
          25.9,
          25,
          50.1,
          18.3,
          17.8,
          23,
          11.5,
          16.4,
          71.3,
          21.9,
          14.4,
          26.2,
          18.7,
          51.6,
          13.4,
          22.4,
          29.9,
          9.3,
          27.5,
          44,
          24.8,
          22.4,
          60.4,
          21.8,
          19.8,
          25.9,
          39,
          29.8,
          58.3,
          22.5,
          9.7,
          10.3,
          13.7,
          10.6,
          33.2,
          217.5,
          65,
          62.4,
          17.5,
          86.8,
          48.7,
          9,
          59.6,
          18.4,
          43.5,
          29.2,
          27.8,
          46.5,
          21.8,
          16.8,
          16.9,
          7.9,
          11,
          24.4,
          18,
          77.8,
          5.8,
          28,
          30,
          9.9
         ],
         "x0": " ",
         "xaxis": "x",
         "y0": " ",
         "yaxis": "y"
        }
       ],
       "layout": {
        "boxmode": "group",
        "legend": {
         "tracegroupgap": 0
        },
        "template": {
         "data": {
          "bar": [
           {
            "error_x": {
             "color": "#2a3f5f"
            },
            "error_y": {
             "color": "#2a3f5f"
            },
            "marker": {
             "line": {
              "color": "#E5ECF6",
              "width": 0.5
             },
             "pattern": {
              "fillmode": "overlay",
              "size": 10,
              "solidity": 0.2
             }
            },
            "type": "bar"
           }
          ],
          "barpolar": [
           {
            "marker": {
             "line": {
              "color": "#E5ECF6",
              "width": 0.5
             },
             "pattern": {
              "fillmode": "overlay",
              "size": 10,
              "solidity": 0.2
             }
            },
            "type": "barpolar"
           }
          ],
          "carpet": [
           {
            "aaxis": {
             "endlinecolor": "#2a3f5f",
             "gridcolor": "white",
             "linecolor": "white",
             "minorgridcolor": "white",
             "startlinecolor": "#2a3f5f"
            },
            "baxis": {
             "endlinecolor": "#2a3f5f",
             "gridcolor": "white",
             "linecolor": "white",
             "minorgridcolor": "white",
             "startlinecolor": "#2a3f5f"
            },
            "type": "carpet"
           }
          ],
          "choropleth": [
           {
            "colorbar": {
             "outlinewidth": 0,
             "ticks": ""
            },
            "type": "choropleth"
           }
          ],
          "contour": [
           {
            "colorbar": {
             "outlinewidth": 0,
             "ticks": ""
            },
            "colorscale": [
             [
              0,
              "#0d0887"
             ],
             [
              0.1111111111111111,
              "#46039f"
             ],
             [
              0.2222222222222222,
              "#7201a8"
             ],
             [
              0.3333333333333333,
              "#9c179e"
             ],
             [
              0.4444444444444444,
              "#bd3786"
             ],
             [
              0.5555555555555556,
              "#d8576b"
             ],
             [
              0.6666666666666666,
              "#ed7953"
             ],
             [
              0.7777777777777778,
              "#fb9f3a"
             ],
             [
              0.8888888888888888,
              "#fdca26"
             ],
             [
              1,
              "#f0f921"
             ]
            ],
            "type": "contour"
           }
          ],
          "contourcarpet": [
           {
            "colorbar": {
             "outlinewidth": 0,
             "ticks": ""
            },
            "type": "contourcarpet"
           }
          ],
          "heatmap": [
           {
            "colorbar": {
             "outlinewidth": 0,
             "ticks": ""
            },
            "colorscale": [
             [
              0,
              "#0d0887"
             ],
             [
              0.1111111111111111,
              "#46039f"
             ],
             [
              0.2222222222222222,
              "#7201a8"
             ],
             [
              0.3333333333333333,
              "#9c179e"
             ],
             [
              0.4444444444444444,
              "#bd3786"
             ],
             [
              0.5555555555555556,
              "#d8576b"
             ],
             [
              0.6666666666666666,
              "#ed7953"
             ],
             [
              0.7777777777777778,
              "#fb9f3a"
             ],
             [
              0.8888888888888888,
              "#fdca26"
             ],
             [
              1,
              "#f0f921"
             ]
            ],
            "type": "heatmap"
           }
          ],
          "heatmapgl": [
           {
            "colorbar": {
             "outlinewidth": 0,
             "ticks": ""
            },
            "colorscale": [
             [
              0,
              "#0d0887"
             ],
             [
              0.1111111111111111,
              "#46039f"
             ],
             [
              0.2222222222222222,
              "#7201a8"
             ],
             [
              0.3333333333333333,
              "#9c179e"
             ],
             [
              0.4444444444444444,
              "#bd3786"
             ],
             [
              0.5555555555555556,
              "#d8576b"
             ],
             [
              0.6666666666666666,
              "#ed7953"
             ],
             [
              0.7777777777777778,
              "#fb9f3a"
             ],
             [
              0.8888888888888888,
              "#fdca26"
             ],
             [
              1,
              "#f0f921"
             ]
            ],
            "type": "heatmapgl"
           }
          ],
          "histogram": [
           {
            "marker": {
             "pattern": {
              "fillmode": "overlay",
              "size": 10,
              "solidity": 0.2
             }
            },
            "type": "histogram"
           }
          ],
          "histogram2d": [
           {
            "colorbar": {
             "outlinewidth": 0,
             "ticks": ""
            },
            "colorscale": [
             [
              0,
              "#0d0887"
             ],
             [
              0.1111111111111111,
              "#46039f"
             ],
             [
              0.2222222222222222,
              "#7201a8"
             ],
             [
              0.3333333333333333,
              "#9c179e"
             ],
             [
              0.4444444444444444,
              "#bd3786"
             ],
             [
              0.5555555555555556,
              "#d8576b"
             ],
             [
              0.6666666666666666,
              "#ed7953"
             ],
             [
              0.7777777777777778,
              "#fb9f3a"
             ],
             [
              0.8888888888888888,
              "#fdca26"
             ],
             [
              1,
              "#f0f921"
             ]
            ],
            "type": "histogram2d"
           }
          ],
          "histogram2dcontour": [
           {
            "colorbar": {
             "outlinewidth": 0,
             "ticks": ""
            },
            "colorscale": [
             [
              0,
              "#0d0887"
             ],
             [
              0.1111111111111111,
              "#46039f"
             ],
             [
              0.2222222222222222,
              "#7201a8"
             ],
             [
              0.3333333333333333,
              "#9c179e"
             ],
             [
              0.4444444444444444,
              "#bd3786"
             ],
             [
              0.5555555555555556,
              "#d8576b"
             ],
             [
              0.6666666666666666,
              "#ed7953"
             ],
             [
              0.7777777777777778,
              "#fb9f3a"
             ],
             [
              0.8888888888888888,
              "#fdca26"
             ],
             [
              1,
              "#f0f921"
             ]
            ],
            "type": "histogram2dcontour"
           }
          ],
          "mesh3d": [
           {
            "colorbar": {
             "outlinewidth": 0,
             "ticks": ""
            },
            "type": "mesh3d"
           }
          ],
          "parcoords": [
           {
            "line": {
             "colorbar": {
              "outlinewidth": 0,
              "ticks": ""
             }
            },
            "type": "parcoords"
           }
          ],
          "pie": [
           {
            "automargin": true,
            "type": "pie"
           }
          ],
          "scatter": [
           {
            "fillpattern": {
             "fillmode": "overlay",
             "size": 10,
             "solidity": 0.2
            },
            "type": "scatter"
           }
          ],
          "scatter3d": [
           {
            "line": {
             "colorbar": {
              "outlinewidth": 0,
              "ticks": ""
             }
            },
            "marker": {
             "colorbar": {
              "outlinewidth": 0,
              "ticks": ""
             }
            },
            "type": "scatter3d"
           }
          ],
          "scattercarpet": [
           {
            "marker": {
             "colorbar": {
              "outlinewidth": 0,
              "ticks": ""
             }
            },
            "type": "scattercarpet"
           }
          ],
          "scattergeo": [
           {
            "marker": {
             "colorbar": {
              "outlinewidth": 0,
              "ticks": ""
             }
            },
            "type": "scattergeo"
           }
          ],
          "scattergl": [
           {
            "marker": {
             "colorbar": {
              "outlinewidth": 0,
              "ticks": ""
             }
            },
            "type": "scattergl"
           }
          ],
          "scattermapbox": [
           {
            "marker": {
             "colorbar": {
              "outlinewidth": 0,
              "ticks": ""
             }
            },
            "type": "scattermapbox"
           }
          ],
          "scatterpolar": [
           {
            "marker": {
             "colorbar": {
              "outlinewidth": 0,
              "ticks": ""
             }
            },
            "type": "scatterpolar"
           }
          ],
          "scatterpolargl": [
           {
            "marker": {
             "colorbar": {
              "outlinewidth": 0,
              "ticks": ""
             }
            },
            "type": "scatterpolargl"
           }
          ],
          "scatterternary": [
           {
            "marker": {
             "colorbar": {
              "outlinewidth": 0,
              "ticks": ""
             }
            },
            "type": "scatterternary"
           }
          ],
          "surface": [
           {
            "colorbar": {
             "outlinewidth": 0,
             "ticks": ""
            },
            "colorscale": [
             [
              0,
              "#0d0887"
             ],
             [
              0.1111111111111111,
              "#46039f"
             ],
             [
              0.2222222222222222,
              "#7201a8"
             ],
             [
              0.3333333333333333,
              "#9c179e"
             ],
             [
              0.4444444444444444,
              "#bd3786"
             ],
             [
              0.5555555555555556,
              "#d8576b"
             ],
             [
              0.6666666666666666,
              "#ed7953"
             ],
             [
              0.7777777777777778,
              "#fb9f3a"
             ],
             [
              0.8888888888888888,
              "#fdca26"
             ],
             [
              1,
              "#f0f921"
             ]
            ],
            "type": "surface"
           }
          ],
          "table": [
           {
            "cells": {
             "fill": {
              "color": "#EBF0F8"
             },
             "line": {
              "color": "white"
             }
            },
            "header": {
             "fill": {
              "color": "#C8D4E3"
             },
             "line": {
              "color": "white"
             }
            },
            "type": "table"
           }
          ]
         },
         "layout": {
          "annotationdefaults": {
           "arrowcolor": "#2a3f5f",
           "arrowhead": 0,
           "arrowwidth": 1
          },
          "autotypenumbers": "strict",
          "coloraxis": {
           "colorbar": {
            "outlinewidth": 0,
            "ticks": ""
           }
          },
          "colorscale": {
           "diverging": [
            [
             0,
             "#8e0152"
            ],
            [
             0.1,
             "#c51b7d"
            ],
            [
             0.2,
             "#de77ae"
            ],
            [
             0.3,
             "#f1b6da"
            ],
            [
             0.4,
             "#fde0ef"
            ],
            [
             0.5,
             "#f7f7f7"
            ],
            [
             0.6,
             "#e6f5d0"
            ],
            [
             0.7,
             "#b8e186"
            ],
            [
             0.8,
             "#7fbc41"
            ],
            [
             0.9,
             "#4d9221"
            ],
            [
             1,
             "#276419"
            ]
           ],
           "sequential": [
            [
             0,
             "#0d0887"
            ],
            [
             0.1111111111111111,
             "#46039f"
            ],
            [
             0.2222222222222222,
             "#7201a8"
            ],
            [
             0.3333333333333333,
             "#9c179e"
            ],
            [
             0.4444444444444444,
             "#bd3786"
            ],
            [
             0.5555555555555556,
             "#d8576b"
            ],
            [
             0.6666666666666666,
             "#ed7953"
            ],
            [
             0.7777777777777778,
             "#fb9f3a"
            ],
            [
             0.8888888888888888,
             "#fdca26"
            ],
            [
             1,
             "#f0f921"
            ]
           ],
           "sequentialminus": [
            [
             0,
             "#0d0887"
            ],
            [
             0.1111111111111111,
             "#46039f"
            ],
            [
             0.2222222222222222,
             "#7201a8"
            ],
            [
             0.3333333333333333,
             "#9c179e"
            ],
            [
             0.4444444444444444,
             "#bd3786"
            ],
            [
             0.5555555555555556,
             "#d8576b"
            ],
            [
             0.6666666666666666,
             "#ed7953"
            ],
            [
             0.7777777777777778,
             "#fb9f3a"
            ],
            [
             0.8888888888888888,
             "#fdca26"
            ],
            [
             1,
             "#f0f921"
            ]
           ]
          },
          "colorway": [
           "#636efa",
           "#EF553B",
           "#00cc96",
           "#ab63fa",
           "#FFA15A",
           "#19d3f3",
           "#FF6692",
           "#B6E880",
           "#FF97FF",
           "#FECB52"
          ],
          "font": {
           "color": "#2a3f5f"
          },
          "geo": {
           "bgcolor": "white",
           "lakecolor": "white",
           "landcolor": "#E5ECF6",
           "showlakes": true,
           "showland": true,
           "subunitcolor": "white"
          },
          "hoverlabel": {
           "align": "left"
          },
          "hovermode": "closest",
          "mapbox": {
           "style": "light"
          },
          "paper_bgcolor": "white",
          "plot_bgcolor": "#E5ECF6",
          "polar": {
           "angularaxis": {
            "gridcolor": "white",
            "linecolor": "white",
            "ticks": ""
           },
           "bgcolor": "#E5ECF6",
           "radialaxis": {
            "gridcolor": "white",
            "linecolor": "white",
            "ticks": ""
           }
          },
          "scene": {
           "xaxis": {
            "backgroundcolor": "#E5ECF6",
            "gridcolor": "white",
            "gridwidth": 2,
            "linecolor": "white",
            "showbackground": true,
            "ticks": "",
            "zerolinecolor": "white"
           },
           "yaxis": {
            "backgroundcolor": "#E5ECF6",
            "gridcolor": "white",
            "gridwidth": 2,
            "linecolor": "white",
            "showbackground": true,
            "ticks": "",
            "zerolinecolor": "white"
           },
           "zaxis": {
            "backgroundcolor": "#E5ECF6",
            "gridcolor": "white",
            "gridwidth": 2,
            "linecolor": "white",
            "showbackground": true,
            "ticks": "",
            "zerolinecolor": "white"
           }
          },
          "shapedefaults": {
           "line": {
            "color": "#2a3f5f"
           }
          },
          "ternary": {
           "aaxis": {
            "gridcolor": "white",
            "linecolor": "white",
            "ticks": ""
           },
           "baxis": {
            "gridcolor": "white",
            "linecolor": "white",
            "ticks": ""
           },
           "bgcolor": "#E5ECF6",
           "caxis": {
            "gridcolor": "white",
            "linecolor": "white",
            "ticks": ""
           }
          },
          "title": {
           "x": 0.05
          },
          "xaxis": {
           "automargin": true,
           "gridcolor": "white",
           "linecolor": "white",
           "ticks": "",
           "title": {
            "standoff": 15
           },
           "zerolinecolor": "white",
           "zerolinewidth": 2
          },
          "yaxis": {
           "automargin": true,
           "gridcolor": "white",
           "linecolor": "white",
           "ticks": "",
           "title": {
            "standoff": 15
           },
           "zerolinecolor": "white",
           "zerolinewidth": 2
          }
         }
        },
        "title": {
         "text": "Repartition des prix"
        },
        "xaxis": {
         "anchor": "y",
         "domain": [
          0,
          1
         ],
         "title": {
          "text": "Prix (€)"
         }
        },
        "yaxis": {
         "anchor": "x",
         "domain": [
          0,
          1
         ]
        }
       }
      }
     },
     "metadata": {},
     "output_type": "display_data"
    }
   ],
   "source": [
    "#Autre méthode avec plotly express\n",
    "fig = px.box(df_merge, x ='price',title=\"Repartition des prix\",labels={'price':'Prix (€)'})\n",
    "fig.show()"
   ]
  },
  {
   "cell_type": "markdown",
   "id": "79e2f2eb",
   "metadata": {},
   "source": [
    "<div style=\"border: 1px solid RGB(51,165,182);\" >\n",
    "<h3 style=\"margin: auto; padding: 20px; color: RGB(51,165,182); \">Etape 4.2 - Exploration par l'utisation de méthodes statistique</h3>\n",
    "</div>"
   ]
  },
  {
   "cell_type": "markdown",
   "id": "0735c3b2",
   "metadata": {},
   "source": [
    "<div style=\"border: 1px solid RGB(51,165,182);\" >\n",
    "<h3 style=\"margin: auto; padding: 20px; color: RGB(51,165,182); \">Etape 4.2.1 - Identification par le Z-index</h3>\n",
    "</div>"
   ]
  },
  {
   "cell_type": "code",
   "execution_count": 49,
   "id": "1950ef8d",
   "metadata": {},
   "outputs": [
    {
     "name": "stdout",
     "output_type": "stream",
     "text": [
      "Moyenne du prix de vente : \n",
      "32.33\n",
      "\n",
      "Ecart-type du prix : \n",
      "27.6\n",
      "\n",
      "Z-score :\n",
      "0     -0.39\n",
      "1      0.82\n",
      "2     -0.73\n",
      "3     -0.82\n",
      "4     -0.51\n",
      "       ... \n",
      "709    1.65\n",
      "710   -0.96\n",
      "711   -0.16\n",
      "712   -0.08\n",
      "713   -0.81\n",
      "Name: price, Length: 714, dtype: float64\n"
     ]
    }
   ],
   "source": [
    "#Calculer la moyenne du prix\n",
    "moyenne = round(df_merge['price'].mean(),2)\n",
    "print(\"Moyenne du prix de vente : \")\n",
    "print(moyenne)\n",
    "print()\n",
    "#Calculer l'écart-type du prix\n",
    "ecart_type = round(df_merge['price'].std(),2)\n",
    "print(\"Ecart-type du prix : \")\n",
    "print(ecart_type)\n",
    "print()\n",
    "#Calculer le Z-score\n",
    "print(\"Z-score :\")\n",
    "zscore = round(((df_merge['price'] - moyenne) / ecart_type),2)\n",
    "print(zscore)"
   ]
  },
  {
   "cell_type": "code",
   "execution_count": 50,
   "id": "9c2f435f",
   "metadata": {},
   "outputs": [
    {
     "name": "stdout",
     "output_type": "stream",
     "text": [
      "Le seuil prix pour un z-score de 3 est de 115 €\n"
     ]
    }
   ],
   "source": [
    "#Quel est le seuil prix dont z-score est supérieur à 3?\n",
    "seuil_prix = (3*27.6)+32.33\n",
    "print(\"Le seuil prix pour un z-score de 3 est de {} €\".format(round(seuil_prix),2))"
   ]
  },
  {
   "cell_type": "markdown",
   "id": "750f54f3",
   "metadata": {},
   "source": [
    "<div style=\"border: 1px solid RGB(51,165,182);\" >\n",
    "<h3 style=\"margin: auto; padding: 20px; color: RGB(51,165,182); \">Etape 4.2.2 - Identification par l'interval interquartile</h3>\n",
    "</div>"
   ]
  },
  {
   "cell_type": "code",
   "execution_count": 51,
   "id": "6c0db8c0",
   "metadata": {},
   "outputs": [
    {
     "name": "stdout",
     "output_type": "stream",
     "text": [
      "count    714.0\n",
      "mean      32.0\n",
      "std       28.0\n",
      "min        5.0\n",
      "25%       14.0\n",
      "50%       23.0\n",
      "75%       42.0\n",
      "max      225.0\n",
      "Name: price, dtype: float64 2\n"
     ]
    }
   ],
   "source": [
    "#Utilisation de la fonction describe de Pandas pour l'etude des mesures de dispersions\n",
    "print(round(df_merge['price'].describe()),2)"
   ]
  },
  {
   "cell_type": "code",
   "execution_count": 52,
   "id": "a458ca14",
   "metadata": {},
   "outputs": [
    {
     "name": "stdout",
     "output_type": "stream",
     "text": [
      "Seuil du prix qui définit nos outliers : 84.0 €\n"
     ]
    }
   ],
   "source": [
    "#Définissez un seuil pour les articles \"outliers\" en prix : Q3+(1.5*IQR) : Q3 = 42(75%), IQR=28(ecart interquartile)\n",
    "seuil_outlier = (42+(1.5*28))\n",
    "print(\"Seuil du prix qui définit nos outliers : {} €\".format(seuil_outlier))"
   ]
  },
  {
   "cell_type": "code",
   "execution_count": 53,
   "id": "7d05cde7",
   "metadata": {},
   "outputs": [
    {
     "name": "stdout",
     "output_type": "stream",
     "text": [
      "Articles qui dépassent le seuil : 31\n",
      "Soit 4 % de l'ensemble de nos articles. \n"
     ]
    }
   ],
   "source": [
    "#Définissez le nombre d'articles et la proportion de l'ensemble du catalogue \"outliers\"\n",
    "outlier = df_merge.loc[df_merge[\"price\"] > seuil_outlier]\n",
    "#len(outlier)\n",
    "proportion = ((len(outlier)*100)/len(df_merge))\n",
    "print(\"Articles qui dépassent le seuil : {}\".format(len(outlier)))\n",
    "print(\"Soit {} % de l'ensemble de nos articles. \".format(round(proportion),2))\n"
   ]
  },
  {
   "cell_type": "code",
   "execution_count": 54,
   "id": "06138432",
   "metadata": {},
   "outputs": [
    {
     "name": "stdout",
     "output_type": "stream",
     "text": [
      "Cela peut se justifier du fait que ces articles sont de grands crus, ou d'origine d'appellation controllée.\n",
      "Nous pouvons voir cela en effectuant une recherche internet sur ces produits et ainsi comparer les prix pratiqués.\n",
      "Exemple avec le Cognac Cigar Blend Frapin où nous vendons ce produit à un tarif de 104€ : https://shop.cognatheque.com/fr/cognac-frapin-online/246-cigar-blend-vieille-grande-champagne.html\n"
     ]
    }
   ],
   "source": [
    "#Selon vous, ces outliers sont-ils justifiés ? Comment le démontrer si cela est possible ?\n",
    "print(\"Cela peut se justifier du fait que ces articles sont de grands crus, ou d'origine d'appellation controllée.\")\n",
    "print(\"Nous pouvons voir cela en effectuant une recherche internet sur ces produits et ainsi comparer les prix pratiqués.\")\n",
    "print(\"Exemple avec le Cognac Cigar Blend Frapin où nous vendons ce produit à un tarif de 104€ : https://shop.cognatheque.com/fr/cognac-frapin-online/246-cigar-blend-vieille-grande-champagne.html\")"
   ]
  },
  {
   "cell_type": "markdown",
   "id": "640da2c8",
   "metadata": {},
   "source": [
    "<div style=\"background-color: RGB(51,165,182);\" >\n",
    "<h2 style=\"margin: auto; padding: 20px; color:#fff; \">Etape 5 - Analyse univarié du CA, des quantités vendues, des stocks et de la marge ainsi qu'une analyse multivarié  </h2>\n",
    "</div>"
   ]
  },
  {
   "cell_type": "markdown",
   "id": "5871c808",
   "metadata": {},
   "source": [
    "<div style=\"border: 1px solid RGB(51,165,182);\" >\n",
    "<h3 style=\"margin: auto; padding: 20px; color: RGB(51,165,182); \">Etape 5.1 - Analyse des ventes en CA</h3>\n",
    "</div>"
   ]
  },
  {
   "cell_type": "code",
   "execution_count": 55,
   "id": "da0d5834",
   "metadata": {},
   "outputs": [
    {
     "name": "stdout",
     "output_type": "stream",
     "text": [
      " Le chiffre d'affaire du site web s'élève à 143680 €\n"
     ]
    }
   ],
   "source": [
    "##############################\n",
    "# Calculer le CA su site web #\n",
    "##############################\n",
    "\n",
    "#Créez une colonne calculant le CA par article\n",
    "df_merge['ca_par_article'] = (df_merge['price'] * df_merge['total_sales'])\n",
    "#Calculez la somme de la colonne \"ca_par_article\"\n",
    "ca_total_vente = df_merge['ca_par_article'].sum()\n",
    "#Ce résultat correspond au chiffre d'affaire du site web\n",
    "print(\" Le chiffre d'affaire du site web s'élève à {} €\".format(round(ca_total_vente),2))"
   ]
  },
  {
   "cell_type": "code",
   "execution_count": null,
   "id": "4040ced7",
   "metadata": {},
   "outputs": [
    {
     "data": {
      "text/html": [
       "<div>\n",
       "<style scoped>\n",
       "    .dataframe tbody tr th:only-of-type {\n",
       "        vertical-align: middle;\n",
       "    }\n",
       "\n",
       "    .dataframe tbody tr th {\n",
       "        vertical-align: top;\n",
       "    }\n",
       "\n",
       "    .dataframe thead th {\n",
       "        text-align: right;\n",
       "    }\n",
       "</style>\n",
       "<table border=\"1\" class=\"dataframe\">\n",
       "  <thead>\n",
       "    <tr style=\"text-align: right;\">\n",
       "      <th></th>\n",
       "      <th>product_id</th>\n",
       "      <th>onsale_web</th>\n",
       "      <th>price</th>\n",
       "      <th>stock_quantity</th>\n",
       "      <th>stock_status</th>\n",
       "      <th>purchase_price</th>\n",
       "      <th>id_web</th>\n",
       "      <th>sku</th>\n",
       "      <th>total_sales</th>\n",
       "      <th>tax_status</th>\n",
       "      <th>post_author</th>\n",
       "      <th>post_date</th>\n",
       "      <th>product_type</th>\n",
       "      <th>post_title</th>\n",
       "      <th>post_excerpt</th>\n",
       "      <th>post_name</th>\n",
       "      <th>post_modified</th>\n",
       "      <th>guid</th>\n",
       "      <th>post_type</th>\n",
       "      <th>ca_par_article</th>\n",
       "    </tr>\n",
       "  </thead>\n",
       "  <tbody>\n",
       "    <tr>\n",
       "      <th>598</th>\n",
       "      <td>4352</td>\n",
       "      <td>1</td>\n",
       "      <td>225.0</td>\n",
       "      <td>0</td>\n",
       "      <td>outofstock</td>\n",
       "      <td>137.81</td>\n",
       "      <td>15940</td>\n",
       "      <td>15940</td>\n",
       "      <td>11.0</td>\n",
       "      <td>taxable</td>\n",
       "      <td>2.0</td>\n",
       "      <td>2018-03-02 10:30:04</td>\n",
       "      <td>Champagne</td>\n",
       "      <td>Champagne Egly-Ouriet Grand Cru Millésimé 2008</td>\n",
       "      <td>Issu d’un assemblage de 70% de Pinot Noir du g...</td>\n",
       "      <td>champagne-egly-ouriet-grand-cru-millesime-2008</td>\n",
       "      <td>2020-03-07 11:18:45</td>\n",
       "      <td>https://www.bottle-neck.fr/?post_type=product&amp;...</td>\n",
       "      <td>product</td>\n",
       "      <td>2475.0</td>\n",
       "    </tr>\n",
       "    <tr>\n",
       "      <th>319</th>\n",
       "      <td>5892</td>\n",
       "      <td>1</td>\n",
       "      <td>191.3</td>\n",
       "      <td>98</td>\n",
       "      <td>instock</td>\n",
       "      <td>116.06</td>\n",
       "      <td>14983</td>\n",
       "      <td>14983</td>\n",
       "      <td>6.0</td>\n",
       "      <td>taxable</td>\n",
       "      <td>2.0</td>\n",
       "      <td>2019-03-28 10:21:36</td>\n",
       "      <td>Champagne</td>\n",
       "      <td>Coteaux Champenois Egly-Ouriet Ambonnay Rouge ...</td>\n",
       "      <td>Cet Ambonnay évoque les grands Pinots Noirs de...</td>\n",
       "      <td>coteaux-champenois-egly-ouriet-ambonnay-rouge-...</td>\n",
       "      <td>2020-04-01 09:30:09</td>\n",
       "      <td>https://www.bottle-neck.fr/?post_type=product&amp;...</td>\n",
       "      <td>product</td>\n",
       "      <td>1147.8</td>\n",
       "    </tr>\n",
       "    <tr>\n",
       "      <th>44</th>\n",
       "      <td>4353</td>\n",
       "      <td>1</td>\n",
       "      <td>79.5</td>\n",
       "      <td>127</td>\n",
       "      <td>instock</td>\n",
       "      <td>45.91</td>\n",
       "      <td>12587</td>\n",
       "      <td>12587</td>\n",
       "      <td>14.0</td>\n",
       "      <td>taxable</td>\n",
       "      <td>2.0</td>\n",
       "      <td>2018-03-02 10:37:26</td>\n",
       "      <td>Champagne</td>\n",
       "      <td>Champagne Egly-Ouriet Grand Cru Brut Rosé</td>\n",
       "      <td>&amp;nbsp;\\n\\nLe Rosé Grand Cru de la maison Egly-...</td>\n",
       "      <td>champagne-egly-ouriet-grand-cru-brut-rose</td>\n",
       "      <td>2020-08-22 11:45:02</td>\n",
       "      <td>https://www.bottle-neck.fr/?post_type=product&amp;...</td>\n",
       "      <td>product</td>\n",
       "      <td>1113.0</td>\n",
       "    </tr>\n",
       "    <tr>\n",
       "      <th>619</th>\n",
       "      <td>5826</td>\n",
       "      <td>1</td>\n",
       "      <td>41.2</td>\n",
       "      <td>34</td>\n",
       "      <td>instock</td>\n",
       "      <td>21.71</td>\n",
       "      <td>15325</td>\n",
       "      <td>15325</td>\n",
       "      <td>20.0</td>\n",
       "      <td>taxable</td>\n",
       "      <td>2.0</td>\n",
       "      <td>2019-03-27 17:59:49</td>\n",
       "      <td>Vin</td>\n",
       "      <td>Agnès Levet Côte Rôtie Améthyste 2017</td>\n",
       "      <td>&lt;span style=\"float: none;background-color: tra...</td>\n",
       "      <td>agnes-levet-amethyste-2017</td>\n",
       "      <td>2020-05-21 14:00:02</td>\n",
       "      <td>https://www.bottle-neck.fr/?post_type=product&amp;...</td>\n",
       "      <td>product</td>\n",
       "      <td>824.0</td>\n",
       "    </tr>\n",
       "    <tr>\n",
       "      <th>144</th>\n",
       "      <td>6212</td>\n",
       "      <td>1</td>\n",
       "      <td>115.0</td>\n",
       "      <td>16</td>\n",
       "      <td>instock</td>\n",
       "      <td>59.42</td>\n",
       "      <td>13996</td>\n",
       "      <td>13996</td>\n",
       "      <td>7.0</td>\n",
       "      <td>taxable</td>\n",
       "      <td>2.0</td>\n",
       "      <td>2019-07-25 09:09:17</td>\n",
       "      <td>Vin</td>\n",
       "      <td>Domaine des Comtes Lafon Volnay 1er Cru Santen...</td>\n",
       "      <td>\"Il s'agit là de la meilleure partie de l'appe...</td>\n",
       "      <td>domaine-des-comtes-lafon-volnay-1er-cru-santen...</td>\n",
       "      <td>2020-06-16 09:30:16</td>\n",
       "      <td>https://www.bottle-neck.fr/?post_type=product&amp;...</td>\n",
       "      <td>product</td>\n",
       "      <td>805.0</td>\n",
       "    </tr>\n",
       "    <tr>\n",
       "      <th>693</th>\n",
       "      <td>5026</td>\n",
       "      <td>1</td>\n",
       "      <td>86.8</td>\n",
       "      <td>101</td>\n",
       "      <td>instock</td>\n",
       "      <td>50.13</td>\n",
       "      <td>13913</td>\n",
       "      <td>13913</td>\n",
       "      <td>9.0</td>\n",
       "      <td>taxable</td>\n",
       "      <td>2.0</td>\n",
       "      <td>2018-07-18 10:46:30</td>\n",
       "      <td>Champagne</td>\n",
       "      <td>Champagne Agrapart &amp;amp; Fils Minéral Extra Br...</td>\n",
       "      <td>Légèrement praliné au nez, nerveux, frais, inc...</td>\n",
       "      <td>champagne-agrapart-fils-mineral-extra-brut-bla...</td>\n",
       "      <td>2020-05-11 14:35:02</td>\n",
       "      <td>https://www.bottle-neck.fr/?post_type=product&amp;...</td>\n",
       "      <td>product</td>\n",
       "      <td>781.2</td>\n",
       "    </tr>\n",
       "    <tr>\n",
       "      <th>53</th>\n",
       "      <td>5008</td>\n",
       "      <td>1</td>\n",
       "      <td>105.0</td>\n",
       "      <td>12</td>\n",
       "      <td>instock</td>\n",
       "      <td>56.42</td>\n",
       "      <td>11602</td>\n",
       "      <td>11602</td>\n",
       "      <td>7.0</td>\n",
       "      <td>taxable</td>\n",
       "      <td>2.0</td>\n",
       "      <td>2018-07-17 10:52:41</td>\n",
       "      <td>Vin</td>\n",
       "      <td>Domaine des Comtes Lafon Volnay 1er Cru Santen...</td>\n",
       "      <td>\"Il s'agit là de la meilleure partie de l'appe...</td>\n",
       "      <td>domaine-des-comtes-lafon-volnay-1er-cru-santen...</td>\n",
       "      <td>2020-06-23 15:35:02</td>\n",
       "      <td>https://www.bottle-neck.fr/?post_type=product&amp;...</td>\n",
       "      <td>product</td>\n",
       "      <td>735.0</td>\n",
       "    </tr>\n",
       "    <tr>\n",
       "      <th>210</th>\n",
       "      <td>5767</td>\n",
       "      <td>1</td>\n",
       "      <td>175.0</td>\n",
       "      <td>12</td>\n",
       "      <td>instock</td>\n",
       "      <td>90.42</td>\n",
       "      <td>15185</td>\n",
       "      <td>15185</td>\n",
       "      <td>4.0</td>\n",
       "      <td>taxable</td>\n",
       "      <td>2.0</td>\n",
       "      <td>2019-03-13 14:43:22</td>\n",
       "      <td>Vin</td>\n",
       "      <td>Camille Giroud Clos de Vougeot 2016</td>\n",
       "      <td>&lt;div&gt;Ce vin provient de vignes âgées de 50 ans...</td>\n",
       "      <td>camille-giroud-clos-de-vougeot-2016</td>\n",
       "      <td>2020-06-11 15:25:04</td>\n",
       "      <td>https://www.bottle-neck.fr/?post_type=product&amp;...</td>\n",
       "      <td>product</td>\n",
       "      <td>700.0</td>\n",
       "    </tr>\n",
       "    <tr>\n",
       "      <th>392</th>\n",
       "      <td>6126</td>\n",
       "      <td>1</td>\n",
       "      <td>135.0</td>\n",
       "      <td>138</td>\n",
       "      <td>instock</td>\n",
       "      <td>80.33</td>\n",
       "      <td>14923</td>\n",
       "      <td>14923</td>\n",
       "      <td>5.0</td>\n",
       "      <td>taxable</td>\n",
       "      <td>2.0</td>\n",
       "      <td>2019-06-28 17:22:27</td>\n",
       "      <td>Champagne</td>\n",
       "      <td>Champagne Gosset Célébris Vintage 2007</td>\n",
       "      <td>Une robe somptueuse a la teinte jaune pâle eti...</td>\n",
       "      <td>champagne-gosset-celebris-vintage-2007</td>\n",
       "      <td>2020-08-27 11:45:02</td>\n",
       "      <td>https://www.bottle-neck.fr/?post_type=product&amp;...</td>\n",
       "      <td>product</td>\n",
       "      <td>675.0</td>\n",
       "    </tr>\n",
       "    <tr>\n",
       "      <th>548</th>\n",
       "      <td>5025</td>\n",
       "      <td>1</td>\n",
       "      <td>112.0</td>\n",
       "      <td>136</td>\n",
       "      <td>instock</td>\n",
       "      <td>68.60</td>\n",
       "      <td>13914</td>\n",
       "      <td>13914</td>\n",
       "      <td>6.0</td>\n",
       "      <td>taxable</td>\n",
       "      <td>2.0</td>\n",
       "      <td>2018-07-18 10:39:43</td>\n",
       "      <td>Champagne</td>\n",
       "      <td>Champagne Agrapart &amp;amp; Fils L'Avizoise Extra...</td>\n",
       "      <td>Une cuvée surprenante, par son amer articulé a...</td>\n",
       "      <td>champagne-agrapart-fils-lavizoise-grand-cru-20...</td>\n",
       "      <td>2020-07-09 17:05:02</td>\n",
       "      <td>https://www.bottle-neck.fr/?post_type=product&amp;...</td>\n",
       "      <td>product</td>\n",
       "      <td>672.0</td>\n",
       "    </tr>\n",
       "    <tr>\n",
       "      <th>163</th>\n",
       "      <td>6201</td>\n",
       "      <td>1</td>\n",
       "      <td>105.6</td>\n",
       "      <td>16</td>\n",
       "      <td>instock</td>\n",
       "      <td>57.29</td>\n",
       "      <td>14596</td>\n",
       "      <td>14596</td>\n",
       "      <td>6.0</td>\n",
       "      <td>taxable</td>\n",
       "      <td>2.0</td>\n",
       "      <td>2019-07-23 10:37:14</td>\n",
       "      <td>Vin</td>\n",
       "      <td>David Duband Chambolle-Musigny 1er Cru Les Sen...</td>\n",
       "      <td>Une robe d'un rouge carmin avec des reflets br...</td>\n",
       "      <td>david-duband-chambolle-musigny-1er-cru-les-sen...</td>\n",
       "      <td>2020-02-29 15:25:02</td>\n",
       "      <td>https://www.bottle-neck.fr/?post_type=product&amp;...</td>\n",
       "      <td>product</td>\n",
       "      <td>633.6</td>\n",
       "    </tr>\n",
       "    <tr>\n",
       "      <th>212</th>\n",
       "      <td>4406</td>\n",
       "      <td>1</td>\n",
       "      <td>157.0</td>\n",
       "      <td>12</td>\n",
       "      <td>instock</td>\n",
       "      <td>69.08</td>\n",
       "      <td>7819</td>\n",
       "      <td>7819</td>\n",
       "      <td>4.0</td>\n",
       "      <td>taxable</td>\n",
       "      <td>2.0</td>\n",
       "      <td>2018-03-22 11:42:48</td>\n",
       "      <td>Cognac</td>\n",
       "      <td>Cognac Frapin Château de Fontpinot 1989 20 Ans...</td>\n",
       "      <td>Eau-de-Vie distillée à partir de raisins de Gr...</td>\n",
       "      <td>cognac-frapin-chateau-de-fontpinot-1989-20-ans</td>\n",
       "      <td>2020-03-14 16:05:04</td>\n",
       "      <td>https://www.bottle-neck.fr/?post_type=product&amp;...</td>\n",
       "      <td>product</td>\n",
       "      <td>628.0</td>\n",
       "    </tr>\n",
       "    <tr>\n",
       "      <th>113</th>\n",
       "      <td>4647</td>\n",
       "      <td>1</td>\n",
       "      <td>28.5</td>\n",
       "      <td>45</td>\n",
       "      <td>instock</td>\n",
       "      <td>14.14</td>\n",
       "      <td>16525</td>\n",
       "      <td>16525</td>\n",
       "      <td>22.0</td>\n",
       "      <td>taxable</td>\n",
       "      <td>2.0</td>\n",
       "      <td>2018-04-17 09:28:58</td>\n",
       "      <td>Vin</td>\n",
       "      <td>Bernard Baudry Chinon Rouge La Croix Boissée 2017</td>\n",
       "      <td>Sur ce sol très calcaire, la Croix Boissée dél...</td>\n",
       "      <td>bernard-baudry-chinon-rouge-croix-boissee-2017</td>\n",
       "      <td>2020-07-31 09:31:39</td>\n",
       "      <td>https://www.bottle-neck.fr/?post_type=product&amp;...</td>\n",
       "      <td>product</td>\n",
       "      <td>627.0</td>\n",
       "    </tr>\n",
       "    <tr>\n",
       "      <th>531</th>\n",
       "      <td>4358</td>\n",
       "      <td>1</td>\n",
       "      <td>77.0</td>\n",
       "      <td>81</td>\n",
       "      <td>instock</td>\n",
       "      <td>47.16</td>\n",
       "      <td>13854</td>\n",
       "      <td>13854</td>\n",
       "      <td>8.0</td>\n",
       "      <td>taxable</td>\n",
       "      <td>2.0</td>\n",
       "      <td>2018-03-02 11:03:30</td>\n",
       "      <td>Champagne</td>\n",
       "      <td>Champagne Larmandier-Bernier Grand Cru Vieille...</td>\n",
       "      <td>Une très belle robe or jaune dore. Le nez est ...</td>\n",
       "      <td>champagne-larmandier-bernier-vieilles-vignes-l...</td>\n",
       "      <td>2020-01-04 11:07:14</td>\n",
       "      <td>https://www.bottle-neck.fr/?post_type=product&amp;...</td>\n",
       "      <td>product</td>\n",
       "      <td>616.0</td>\n",
       "    </tr>\n",
       "    <tr>\n",
       "      <th>217</th>\n",
       "      <td>4359</td>\n",
       "      <td>1</td>\n",
       "      <td>85.6</td>\n",
       "      <td>112</td>\n",
       "      <td>instock</td>\n",
       "      <td>51.93</td>\n",
       "      <td>13853</td>\n",
       "      <td>13853</td>\n",
       "      <td>7.0</td>\n",
       "      <td>taxable</td>\n",
       "      <td>2.0</td>\n",
       "      <td>2018-03-02 11:11:48</td>\n",
       "      <td>Champagne</td>\n",
       "      <td>Champagne Larmandier-Bernier Grand Cru Les Che...</td>\n",
       "      <td>Belle maîtrise de ce millésime compliqué en Ch...</td>\n",
       "      <td>champagne-larmandier-bernier-grand-cru-vieille...</td>\n",
       "      <td>2019-12-23 09:30:11</td>\n",
       "      <td>https://www.bottle-neck.fr/?post_type=product&amp;...</td>\n",
       "      <td>product</td>\n",
       "      <td>599.2</td>\n",
       "    </tr>\n",
       "    <tr>\n",
       "      <th>412</th>\n",
       "      <td>6214</td>\n",
       "      <td>1</td>\n",
       "      <td>99.0</td>\n",
       "      <td>9</td>\n",
       "      <td>instock</td>\n",
       "      <td>49.62</td>\n",
       "      <td>11601</td>\n",
       "      <td>11601</td>\n",
       "      <td>6.0</td>\n",
       "      <td>taxable</td>\n",
       "      <td>2.0</td>\n",
       "      <td>2019-07-25 09:15:41</td>\n",
       "      <td>Vin</td>\n",
       "      <td>Domaine des Comtes Lafon Volnay 1er Cru Champa...</td>\n",
       "      <td>La couleur rouge intense annonce un belle conc...</td>\n",
       "      <td>domaine-des-comtes-lafon-volnay-1er-cru-champa...</td>\n",
       "      <td>2020-07-04 11:35:02</td>\n",
       "      <td>https://www.bottle-neck.fr/?post_type=product&amp;...</td>\n",
       "      <td>product</td>\n",
       "      <td>594.0</td>\n",
       "    </tr>\n",
       "    <tr>\n",
       "      <th>302</th>\n",
       "      <td>6202</td>\n",
       "      <td>1</td>\n",
       "      <td>116.4</td>\n",
       "      <td>12</td>\n",
       "      <td>instock</td>\n",
       "      <td>63.15</td>\n",
       "      <td>15126</td>\n",
       "      <td>15126</td>\n",
       "      <td>5.0</td>\n",
       "      <td>taxable</td>\n",
       "      <td>2.0</td>\n",
       "      <td>2019-07-23 10:50:24</td>\n",
       "      <td>Vin</td>\n",
       "      <td>Domaine Clerget Echezeaux Grand Cru En Orveaux...</td>\n",
       "      <td>Ce vin allie la puissance et la finesse… Un vi...</td>\n",
       "      <td>domaine-clerget-echezeaux-en-orveaux-2015</td>\n",
       "      <td>2020-06-06 15:45:01</td>\n",
       "      <td>https://www.bottle-neck.fr/?post_type=product&amp;...</td>\n",
       "      <td>product</td>\n",
       "      <td>582.0</td>\n",
       "    </tr>\n",
       "    <tr>\n",
       "      <th>417</th>\n",
       "      <td>4350</td>\n",
       "      <td>1</td>\n",
       "      <td>79.5</td>\n",
       "      <td>145</td>\n",
       "      <td>instock</td>\n",
       "      <td>47.30</td>\n",
       "      <td>12588</td>\n",
       "      <td>12588</td>\n",
       "      <td>7.0</td>\n",
       "      <td>taxable</td>\n",
       "      <td>2.0</td>\n",
       "      <td>2018-03-02 10:00:02</td>\n",
       "      <td>Champagne</td>\n",
       "      <td>Champagne Egly-Ouriet Grand Cru Extra Brut V.P.</td>\n",
       "      <td>Le Grand Cru VP, pour Vieillissement Prolongé,...</td>\n",
       "      <td>champagne-egly-ouriet-extra-brut-vp</td>\n",
       "      <td>2020-08-27 11:45:02</td>\n",
       "      <td>https://www.bottle-neck.fr/?post_type=product&amp;...</td>\n",
       "      <td>product</td>\n",
       "      <td>556.5</td>\n",
       "    </tr>\n",
       "    <tr>\n",
       "      <th>174</th>\n",
       "      <td>4573</td>\n",
       "      <td>1</td>\n",
       "      <td>67.2</td>\n",
       "      <td>12</td>\n",
       "      <td>instock</td>\n",
       "      <td>36.46</td>\n",
       "      <td>13604</td>\n",
       "      <td>13604</td>\n",
       "      <td>8.0</td>\n",
       "      <td>taxable</td>\n",
       "      <td>2.0</td>\n",
       "      <td>2018-04-12 16:31:16</td>\n",
       "      <td>Vin</td>\n",
       "      <td>Château de Meursault Beaune-Grèves Les Trois J...</td>\n",
       "      <td>Le nez intense et racé évoque des saveurs mûre...</td>\n",
       "      <td>cdme-beaune-1ercru-greves-3-journaux-2015</td>\n",
       "      <td>2020-08-06 16:45:02</td>\n",
       "      <td>https://www.bottle-neck.fr/?post_type=product&amp;...</td>\n",
       "      <td>product</td>\n",
       "      <td>537.6</td>\n",
       "    </tr>\n",
       "    <tr>\n",
       "      <th>448</th>\n",
       "      <td>4402</td>\n",
       "      <td>1</td>\n",
       "      <td>176.0</td>\n",
       "      <td>11</td>\n",
       "      <td>instock</td>\n",
       "      <td>78.25</td>\n",
       "      <td>3510</td>\n",
       "      <td>3510</td>\n",
       "      <td>3.0</td>\n",
       "      <td>taxable</td>\n",
       "      <td>2.0</td>\n",
       "      <td>2018-03-22 11:21:05</td>\n",
       "      <td>Cognac</td>\n",
       "      <td>Cognac Frapin VIP XO</td>\n",
       "      <td>La cuvée VIP XO à été enrichie d’eaux-de-vie t...</td>\n",
       "      <td>cognac-frapin-vip-xo</td>\n",
       "      <td>2020-08-22 11:35:03</td>\n",
       "      <td>https://www.bottle-neck.fr/?post_type=product&amp;...</td>\n",
       "      <td>product</td>\n",
       "      <td>528.0</td>\n",
       "    </tr>\n",
       "  </tbody>\n",
       "</table>\n",
       "</div>"
      ],
      "text/plain": [
       "     product_id  onsale_web  price  stock_quantity stock_status  \\\n",
       "598        4352           1  225.0               0   outofstock   \n",
       "319        5892           1  191.3              98      instock   \n",
       "44         4353           1   79.5             127      instock   \n",
       "619        5826           1   41.2              34      instock   \n",
       "144        6212           1  115.0              16      instock   \n",
       "693        5026           1   86.8             101      instock   \n",
       "53         5008           1  105.0              12      instock   \n",
       "210        5767           1  175.0              12      instock   \n",
       "392        6126           1  135.0             138      instock   \n",
       "548        5025           1  112.0             136      instock   \n",
       "163        6201           1  105.6              16      instock   \n",
       "212        4406           1  157.0              12      instock   \n",
       "113        4647           1   28.5              45      instock   \n",
       "531        4358           1   77.0              81      instock   \n",
       "217        4359           1   85.6             112      instock   \n",
       "412        6214           1   99.0               9      instock   \n",
       "302        6202           1  116.4              12      instock   \n",
       "417        4350           1   79.5             145      instock   \n",
       "174        4573           1   67.2              12      instock   \n",
       "448        4402           1  176.0              11      instock   \n",
       "\n",
       "     purchase_price id_web    sku  total_sales tax_status  post_author  \\\n",
       "598          137.81  15940  15940         11.0    taxable          2.0   \n",
       "319          116.06  14983  14983          6.0    taxable          2.0   \n",
       "44            45.91  12587  12587         14.0    taxable          2.0   \n",
       "619           21.71  15325  15325         20.0    taxable          2.0   \n",
       "144           59.42  13996  13996          7.0    taxable          2.0   \n",
       "693           50.13  13913  13913          9.0    taxable          2.0   \n",
       "53            56.42  11602  11602          7.0    taxable          2.0   \n",
       "210           90.42  15185  15185          4.0    taxable          2.0   \n",
       "392           80.33  14923  14923          5.0    taxable          2.0   \n",
       "548           68.60  13914  13914          6.0    taxable          2.0   \n",
       "163           57.29  14596  14596          6.0    taxable          2.0   \n",
       "212           69.08   7819   7819          4.0    taxable          2.0   \n",
       "113           14.14  16525  16525         22.0    taxable          2.0   \n",
       "531           47.16  13854  13854          8.0    taxable          2.0   \n",
       "217           51.93  13853  13853          7.0    taxable          2.0   \n",
       "412           49.62  11601  11601          6.0    taxable          2.0   \n",
       "302           63.15  15126  15126          5.0    taxable          2.0   \n",
       "417           47.30  12588  12588          7.0    taxable          2.0   \n",
       "174           36.46  13604  13604          8.0    taxable          2.0   \n",
       "448           78.25   3510   3510          3.0    taxable          2.0   \n",
       "\n",
       "              post_date product_type  \\\n",
       "598 2018-03-02 10:30:04    Champagne   \n",
       "319 2019-03-28 10:21:36    Champagne   \n",
       "44  2018-03-02 10:37:26    Champagne   \n",
       "619 2019-03-27 17:59:49          Vin   \n",
       "144 2019-07-25 09:09:17          Vin   \n",
       "693 2018-07-18 10:46:30    Champagne   \n",
       "53  2018-07-17 10:52:41          Vin   \n",
       "210 2019-03-13 14:43:22          Vin   \n",
       "392 2019-06-28 17:22:27    Champagne   \n",
       "548 2018-07-18 10:39:43    Champagne   \n",
       "163 2019-07-23 10:37:14          Vin   \n",
       "212 2018-03-22 11:42:48       Cognac   \n",
       "113 2018-04-17 09:28:58          Vin   \n",
       "531 2018-03-02 11:03:30    Champagne   \n",
       "217 2018-03-02 11:11:48    Champagne   \n",
       "412 2019-07-25 09:15:41          Vin   \n",
       "302 2019-07-23 10:50:24          Vin   \n",
       "417 2018-03-02 10:00:02    Champagne   \n",
       "174 2018-04-12 16:31:16          Vin   \n",
       "448 2018-03-22 11:21:05       Cognac   \n",
       "\n",
       "                                            post_title  \\\n",
       "598     Champagne Egly-Ouriet Grand Cru Millésimé 2008   \n",
       "319  Coteaux Champenois Egly-Ouriet Ambonnay Rouge ...   \n",
       "44           Champagne Egly-Ouriet Grand Cru Brut Rosé   \n",
       "619              Agnès Levet Côte Rôtie Améthyste 2017   \n",
       "144  Domaine des Comtes Lafon Volnay 1er Cru Santen...   \n",
       "693  Champagne Agrapart &amp; Fils Minéral Extra Br...   \n",
       "53   Domaine des Comtes Lafon Volnay 1er Cru Santen...   \n",
       "210                Camille Giroud Clos de Vougeot 2016   \n",
       "392             Champagne Gosset Célébris Vintage 2007   \n",
       "548  Champagne Agrapart &amp; Fils L'Avizoise Extra...   \n",
       "163  David Duband Chambolle-Musigny 1er Cru Les Sen...   \n",
       "212  Cognac Frapin Château de Fontpinot 1989 20 Ans...   \n",
       "113  Bernard Baudry Chinon Rouge La Croix Boissée 2017   \n",
       "531  Champagne Larmandier-Bernier Grand Cru Vieille...   \n",
       "217  Champagne Larmandier-Bernier Grand Cru Les Che...   \n",
       "412  Domaine des Comtes Lafon Volnay 1er Cru Champa...   \n",
       "302  Domaine Clerget Echezeaux Grand Cru En Orveaux...   \n",
       "417    Champagne Egly-Ouriet Grand Cru Extra Brut V.P.   \n",
       "174  Château de Meursault Beaune-Grèves Les Trois J...   \n",
       "448                               Cognac Frapin VIP XO   \n",
       "\n",
       "                                          post_excerpt  \\\n",
       "598  Issu d’un assemblage de 70% de Pinot Noir du g...   \n",
       "319  Cet Ambonnay évoque les grands Pinots Noirs de...   \n",
       "44   &nbsp;\\n\\nLe Rosé Grand Cru de la maison Egly-...   \n",
       "619  <span style=\"float: none;background-color: tra...   \n",
       "144  \"Il s'agit là de la meilleure partie de l'appe...   \n",
       "693  Légèrement praliné au nez, nerveux, frais, inc...   \n",
       "53   \"Il s'agit là de la meilleure partie de l'appe...   \n",
       "210  <div>Ce vin provient de vignes âgées de 50 ans...   \n",
       "392  Une robe somptueuse a la teinte jaune pâle eti...   \n",
       "548  Une cuvée surprenante, par son amer articulé a...   \n",
       "163  Une robe d'un rouge carmin avec des reflets br...   \n",
       "212  Eau-de-Vie distillée à partir de raisins de Gr...   \n",
       "113  Sur ce sol très calcaire, la Croix Boissée dél...   \n",
       "531  Une très belle robe or jaune dore. Le nez est ...   \n",
       "217  Belle maîtrise de ce millésime compliqué en Ch...   \n",
       "412  La couleur rouge intense annonce un belle conc...   \n",
       "302  Ce vin allie la puissance et la finesse… Un vi...   \n",
       "417  Le Grand Cru VP, pour Vieillissement Prolongé,...   \n",
       "174  Le nez intense et racé évoque des saveurs mûre...   \n",
       "448  La cuvée VIP XO à été enrichie d’eaux-de-vie t...   \n",
       "\n",
       "                                             post_name       post_modified  \\\n",
       "598     champagne-egly-ouriet-grand-cru-millesime-2008 2020-03-07 11:18:45   \n",
       "319  coteaux-champenois-egly-ouriet-ambonnay-rouge-... 2020-04-01 09:30:09   \n",
       "44           champagne-egly-ouriet-grand-cru-brut-rose 2020-08-22 11:45:02   \n",
       "619                         agnes-levet-amethyste-2017 2020-05-21 14:00:02   \n",
       "144  domaine-des-comtes-lafon-volnay-1er-cru-santen... 2020-06-16 09:30:16   \n",
       "693  champagne-agrapart-fils-mineral-extra-brut-bla... 2020-05-11 14:35:02   \n",
       "53   domaine-des-comtes-lafon-volnay-1er-cru-santen... 2020-06-23 15:35:02   \n",
       "210                camille-giroud-clos-de-vougeot-2016 2020-06-11 15:25:04   \n",
       "392             champagne-gosset-celebris-vintage-2007 2020-08-27 11:45:02   \n",
       "548  champagne-agrapart-fils-lavizoise-grand-cru-20... 2020-07-09 17:05:02   \n",
       "163  david-duband-chambolle-musigny-1er-cru-les-sen... 2020-02-29 15:25:02   \n",
       "212     cognac-frapin-chateau-de-fontpinot-1989-20-ans 2020-03-14 16:05:04   \n",
       "113     bernard-baudry-chinon-rouge-croix-boissee-2017 2020-07-31 09:31:39   \n",
       "531  champagne-larmandier-bernier-vieilles-vignes-l... 2020-01-04 11:07:14   \n",
       "217  champagne-larmandier-bernier-grand-cru-vieille... 2019-12-23 09:30:11   \n",
       "412  domaine-des-comtes-lafon-volnay-1er-cru-champa... 2020-07-04 11:35:02   \n",
       "302          domaine-clerget-echezeaux-en-orveaux-2015 2020-06-06 15:45:01   \n",
       "417                champagne-egly-ouriet-extra-brut-vp 2020-08-27 11:45:02   \n",
       "174          cdme-beaune-1ercru-greves-3-journaux-2015 2020-08-06 16:45:02   \n",
       "448                               cognac-frapin-vip-xo 2020-08-22 11:35:03   \n",
       "\n",
       "                                                  guid post_type  \\\n",
       "598  https://www.bottle-neck.fr/?post_type=product&...   product   \n",
       "319  https://www.bottle-neck.fr/?post_type=product&...   product   \n",
       "44   https://www.bottle-neck.fr/?post_type=product&...   product   \n",
       "619  https://www.bottle-neck.fr/?post_type=product&...   product   \n",
       "144  https://www.bottle-neck.fr/?post_type=product&...   product   \n",
       "693  https://www.bottle-neck.fr/?post_type=product&...   product   \n",
       "53   https://www.bottle-neck.fr/?post_type=product&...   product   \n",
       "210  https://www.bottle-neck.fr/?post_type=product&...   product   \n",
       "392  https://www.bottle-neck.fr/?post_type=product&...   product   \n",
       "548  https://www.bottle-neck.fr/?post_type=product&...   product   \n",
       "163  https://www.bottle-neck.fr/?post_type=product&...   product   \n",
       "212  https://www.bottle-neck.fr/?post_type=product&...   product   \n",
       "113  https://www.bottle-neck.fr/?post_type=product&...   product   \n",
       "531  https://www.bottle-neck.fr/?post_type=product&...   product   \n",
       "217  https://www.bottle-neck.fr/?post_type=product&...   product   \n",
       "412  https://www.bottle-neck.fr/?post_type=product&...   product   \n",
       "302  https://www.bottle-neck.fr/?post_type=product&...   product   \n",
       "417  https://www.bottle-neck.fr/?post_type=product&...   product   \n",
       "174  https://www.bottle-neck.fr/?post_type=product&...   product   \n",
       "448  https://www.bottle-neck.fr/?post_type=product&...   product   \n",
       "\n",
       "     ca_par_article  \n",
       "598          2475.0  \n",
       "319          1147.8  \n",
       "44           1113.0  \n",
       "619           824.0  \n",
       "144           805.0  \n",
       "693           781.2  \n",
       "53            735.0  \n",
       "210           700.0  \n",
       "392           675.0  \n",
       "548           672.0  \n",
       "163           633.6  \n",
       "212           628.0  \n",
       "113           627.0  \n",
       "531           616.0  \n",
       "217           599.2  \n",
       "412           594.0  \n",
       "302           582.0  \n",
       "417           556.5  \n",
       "174           537.6  \n",
       "448           528.0  "
      ]
     },
     "metadata": {},
     "output_type": "display_data"
    },
    {
     "data": {
      "application/vnd.plotly.v1+json": {
       "config": {
        "plotlyServerURL": "https://plot.ly"
       },
       "data": [
        {
         "alignmentgroup": "True",
         "cliponaxis": false,
         "hovertemplate": "Articles=%{x}<br>CA / article=%{y}<extra></extra>",
         "legendgroup": "",
         "marker": {
          "color": "rgb(102, 197, 204)",
          "pattern": {
           "shape": ""
          }
         },
         "name": "",
         "offsetgroup": "",
         "orientation": "v",
         "showlegend": false,
         "textangle": 0,
         "textfont": {
          "size": 12
         },
         "textposition": "outside",
         "texttemplate": "%{y}",
         "type": "bar",
         "x": [
          "Champagne Egly-Ouriet Grand Cru Millésimé 2008",
          "Coteaux Champenois Egly-Ouriet Ambonnay Rouge 2016",
          "Champagne Egly-Ouriet Grand Cru Brut Rosé",
          "Agnès Levet Côte Rôtie Améthyste 2017",
          "Domaine des Comtes Lafon Volnay 1er Cru Santenots du Milieu 2015",
          "Champagne Agrapart &amp; Fils Minéral Extra Brut Blanc de Blancs Grand Cru 2012",
          "Domaine des Comtes Lafon Volnay 1er Cru Santenots du Milieu 2013",
          "Camille Giroud Clos de Vougeot 2016",
          "Champagne Gosset Célébris Vintage 2007",
          "Champagne Agrapart &amp; Fils L'Avizoise Extra Brut Blanc de Blancs Grand Cru 2012",
          "David Duband Chambolle-Musigny 1er Cru Les Sentiers 2016",
          "Cognac Frapin Château de Fontpinot 1989 20 Ans d'Age",
          "Bernard Baudry Chinon Rouge La Croix Boissée 2017",
          "Champagne Larmandier-Bernier Grand Cru Vieilles Vignes du Levant 2008",
          "Champagne Larmandier-Bernier Grand Cru Les Chemins d'Avize 2011",
          "Domaine des Comtes Lafon Volnay 1er Cru Champans 2013",
          "Domaine Clerget Echezeaux Grand Cru En Orveaux 2015",
          "Champagne Egly-Ouriet Grand Cru Extra Brut V.P.",
          "Château de Meursault Beaune-Grèves Les Trois Journaux 1er Cru 2015",
          "Cognac Frapin VIP XO"
         ],
         "xaxis": "x",
         "y": [
          2475,
          1147.8000000000002,
          1113,
          824,
          805,
          781.1999999999999,
          735,
          700,
          675,
          672,
          633.5999999999999,
          628,
          627,
          616,
          599.1999999999999,
          594,
          582,
          556.5,
          537.6,
          528
         ],
         "yaxis": "y"
        }
       ],
       "layout": {
        "barmode": "relative",
        "legend": {
         "tracegroupgap": 0
        },
        "template": {
         "data": {
          "bar": [
           {
            "error_x": {
             "color": "#2a3f5f"
            },
            "error_y": {
             "color": "#2a3f5f"
            },
            "marker": {
             "line": {
              "color": "#E5ECF6",
              "width": 0.5
             },
             "pattern": {
              "fillmode": "overlay",
              "size": 10,
              "solidity": 0.2
             }
            },
            "type": "bar"
           }
          ],
          "barpolar": [
           {
            "marker": {
             "line": {
              "color": "#E5ECF6",
              "width": 0.5
             },
             "pattern": {
              "fillmode": "overlay",
              "size": 10,
              "solidity": 0.2
             }
            },
            "type": "barpolar"
           }
          ],
          "carpet": [
           {
            "aaxis": {
             "endlinecolor": "#2a3f5f",
             "gridcolor": "white",
             "linecolor": "white",
             "minorgridcolor": "white",
             "startlinecolor": "#2a3f5f"
            },
            "baxis": {
             "endlinecolor": "#2a3f5f",
             "gridcolor": "white",
             "linecolor": "white",
             "minorgridcolor": "white",
             "startlinecolor": "#2a3f5f"
            },
            "type": "carpet"
           }
          ],
          "choropleth": [
           {
            "colorbar": {
             "outlinewidth": 0,
             "ticks": ""
            },
            "type": "choropleth"
           }
          ],
          "contour": [
           {
            "colorbar": {
             "outlinewidth": 0,
             "ticks": ""
            },
            "colorscale": [
             [
              0,
              "#0d0887"
             ],
             [
              0.1111111111111111,
              "#46039f"
             ],
             [
              0.2222222222222222,
              "#7201a8"
             ],
             [
              0.3333333333333333,
              "#9c179e"
             ],
             [
              0.4444444444444444,
              "#bd3786"
             ],
             [
              0.5555555555555556,
              "#d8576b"
             ],
             [
              0.6666666666666666,
              "#ed7953"
             ],
             [
              0.7777777777777778,
              "#fb9f3a"
             ],
             [
              0.8888888888888888,
              "#fdca26"
             ],
             [
              1,
              "#f0f921"
             ]
            ],
            "type": "contour"
           }
          ],
          "contourcarpet": [
           {
            "colorbar": {
             "outlinewidth": 0,
             "ticks": ""
            },
            "type": "contourcarpet"
           }
          ],
          "heatmap": [
           {
            "colorbar": {
             "outlinewidth": 0,
             "ticks": ""
            },
            "colorscale": [
             [
              0,
              "#0d0887"
             ],
             [
              0.1111111111111111,
              "#46039f"
             ],
             [
              0.2222222222222222,
              "#7201a8"
             ],
             [
              0.3333333333333333,
              "#9c179e"
             ],
             [
              0.4444444444444444,
              "#bd3786"
             ],
             [
              0.5555555555555556,
              "#d8576b"
             ],
             [
              0.6666666666666666,
              "#ed7953"
             ],
             [
              0.7777777777777778,
              "#fb9f3a"
             ],
             [
              0.8888888888888888,
              "#fdca26"
             ],
             [
              1,
              "#f0f921"
             ]
            ],
            "type": "heatmap"
           }
          ],
          "heatmapgl": [
           {
            "colorbar": {
             "outlinewidth": 0,
             "ticks": ""
            },
            "colorscale": [
             [
              0,
              "#0d0887"
             ],
             [
              0.1111111111111111,
              "#46039f"
             ],
             [
              0.2222222222222222,
              "#7201a8"
             ],
             [
              0.3333333333333333,
              "#9c179e"
             ],
             [
              0.4444444444444444,
              "#bd3786"
             ],
             [
              0.5555555555555556,
              "#d8576b"
             ],
             [
              0.6666666666666666,
              "#ed7953"
             ],
             [
              0.7777777777777778,
              "#fb9f3a"
             ],
             [
              0.8888888888888888,
              "#fdca26"
             ],
             [
              1,
              "#f0f921"
             ]
            ],
            "type": "heatmapgl"
           }
          ],
          "histogram": [
           {
            "marker": {
             "pattern": {
              "fillmode": "overlay",
              "size": 10,
              "solidity": 0.2
             }
            },
            "type": "histogram"
           }
          ],
          "histogram2d": [
           {
            "colorbar": {
             "outlinewidth": 0,
             "ticks": ""
            },
            "colorscale": [
             [
              0,
              "#0d0887"
             ],
             [
              0.1111111111111111,
              "#46039f"
             ],
             [
              0.2222222222222222,
              "#7201a8"
             ],
             [
              0.3333333333333333,
              "#9c179e"
             ],
             [
              0.4444444444444444,
              "#bd3786"
             ],
             [
              0.5555555555555556,
              "#d8576b"
             ],
             [
              0.6666666666666666,
              "#ed7953"
             ],
             [
              0.7777777777777778,
              "#fb9f3a"
             ],
             [
              0.8888888888888888,
              "#fdca26"
             ],
             [
              1,
              "#f0f921"
             ]
            ],
            "type": "histogram2d"
           }
          ],
          "histogram2dcontour": [
           {
            "colorbar": {
             "outlinewidth": 0,
             "ticks": ""
            },
            "colorscale": [
             [
              0,
              "#0d0887"
             ],
             [
              0.1111111111111111,
              "#46039f"
             ],
             [
              0.2222222222222222,
              "#7201a8"
             ],
             [
              0.3333333333333333,
              "#9c179e"
             ],
             [
              0.4444444444444444,
              "#bd3786"
             ],
             [
              0.5555555555555556,
              "#d8576b"
             ],
             [
              0.6666666666666666,
              "#ed7953"
             ],
             [
              0.7777777777777778,
              "#fb9f3a"
             ],
             [
              0.8888888888888888,
              "#fdca26"
             ],
             [
              1,
              "#f0f921"
             ]
            ],
            "type": "histogram2dcontour"
           }
          ],
          "mesh3d": [
           {
            "colorbar": {
             "outlinewidth": 0,
             "ticks": ""
            },
            "type": "mesh3d"
           }
          ],
          "parcoords": [
           {
            "line": {
             "colorbar": {
              "outlinewidth": 0,
              "ticks": ""
             }
            },
            "type": "parcoords"
           }
          ],
          "pie": [
           {
            "automargin": true,
            "type": "pie"
           }
          ],
          "scatter": [
           {
            "fillpattern": {
             "fillmode": "overlay",
             "size": 10,
             "solidity": 0.2
            },
            "type": "scatter"
           }
          ],
          "scatter3d": [
           {
            "line": {
             "colorbar": {
              "outlinewidth": 0,
              "ticks": ""
             }
            },
            "marker": {
             "colorbar": {
              "outlinewidth": 0,
              "ticks": ""
             }
            },
            "type": "scatter3d"
           }
          ],
          "scattercarpet": [
           {
            "marker": {
             "colorbar": {
              "outlinewidth": 0,
              "ticks": ""
             }
            },
            "type": "scattercarpet"
           }
          ],
          "scattergeo": [
           {
            "marker": {
             "colorbar": {
              "outlinewidth": 0,
              "ticks": ""
             }
            },
            "type": "scattergeo"
           }
          ],
          "scattergl": [
           {
            "marker": {
             "colorbar": {
              "outlinewidth": 0,
              "ticks": ""
             }
            },
            "type": "scattergl"
           }
          ],
          "scattermapbox": [
           {
            "marker": {
             "colorbar": {
              "outlinewidth": 0,
              "ticks": ""
             }
            },
            "type": "scattermapbox"
           }
          ],
          "scatterpolar": [
           {
            "marker": {
             "colorbar": {
              "outlinewidth": 0,
              "ticks": ""
             }
            },
            "type": "scatterpolar"
           }
          ],
          "scatterpolargl": [
           {
            "marker": {
             "colorbar": {
              "outlinewidth": 0,
              "ticks": ""
             }
            },
            "type": "scatterpolargl"
           }
          ],
          "scatterternary": [
           {
            "marker": {
             "colorbar": {
              "outlinewidth": 0,
              "ticks": ""
             }
            },
            "type": "scatterternary"
           }
          ],
          "surface": [
           {
            "colorbar": {
             "outlinewidth": 0,
             "ticks": ""
            },
            "colorscale": [
             [
              0,
              "#0d0887"
             ],
             [
              0.1111111111111111,
              "#46039f"
             ],
             [
              0.2222222222222222,
              "#7201a8"
             ],
             [
              0.3333333333333333,
              "#9c179e"
             ],
             [
              0.4444444444444444,
              "#bd3786"
             ],
             [
              0.5555555555555556,
              "#d8576b"
             ],
             [
              0.6666666666666666,
              "#ed7953"
             ],
             [
              0.7777777777777778,
              "#fb9f3a"
             ],
             [
              0.8888888888888888,
              "#fdca26"
             ],
             [
              1,
              "#f0f921"
             ]
            ],
            "type": "surface"
           }
          ],
          "table": [
           {
            "cells": {
             "fill": {
              "color": "#EBF0F8"
             },
             "line": {
              "color": "white"
             }
            },
            "header": {
             "fill": {
              "color": "#C8D4E3"
             },
             "line": {
              "color": "white"
             }
            },
            "type": "table"
           }
          ]
         },
         "layout": {
          "annotationdefaults": {
           "arrowcolor": "#2a3f5f",
           "arrowhead": 0,
           "arrowwidth": 1
          },
          "autotypenumbers": "strict",
          "coloraxis": {
           "colorbar": {
            "outlinewidth": 0,
            "ticks": ""
           }
          },
          "colorscale": {
           "diverging": [
            [
             0,
             "#8e0152"
            ],
            [
             0.1,
             "#c51b7d"
            ],
            [
             0.2,
             "#de77ae"
            ],
            [
             0.3,
             "#f1b6da"
            ],
            [
             0.4,
             "#fde0ef"
            ],
            [
             0.5,
             "#f7f7f7"
            ],
            [
             0.6,
             "#e6f5d0"
            ],
            [
             0.7,
             "#b8e186"
            ],
            [
             0.8,
             "#7fbc41"
            ],
            [
             0.9,
             "#4d9221"
            ],
            [
             1,
             "#276419"
            ]
           ],
           "sequential": [
            [
             0,
             "#0d0887"
            ],
            [
             0.1111111111111111,
             "#46039f"
            ],
            [
             0.2222222222222222,
             "#7201a8"
            ],
            [
             0.3333333333333333,
             "#9c179e"
            ],
            [
             0.4444444444444444,
             "#bd3786"
            ],
            [
             0.5555555555555556,
             "#d8576b"
            ],
            [
             0.6666666666666666,
             "#ed7953"
            ],
            [
             0.7777777777777778,
             "#fb9f3a"
            ],
            [
             0.8888888888888888,
             "#fdca26"
            ],
            [
             1,
             "#f0f921"
            ]
           ],
           "sequentialminus": [
            [
             0,
             "#0d0887"
            ],
            [
             0.1111111111111111,
             "#46039f"
            ],
            [
             0.2222222222222222,
             "#7201a8"
            ],
            [
             0.3333333333333333,
             "#9c179e"
            ],
            [
             0.4444444444444444,
             "#bd3786"
            ],
            [
             0.5555555555555556,
             "#d8576b"
            ],
            [
             0.6666666666666666,
             "#ed7953"
            ],
            [
             0.7777777777777778,
             "#fb9f3a"
            ],
            [
             0.8888888888888888,
             "#fdca26"
            ],
            [
             1,
             "#f0f921"
            ]
           ]
          },
          "colorway": [
           "#636efa",
           "#EF553B",
           "#00cc96",
           "#ab63fa",
           "#FFA15A",
           "#19d3f3",
           "#FF6692",
           "#B6E880",
           "#FF97FF",
           "#FECB52"
          ],
          "font": {
           "color": "#2a3f5f"
          },
          "geo": {
           "bgcolor": "white",
           "lakecolor": "white",
           "landcolor": "#E5ECF6",
           "showlakes": true,
           "showland": true,
           "subunitcolor": "white"
          },
          "hoverlabel": {
           "align": "left"
          },
          "hovermode": "closest",
          "mapbox": {
           "style": "light"
          },
          "paper_bgcolor": "white",
          "plot_bgcolor": "#E5ECF6",
          "polar": {
           "angularaxis": {
            "gridcolor": "white",
            "linecolor": "white",
            "ticks": ""
           },
           "bgcolor": "#E5ECF6",
           "radialaxis": {
            "gridcolor": "white",
            "linecolor": "white",
            "ticks": ""
           }
          },
          "scene": {
           "xaxis": {
            "backgroundcolor": "#E5ECF6",
            "gridcolor": "white",
            "gridwidth": 2,
            "linecolor": "white",
            "showbackground": true,
            "ticks": "",
            "zerolinecolor": "white"
           },
           "yaxis": {
            "backgroundcolor": "#E5ECF6",
            "gridcolor": "white",
            "gridwidth": 2,
            "linecolor": "white",
            "showbackground": true,
            "ticks": "",
            "zerolinecolor": "white"
           },
           "zaxis": {
            "backgroundcolor": "#E5ECF6",
            "gridcolor": "white",
            "gridwidth": 2,
            "linecolor": "white",
            "showbackground": true,
            "ticks": "",
            "zerolinecolor": "white"
           }
          },
          "shapedefaults": {
           "line": {
            "color": "#2a3f5f"
           }
          },
          "ternary": {
           "aaxis": {
            "gridcolor": "white",
            "linecolor": "white",
            "ticks": ""
           },
           "baxis": {
            "gridcolor": "white",
            "linecolor": "white",
            "ticks": ""
           },
           "bgcolor": "#E5ECF6",
           "caxis": {
            "gridcolor": "white",
            "linecolor": "white",
            "ticks": ""
           }
          },
          "title": {
           "x": 0.05
          },
          "xaxis": {
           "automargin": true,
           "gridcolor": "white",
           "linecolor": "white",
           "ticks": "",
           "title": {
            "standoff": 15
           },
           "zerolinecolor": "white",
           "zerolinewidth": 2
          },
          "yaxis": {
           "automargin": true,
           "gridcolor": "white",
           "linecolor": "white",
           "ticks": "",
           "title": {
            "standoff": 15
           },
           "zerolinecolor": "white",
           "zerolinewidth": 2
          }
         }
        },
        "title": {
         "text": "Top 20 articles par CA"
        },
        "xaxis": {
         "anchor": "y",
         "domain": [
          0,
          1
         ],
         "title": {
          "text": "Articles"
         }
        },
        "yaxis": {
         "anchor": "x",
         "domain": [
          0,
          1
         ],
         "title": {
          "text": "CA / article"
         }
        }
       }
      }
     },
     "metadata": {},
     "output_type": "display_data"
    }
   ],
   "source": [
    "###############################\n",
    "# Palmares des articles en CA #\n",
    "###############################\n",
    "\n",
    "#Effectuer le tri dans l'ordre décroissant du CA du dataset df_merge\n",
    "df_temp = df_merge.sort_values('ca_par_article', ascending=False)\n",
    "#Réinitialiser l'index du dataset par un reset_index\n",
    "df_temp.reset_index()\n",
    "#Afficher les 20 premier articles en CA\n",
    "df_top20_ca = df_temp.head(20)\n",
    "display(df_top20_ca)\n",
    "#Graphique en barre des 20 premiers articles avec plotly express\n",
    "fig = px.bar(df_top20_ca,x='post_title',y='ca_par_article',\n",
    "             color_discrete_sequence=px.colors.qualitative.Pastel,\n",
    "             title=\"Top 20 articles par CA\",\n",
    "             text_auto=True,\n",
    "             labels={'ca_par_article':'CA / article','post_title':'Articles'}\n",
    "\n",
    "            )\n",
    "fig.update_traces(textfont_size=12, textangle=0,textposition=\"outside\",cliponaxis=False)\n",
    "fig.show()"
   ]
  },
  {
   "cell_type": "code",
   "execution_count": 57,
   "id": "d7e5e87b",
   "metadata": {},
   "outputs": [
    {
     "name": "stdout",
     "output_type": "stream",
     "text": [
      "Il y a 664 articles qui représentent 80% du CA.\n"
     ]
    },
    {
     "data": {
      "application/vnd.plotly.v1+json": {
       "config": {
        "plotlyServerURL": "https://plot.ly"
       },
       "data": [
        {
         "alignmentgroup": "True",
         "cliponaxis": false,
         "hovertemplate": "Catégorie=%{x}<br>Nombre d'articles=%{y}<extra></extra>",
         "legendgroup": "80%CA",
         "marker": {
          "color": "rgb(102, 197, 204)",
          "pattern": {
           "shape": ""
          }
         },
         "name": "80%CA",
         "offsetgroup": "80%CA",
         "orientation": "v",
         "showlegend": true,
         "textangle": 0,
         "textfont": {
          "size": 16
         },
         "textposition": "inside",
         "texttemplate": "%{y}",
         "type": "bar",
         "x": [
          "80%CA"
         ],
         "xaxis": "x",
         "y": [
          664
         ],
         "yaxis": "y"
        },
        {
         "alignmentgroup": "True",
         "cliponaxis": false,
         "hovertemplate": "Catégorie=%{x}<br>Nombre d'articles=%{y}<extra></extra>",
         "legendgroup": "20%CA",
         "marker": {
          "color": "rgb(246, 207, 113)",
          "pattern": {
           "shape": ""
          }
         },
         "name": "20%CA",
         "offsetgroup": "20%CA",
         "orientation": "v",
         "showlegend": true,
         "textangle": 0,
         "textfont": {
          "size": 16
         },
         "textposition": "inside",
         "texttemplate": "%{y}",
         "type": "bar",
         "x": [
          "20%CA"
         ],
         "xaxis": "x",
         "y": [
          50
         ],
         "yaxis": "y"
        }
       ],
       "layout": {
        "barmode": "relative",
        "legend": {
         "title": {
          "text": "Catégorie"
         },
         "tracegroupgap": 0
        },
        "showlegend": false,
        "template": {
         "data": {
          "bar": [
           {
            "error_x": {
             "color": "#2a3f5f"
            },
            "error_y": {
             "color": "#2a3f5f"
            },
            "marker": {
             "line": {
              "color": "#E5ECF6",
              "width": 0.5
             },
             "pattern": {
              "fillmode": "overlay",
              "size": 10,
              "solidity": 0.2
             }
            },
            "type": "bar"
           }
          ],
          "barpolar": [
           {
            "marker": {
             "line": {
              "color": "#E5ECF6",
              "width": 0.5
             },
             "pattern": {
              "fillmode": "overlay",
              "size": 10,
              "solidity": 0.2
             }
            },
            "type": "barpolar"
           }
          ],
          "carpet": [
           {
            "aaxis": {
             "endlinecolor": "#2a3f5f",
             "gridcolor": "white",
             "linecolor": "white",
             "minorgridcolor": "white",
             "startlinecolor": "#2a3f5f"
            },
            "baxis": {
             "endlinecolor": "#2a3f5f",
             "gridcolor": "white",
             "linecolor": "white",
             "minorgridcolor": "white",
             "startlinecolor": "#2a3f5f"
            },
            "type": "carpet"
           }
          ],
          "choropleth": [
           {
            "colorbar": {
             "outlinewidth": 0,
             "ticks": ""
            },
            "type": "choropleth"
           }
          ],
          "contour": [
           {
            "colorbar": {
             "outlinewidth": 0,
             "ticks": ""
            },
            "colorscale": [
             [
              0,
              "#0d0887"
             ],
             [
              0.1111111111111111,
              "#46039f"
             ],
             [
              0.2222222222222222,
              "#7201a8"
             ],
             [
              0.3333333333333333,
              "#9c179e"
             ],
             [
              0.4444444444444444,
              "#bd3786"
             ],
             [
              0.5555555555555556,
              "#d8576b"
             ],
             [
              0.6666666666666666,
              "#ed7953"
             ],
             [
              0.7777777777777778,
              "#fb9f3a"
             ],
             [
              0.8888888888888888,
              "#fdca26"
             ],
             [
              1,
              "#f0f921"
             ]
            ],
            "type": "contour"
           }
          ],
          "contourcarpet": [
           {
            "colorbar": {
             "outlinewidth": 0,
             "ticks": ""
            },
            "type": "contourcarpet"
           }
          ],
          "heatmap": [
           {
            "colorbar": {
             "outlinewidth": 0,
             "ticks": ""
            },
            "colorscale": [
             [
              0,
              "#0d0887"
             ],
             [
              0.1111111111111111,
              "#46039f"
             ],
             [
              0.2222222222222222,
              "#7201a8"
             ],
             [
              0.3333333333333333,
              "#9c179e"
             ],
             [
              0.4444444444444444,
              "#bd3786"
             ],
             [
              0.5555555555555556,
              "#d8576b"
             ],
             [
              0.6666666666666666,
              "#ed7953"
             ],
             [
              0.7777777777777778,
              "#fb9f3a"
             ],
             [
              0.8888888888888888,
              "#fdca26"
             ],
             [
              1,
              "#f0f921"
             ]
            ],
            "type": "heatmap"
           }
          ],
          "heatmapgl": [
           {
            "colorbar": {
             "outlinewidth": 0,
             "ticks": ""
            },
            "colorscale": [
             [
              0,
              "#0d0887"
             ],
             [
              0.1111111111111111,
              "#46039f"
             ],
             [
              0.2222222222222222,
              "#7201a8"
             ],
             [
              0.3333333333333333,
              "#9c179e"
             ],
             [
              0.4444444444444444,
              "#bd3786"
             ],
             [
              0.5555555555555556,
              "#d8576b"
             ],
             [
              0.6666666666666666,
              "#ed7953"
             ],
             [
              0.7777777777777778,
              "#fb9f3a"
             ],
             [
              0.8888888888888888,
              "#fdca26"
             ],
             [
              1,
              "#f0f921"
             ]
            ],
            "type": "heatmapgl"
           }
          ],
          "histogram": [
           {
            "marker": {
             "pattern": {
              "fillmode": "overlay",
              "size": 10,
              "solidity": 0.2
             }
            },
            "type": "histogram"
           }
          ],
          "histogram2d": [
           {
            "colorbar": {
             "outlinewidth": 0,
             "ticks": ""
            },
            "colorscale": [
             [
              0,
              "#0d0887"
             ],
             [
              0.1111111111111111,
              "#46039f"
             ],
             [
              0.2222222222222222,
              "#7201a8"
             ],
             [
              0.3333333333333333,
              "#9c179e"
             ],
             [
              0.4444444444444444,
              "#bd3786"
             ],
             [
              0.5555555555555556,
              "#d8576b"
             ],
             [
              0.6666666666666666,
              "#ed7953"
             ],
             [
              0.7777777777777778,
              "#fb9f3a"
             ],
             [
              0.8888888888888888,
              "#fdca26"
             ],
             [
              1,
              "#f0f921"
             ]
            ],
            "type": "histogram2d"
           }
          ],
          "histogram2dcontour": [
           {
            "colorbar": {
             "outlinewidth": 0,
             "ticks": ""
            },
            "colorscale": [
             [
              0,
              "#0d0887"
             ],
             [
              0.1111111111111111,
              "#46039f"
             ],
             [
              0.2222222222222222,
              "#7201a8"
             ],
             [
              0.3333333333333333,
              "#9c179e"
             ],
             [
              0.4444444444444444,
              "#bd3786"
             ],
             [
              0.5555555555555556,
              "#d8576b"
             ],
             [
              0.6666666666666666,
              "#ed7953"
             ],
             [
              0.7777777777777778,
              "#fb9f3a"
             ],
             [
              0.8888888888888888,
              "#fdca26"
             ],
             [
              1,
              "#f0f921"
             ]
            ],
            "type": "histogram2dcontour"
           }
          ],
          "mesh3d": [
           {
            "colorbar": {
             "outlinewidth": 0,
             "ticks": ""
            },
            "type": "mesh3d"
           }
          ],
          "parcoords": [
           {
            "line": {
             "colorbar": {
              "outlinewidth": 0,
              "ticks": ""
             }
            },
            "type": "parcoords"
           }
          ],
          "pie": [
           {
            "automargin": true,
            "type": "pie"
           }
          ],
          "scatter": [
           {
            "fillpattern": {
             "fillmode": "overlay",
             "size": 10,
             "solidity": 0.2
            },
            "type": "scatter"
           }
          ],
          "scatter3d": [
           {
            "line": {
             "colorbar": {
              "outlinewidth": 0,
              "ticks": ""
             }
            },
            "marker": {
             "colorbar": {
              "outlinewidth": 0,
              "ticks": ""
             }
            },
            "type": "scatter3d"
           }
          ],
          "scattercarpet": [
           {
            "marker": {
             "colorbar": {
              "outlinewidth": 0,
              "ticks": ""
             }
            },
            "type": "scattercarpet"
           }
          ],
          "scattergeo": [
           {
            "marker": {
             "colorbar": {
              "outlinewidth": 0,
              "ticks": ""
             }
            },
            "type": "scattergeo"
           }
          ],
          "scattergl": [
           {
            "marker": {
             "colorbar": {
              "outlinewidth": 0,
              "ticks": ""
             }
            },
            "type": "scattergl"
           }
          ],
          "scattermapbox": [
           {
            "marker": {
             "colorbar": {
              "outlinewidth": 0,
              "ticks": ""
             }
            },
            "type": "scattermapbox"
           }
          ],
          "scatterpolar": [
           {
            "marker": {
             "colorbar": {
              "outlinewidth": 0,
              "ticks": ""
             }
            },
            "type": "scatterpolar"
           }
          ],
          "scatterpolargl": [
           {
            "marker": {
             "colorbar": {
              "outlinewidth": 0,
              "ticks": ""
             }
            },
            "type": "scatterpolargl"
           }
          ],
          "scatterternary": [
           {
            "marker": {
             "colorbar": {
              "outlinewidth": 0,
              "ticks": ""
             }
            },
            "type": "scatterternary"
           }
          ],
          "surface": [
           {
            "colorbar": {
             "outlinewidth": 0,
             "ticks": ""
            },
            "colorscale": [
             [
              0,
              "#0d0887"
             ],
             [
              0.1111111111111111,
              "#46039f"
             ],
             [
              0.2222222222222222,
              "#7201a8"
             ],
             [
              0.3333333333333333,
              "#9c179e"
             ],
             [
              0.4444444444444444,
              "#bd3786"
             ],
             [
              0.5555555555555556,
              "#d8576b"
             ],
             [
              0.6666666666666666,
              "#ed7953"
             ],
             [
              0.7777777777777778,
              "#fb9f3a"
             ],
             [
              0.8888888888888888,
              "#fdca26"
             ],
             [
              1,
              "#f0f921"
             ]
            ],
            "type": "surface"
           }
          ],
          "table": [
           {
            "cells": {
             "fill": {
              "color": "#EBF0F8"
             },
             "line": {
              "color": "white"
             }
            },
            "header": {
             "fill": {
              "color": "#C8D4E3"
             },
             "line": {
              "color": "white"
             }
            },
            "type": "table"
           }
          ]
         },
         "layout": {
          "annotationdefaults": {
           "arrowcolor": "#2a3f5f",
           "arrowhead": 0,
           "arrowwidth": 1
          },
          "autotypenumbers": "strict",
          "coloraxis": {
           "colorbar": {
            "outlinewidth": 0,
            "ticks": ""
           }
          },
          "colorscale": {
           "diverging": [
            [
             0,
             "#8e0152"
            ],
            [
             0.1,
             "#c51b7d"
            ],
            [
             0.2,
             "#de77ae"
            ],
            [
             0.3,
             "#f1b6da"
            ],
            [
             0.4,
             "#fde0ef"
            ],
            [
             0.5,
             "#f7f7f7"
            ],
            [
             0.6,
             "#e6f5d0"
            ],
            [
             0.7,
             "#b8e186"
            ],
            [
             0.8,
             "#7fbc41"
            ],
            [
             0.9,
             "#4d9221"
            ],
            [
             1,
             "#276419"
            ]
           ],
           "sequential": [
            [
             0,
             "#0d0887"
            ],
            [
             0.1111111111111111,
             "#46039f"
            ],
            [
             0.2222222222222222,
             "#7201a8"
            ],
            [
             0.3333333333333333,
             "#9c179e"
            ],
            [
             0.4444444444444444,
             "#bd3786"
            ],
            [
             0.5555555555555556,
             "#d8576b"
            ],
            [
             0.6666666666666666,
             "#ed7953"
            ],
            [
             0.7777777777777778,
             "#fb9f3a"
            ],
            [
             0.8888888888888888,
             "#fdca26"
            ],
            [
             1,
             "#f0f921"
            ]
           ],
           "sequentialminus": [
            [
             0,
             "#0d0887"
            ],
            [
             0.1111111111111111,
             "#46039f"
            ],
            [
             0.2222222222222222,
             "#7201a8"
            ],
            [
             0.3333333333333333,
             "#9c179e"
            ],
            [
             0.4444444444444444,
             "#bd3786"
            ],
            [
             0.5555555555555556,
             "#d8576b"
            ],
            [
             0.6666666666666666,
             "#ed7953"
            ],
            [
             0.7777777777777778,
             "#fb9f3a"
            ],
            [
             0.8888888888888888,
             "#fdca26"
            ],
            [
             1,
             "#f0f921"
            ]
           ]
          },
          "colorway": [
           "#636efa",
           "#EF553B",
           "#00cc96",
           "#ab63fa",
           "#FFA15A",
           "#19d3f3",
           "#FF6692",
           "#B6E880",
           "#FF97FF",
           "#FECB52"
          ],
          "font": {
           "color": "#2a3f5f"
          },
          "geo": {
           "bgcolor": "white",
           "lakecolor": "white",
           "landcolor": "#E5ECF6",
           "showlakes": true,
           "showland": true,
           "subunitcolor": "white"
          },
          "hoverlabel": {
           "align": "left"
          },
          "hovermode": "closest",
          "mapbox": {
           "style": "light"
          },
          "paper_bgcolor": "white",
          "plot_bgcolor": "#E5ECF6",
          "polar": {
           "angularaxis": {
            "gridcolor": "white",
            "linecolor": "white",
            "ticks": ""
           },
           "bgcolor": "#E5ECF6",
           "radialaxis": {
            "gridcolor": "white",
            "linecolor": "white",
            "ticks": ""
           }
          },
          "scene": {
           "xaxis": {
            "backgroundcolor": "#E5ECF6",
            "gridcolor": "white",
            "gridwidth": 2,
            "linecolor": "white",
            "showbackground": true,
            "ticks": "",
            "zerolinecolor": "white"
           },
           "yaxis": {
            "backgroundcolor": "#E5ECF6",
            "gridcolor": "white",
            "gridwidth": 2,
            "linecolor": "white",
            "showbackground": true,
            "ticks": "",
            "zerolinecolor": "white"
           },
           "zaxis": {
            "backgroundcolor": "#E5ECF6",
            "gridcolor": "white",
            "gridwidth": 2,
            "linecolor": "white",
            "showbackground": true,
            "ticks": "",
            "zerolinecolor": "white"
           }
          },
          "shapedefaults": {
           "line": {
            "color": "#2a3f5f"
           }
          },
          "ternary": {
           "aaxis": {
            "gridcolor": "white",
            "linecolor": "white",
            "ticks": ""
           },
           "baxis": {
            "gridcolor": "white",
            "linecolor": "white",
            "ticks": ""
           },
           "bgcolor": "#E5ECF6",
           "caxis": {
            "gridcolor": "white",
            "linecolor": "white",
            "ticks": ""
           }
          },
          "title": {
           "x": 0.05
          },
          "xaxis": {
           "automargin": true,
           "gridcolor": "white",
           "linecolor": "white",
           "ticks": "",
           "title": {
            "standoff": 15
           },
           "zerolinecolor": "white",
           "zerolinewidth": 2
          },
          "yaxis": {
           "automargin": true,
           "gridcolor": "white",
           "linecolor": "white",
           "ticks": "",
           "title": {
            "standoff": 15
           },
           "zerolinecolor": "white",
           "zerolinewidth": 2
          }
         }
        },
        "title": {
         "text": "Proportion des 80/20 (CA)"
        },
        "xaxis": {
         "anchor": "y",
         "categoryarray": [
          "80%CA",
          "20%CA"
         ],
         "categoryorder": "array",
         "domain": [
          0,
          1
         ],
         "title": {
          "text": "Catégorie"
         }
        },
        "yaxis": {
         "anchor": "x",
         "domain": [
          0,
          1
         ],
         "title": {
          "text": "Nombre d'articles"
         }
        }
       }
      }
     },
     "metadata": {},
     "output_type": "display_data"
    }
   ],
   "source": [
    "#############################\n",
    "# Calculer le 20 / 80 en CA #\n",
    "#############################\n",
    "\n",
    "#Créer une colonne calculant la part du CA de la ligne dans le dataset\n",
    "df_merge[\"part_ca\"] = ((df_merge['ca_par_article']/ca_total_vente)*100)\n",
    "df_merge.sort_values(\"part_ca\",inplace=True)\n",
    "df_merge.reset_index()\n",
    "#Créer une colonne réalisant la somme cumulative de la colonne précedemment créée\n",
    "df_merge[\"somme_cumulative_ca\"]= df_merge[\"part_ca\"].cumsum(axis=0)\n",
    "#Grâce au deux colonnes créées précedemment, calculer le nombre d'articles représentant 80% du CA\n",
    "article_80 = df_merge.loc[df_merge[\"somme_cumulative_ca\"]<=80].shape[0]\n",
    "print(\"Il y a {} articles qui représentent 80% du CA.\".format(article_80))\n",
    "#Afficher la proportion que représentent ce groupe d'articles dans le catalogue entier du site web\n",
    "def group(somme_cumulative_ca):\n",
    "    if (somme_cumulative_ca <=80):\n",
    "        return '80%CA'\n",
    "    else:\n",
    "        return '20%CA'\n",
    "    \n",
    "df_merge[\"categorie_ca\"] = df_merge['somme_cumulative_ca'].apply(group)\n",
    "\n",
    "\n",
    "effectifs = df_merge['categorie_ca'].value_counts()\n",
    "modalites = effectifs.index\n",
    "tab= pd.DataFrame(modalites)\n",
    "tab[\"n\"]=effectifs.values\n",
    "tab[\"total\"]=df_merge.shape[0]\n",
    "\n",
    "fig2=px.bar(tab,x='categorie_ca',y='n',color='categorie_ca',\n",
    "            color_discrete_sequence=px.colors.qualitative.Pastel,\n",
    "            title=\"Proportion des 80/20 (CA)\",\n",
    "            text_auto=True,\n",
    "            labels={'categorie_ca':'Catégorie','n':\"Nombre d'articles\"}\n",
    "            )\n",
    "fig2.update(layout_showlegend=False)\n",
    "fig2.update_traces(textfont_size=16, textangle=0, textposition=\"inside\", cliponaxis=False)\n",
    "fig2.show()"
   ]
  },
  {
   "cell_type": "markdown",
   "id": "8de7af87",
   "metadata": {},
   "source": [
    "<div style=\"border: 1px solid RGB(51,165,182);\" >\n",
    "<h3 style=\"margin: auto; padding: 20px; color: RGB(51,165,182); \">Etape 5.2 - Analyse des ventes en Quantités</h3>\n",
    "</div>"
   ]
  },
  {
   "cell_type": "code",
   "execution_count": 58,
   "id": "ab222e08",
   "metadata": {},
   "outputs": [
    {
     "data": {
      "text/html": [
       "<div>\n",
       "<style scoped>\n",
       "    .dataframe tbody tr th:only-of-type {\n",
       "        vertical-align: middle;\n",
       "    }\n",
       "\n",
       "    .dataframe tbody tr th {\n",
       "        vertical-align: top;\n",
       "    }\n",
       "\n",
       "    .dataframe thead th {\n",
       "        text-align: right;\n",
       "    }\n",
       "</style>\n",
       "<table border=\"1\" class=\"dataframe\">\n",
       "  <thead>\n",
       "    <tr style=\"text-align: right;\">\n",
       "      <th></th>\n",
       "      <th>product_id</th>\n",
       "      <th>onsale_web</th>\n",
       "      <th>price</th>\n",
       "      <th>stock_quantity</th>\n",
       "      <th>stock_status</th>\n",
       "      <th>purchase_price</th>\n",
       "      <th>id_web</th>\n",
       "      <th>sku</th>\n",
       "      <th>total_sales</th>\n",
       "      <th>tax_status</th>\n",
       "      <th>...</th>\n",
       "      <th>post_title</th>\n",
       "      <th>post_excerpt</th>\n",
       "      <th>post_name</th>\n",
       "      <th>post_modified</th>\n",
       "      <th>guid</th>\n",
       "      <th>post_type</th>\n",
       "      <th>ca_par_article</th>\n",
       "      <th>part_ca</th>\n",
       "      <th>somme_cumulative_ca</th>\n",
       "      <th>categorie_ca</th>\n",
       "    </tr>\n",
       "  </thead>\n",
       "  <tbody>\n",
       "    <tr>\n",
       "      <th>256</th>\n",
       "      <td>4867</td>\n",
       "      <td>1</td>\n",
       "      <td>9.9</td>\n",
       "      <td>121</td>\n",
       "      <td>instock</td>\n",
       "      <td>4.86</td>\n",
       "      <td>16148</td>\n",
       "      <td>16148</td>\n",
       "      <td>36.0</td>\n",
       "      <td>taxable</td>\n",
       "      <td>...</td>\n",
       "      <td>Château De La Selve IGP Coteaux de l'Ardèche M...</td>\n",
       "      <td>&lt;div&gt;\\n\\nUn rosé minéral, fruité et d’une gran...</td>\n",
       "      <td>chateau-de-la-selve-igp-coteaux-de-lardeche-ma...</td>\n",
       "      <td>2020-08-27 09:30:15</td>\n",
       "      <td>https://www.bottle-neck.fr/?post_type=product&amp;...</td>\n",
       "      <td>product</td>\n",
       "      <td>356.4</td>\n",
       "      <td>0.248051</td>\n",
       "      <td>77.448721</td>\n",
       "      <td>80%CA</td>\n",
       "    </tr>\n",
       "    <tr>\n",
       "      <th>66</th>\n",
       "      <td>4203</td>\n",
       "      <td>1</td>\n",
       "      <td>9.9</td>\n",
       "      <td>74</td>\n",
       "      <td>instock</td>\n",
       "      <td>5.01</td>\n",
       "      <td>15415</td>\n",
       "      <td>15415</td>\n",
       "      <td>27.0</td>\n",
       "      <td>taxable</td>\n",
       "      <td>...</td>\n",
       "      <td>Mas Laval IGP Pays d'Hérault Les Pampres Blanc...</td>\n",
       "      <td>Vin de gourmandise à boire sur la fraîcheur po...</td>\n",
       "      <td>mas-laval-igp-pays-herault-pampres-blanc-2018</td>\n",
       "      <td>2020-07-11 16:45:03</td>\n",
       "      <td>https://www.bottle-neck.fr/?post_type=product&amp;...</td>\n",
       "      <td>product</td>\n",
       "      <td>267.3</td>\n",
       "      <td>0.186038</td>\n",
       "      <td>59.946993</td>\n",
       "      <td>80%CA</td>\n",
       "    </tr>\n",
       "    <tr>\n",
       "      <th>27</th>\n",
       "      <td>4275</td>\n",
       "      <td>1</td>\n",
       "      <td>14.9</td>\n",
       "      <td>62</td>\n",
       "      <td>instock</td>\n",
       "      <td>7.78</td>\n",
       "      <td>14864</td>\n",
       "      <td>14864</td>\n",
       "      <td>24.0</td>\n",
       "      <td>taxable</td>\n",
       "      <td>...</td>\n",
       "      <td>I Fabbri Chianti Classico Lamole 2017</td>\n",
       "      <td>Un nez typique de petits fruits rouges. Une bo...</td>\n",
       "      <td>i-fabbri-chianti-classico-lamole-2017</td>\n",
       "      <td>2020-08-22 14:35:02</td>\n",
       "      <td>https://www.bottle-neck.fr/?post_type=product&amp;...</td>\n",
       "      <td>product</td>\n",
       "      <td>357.6</td>\n",
       "      <td>0.248886</td>\n",
       "      <td>78.691343</td>\n",
       "      <td>80%CA</td>\n",
       "    </tr>\n",
       "    <tr>\n",
       "      <th>474</th>\n",
       "      <td>4726</td>\n",
       "      <td>1</td>\n",
       "      <td>12.7</td>\n",
       "      <td>0</td>\n",
       "      <td>outofstock</td>\n",
       "      <td>6.82</td>\n",
       "      <td>14950</td>\n",
       "      <td>14950</td>\n",
       "      <td>22.0</td>\n",
       "      <td>taxable</td>\n",
       "      <td>...</td>\n",
       "      <td>François Baur Pinot Noir Schlittweg 2017</td>\n",
       "      <td>Un éclat de fruits, de la souplesse, de la ron...</td>\n",
       "      <td>francois-baur-pinot-noir-schlittweg-2017</td>\n",
       "      <td>2020-05-06 11:35:01</td>\n",
       "      <td>https://www.bottle-neck.fr/?post_type=product&amp;...</td>\n",
       "      <td>product</td>\n",
       "      <td>279.4</td>\n",
       "      <td>0.194460</td>\n",
       "      <td>63.387136</td>\n",
       "      <td>80%CA</td>\n",
       "    </tr>\n",
       "    <tr>\n",
       "      <th>113</th>\n",
       "      <td>4647</td>\n",
       "      <td>1</td>\n",
       "      <td>28.5</td>\n",
       "      <td>45</td>\n",
       "      <td>instock</td>\n",
       "      <td>14.14</td>\n",
       "      <td>16525</td>\n",
       "      <td>16525</td>\n",
       "      <td>22.0</td>\n",
       "      <td>taxable</td>\n",
       "      <td>...</td>\n",
       "      <td>Bernard Baudry Chinon Rouge La Croix Boissée 2017</td>\n",
       "      <td>Sur ce sol très calcaire, la Croix Boissée dél...</td>\n",
       "      <td>bernard-baudry-chinon-rouge-croix-boissee-2017</td>\n",
       "      <td>2020-07-31 09:31:39</td>\n",
       "      <td>https://www.bottle-neck.fr/?post_type=product&amp;...</td>\n",
       "      <td>product</td>\n",
       "      <td>627.0</td>\n",
       "      <td>0.436386</td>\n",
       "      <td>92.212144</td>\n",
       "      <td>20%CA</td>\n",
       "    </tr>\n",
       "    <tr>\n",
       "      <th>466</th>\n",
       "      <td>6129</td>\n",
       "      <td>1</td>\n",
       "      <td>5.2</td>\n",
       "      <td>68</td>\n",
       "      <td>instock</td>\n",
       "      <td>2.74</td>\n",
       "      <td>14570</td>\n",
       "      <td>14570</td>\n",
       "      <td>20.0</td>\n",
       "      <td>taxable</td>\n",
       "      <td>...</td>\n",
       "      <td>Moulin de Gassac IGP Pays d'Hérault Guilhem Bl...</td>\n",
       "      <td>Nez Séduisant et puissant. Bouquet de fleurs j...</td>\n",
       "      <td>moulin-de-gassac-igp-pays-dherault-guilhem-bla...</td>\n",
       "      <td>2020-08-26 15:55:02</td>\n",
       "      <td>https://www.bottle-neck.fr/?post_type=product&amp;...</td>\n",
       "      <td>product</td>\n",
       "      <td>104.0</td>\n",
       "      <td>0.072383</td>\n",
       "      <td>4.802544</td>\n",
       "      <td>80%CA</td>\n",
       "    </tr>\n",
       "    <tr>\n",
       "      <th>619</th>\n",
       "      <td>5826</td>\n",
       "      <td>1</td>\n",
       "      <td>41.2</td>\n",
       "      <td>34</td>\n",
       "      <td>instock</td>\n",
       "      <td>21.71</td>\n",
       "      <td>15325</td>\n",
       "      <td>15325</td>\n",
       "      <td>20.0</td>\n",
       "      <td>taxable</td>\n",
       "      <td>...</td>\n",
       "      <td>Agnès Levet Côte Rôtie Améthyste 2017</td>\n",
       "      <td>&lt;span style=\"float: none;background-color: tra...</td>\n",
       "      <td>agnes-levet-amethyste-2017</td>\n",
       "      <td>2020-05-21 14:00:02</td>\n",
       "      <td>https://www.bottle-neck.fr/?post_type=product&amp;...</td>\n",
       "      <td>product</td>\n",
       "      <td>824.0</td>\n",
       "      <td>0.573496</td>\n",
       "      <td>96.703928</td>\n",
       "      <td>20%CA</td>\n",
       "    </tr>\n",
       "    <tr>\n",
       "      <th>48</th>\n",
       "      <td>4220</td>\n",
       "      <td>1</td>\n",
       "      <td>11.6</td>\n",
       "      <td>48</td>\n",
       "      <td>instock</td>\n",
       "      <td>5.75</td>\n",
       "      <td>15758</td>\n",
       "      <td>15758</td>\n",
       "      <td>18.0</td>\n",
       "      <td>taxable</td>\n",
       "      <td>...</td>\n",
       "      <td>Xavier Frissant Touraine Amboise Chenin Les Pi...</td>\n",
       "      <td>Un Touraine Amboise fin et élégant, un joli ch...</td>\n",
       "      <td>frissant-chenin-pierres-2018</td>\n",
       "      <td>2020-08-27 11:45:02</td>\n",
       "      <td>https://www.bottle-neck.fr/?post_type=product&amp;...</td>\n",
       "      <td>product</td>\n",
       "      <td>208.8</td>\n",
       "      <td>0.145323</td>\n",
       "      <td>42.244577</td>\n",
       "      <td>80%CA</td>\n",
       "    </tr>\n",
       "    <tr>\n",
       "      <th>89</th>\n",
       "      <td>6569</td>\n",
       "      <td>1</td>\n",
       "      <td>29.0</td>\n",
       "      <td>58</td>\n",
       "      <td>instock</td>\n",
       "      <td>15.28</td>\n",
       "      <td>15705</td>\n",
       "      <td>15705</td>\n",
       "      <td>17.0</td>\n",
       "      <td>taxable</td>\n",
       "      <td>...</td>\n",
       "      <td>Decelle-Villa Chorey-Lès-Beaune 2016</td>\n",
       "      <td>&lt;span style=\"display: inline !important; float...</td>\n",
       "      <td>decelle-villa-chorey-beaune-2016</td>\n",
       "      <td>2020-07-27 11:55:02</td>\n",
       "      <td>https://www.bottle-neck.fr/?post_type=product&amp;...</td>\n",
       "      <td>product</td>\n",
       "      <td>493.0</td>\n",
       "      <td>0.343123</td>\n",
       "      <td>87.920178</td>\n",
       "      <td>20%CA</td>\n",
       "    </tr>\n",
       "    <tr>\n",
       "      <th>382</th>\n",
       "      <td>5803</td>\n",
       "      <td>1</td>\n",
       "      <td>17.1</td>\n",
       "      <td>47</td>\n",
       "      <td>instock</td>\n",
       "      <td>9.19</td>\n",
       "      <td>13572</td>\n",
       "      <td>13572</td>\n",
       "      <td>17.0</td>\n",
       "      <td>taxable</td>\n",
       "      <td>...</td>\n",
       "      <td>Château Tour Haut-Caussan Médoc 2015</td>\n",
       "      <td>Vous trouverez dans cette cuvée du Château Tou...</td>\n",
       "      <td>tour-haut-caussan-medoc-2015</td>\n",
       "      <td>2020-08-26 16:55:02</td>\n",
       "      <td>https://www.bottle-neck.fr/?post_type=product&amp;...</td>\n",
       "      <td>product</td>\n",
       "      <td>290.7</td>\n",
       "      <td>0.202324</td>\n",
       "      <td>66.175274</td>\n",
       "      <td>80%CA</td>\n",
       "    </tr>\n",
       "    <tr>\n",
       "      <th>82</th>\n",
       "      <td>5778</td>\n",
       "      <td>1</td>\n",
       "      <td>5.8</td>\n",
       "      <td>44</td>\n",
       "      <td>instock</td>\n",
       "      <td>3.09</td>\n",
       "      <td>15561</td>\n",
       "      <td>15561</td>\n",
       "      <td>17.0</td>\n",
       "      <td>taxable</td>\n",
       "      <td>...</td>\n",
       "      <td>Maurel Pays d'Oc Merlot 2018</td>\n",
       "      <td>&lt;div&gt;Robe rouge rubis avec des reflets violine...</td>\n",
       "      <td>maurel-pays-d-oc-merot-2018</td>\n",
       "      <td>2020-08-14 10:55:02</td>\n",
       "      <td>https://www.bottle-neck.fr/?post_type=product&amp;...</td>\n",
       "      <td>product</td>\n",
       "      <td>98.6</td>\n",
       "      <td>0.068625</td>\n",
       "      <td>3.316186</td>\n",
       "      <td>80%CA</td>\n",
       "    </tr>\n",
       "    <tr>\n",
       "      <th>456</th>\n",
       "      <td>4105</td>\n",
       "      <td>1</td>\n",
       "      <td>6.8</td>\n",
       "      <td>45</td>\n",
       "      <td>instock</td>\n",
       "      <td>3.51</td>\n",
       "      <td>16504</td>\n",
       "      <td>16504</td>\n",
       "      <td>16.0</td>\n",
       "      <td>taxable</td>\n",
       "      <td>...</td>\n",
       "      <td>Emile Boeckel Sylvaner Vieilles Vignes 2019</td>\n",
       "      <td>Vin fortement fruité, très bonne longueur en b...</td>\n",
       "      <td>emile-boeckel-sylvaner-vieilles-vignes-2019</td>\n",
       "      <td>2020-08-27 09:28:39</td>\n",
       "      <td>https://www.bottle-neck.fr/?post_type=product&amp;...</td>\n",
       "      <td>product</td>\n",
       "      <td>108.8</td>\n",
       "      <td>0.075724</td>\n",
       "      <td>6.137384</td>\n",
       "      <td>80%CA</td>\n",
       "    </tr>\n",
       "    <tr>\n",
       "      <th>281</th>\n",
       "      <td>4188</td>\n",
       "      <td>1</td>\n",
       "      <td>9.5</td>\n",
       "      <td>51</td>\n",
       "      <td>instock</td>\n",
       "      <td>5.06</td>\n",
       "      <td>16265</td>\n",
       "      <td>16265</td>\n",
       "      <td>16.0</td>\n",
       "      <td>taxable</td>\n",
       "      <td>...</td>\n",
       "      <td>Château de La Liquière Languedoc Blanc Les Ama...</td>\n",
       "      <td>Très flatteur et expressif, on y trouve des no...</td>\n",
       "      <td>liquiere-languedoc-amandiers-blancs-2019</td>\n",
       "      <td>2020-08-25 18:25:03</td>\n",
       "      <td>https://www.bottle-neck.fr/?post_type=product&amp;...</td>\n",
       "      <td>product</td>\n",
       "      <td>152.0</td>\n",
       "      <td>0.105791</td>\n",
       "      <td>22.091020</td>\n",
       "      <td>80%CA</td>\n",
       "    </tr>\n",
       "    <tr>\n",
       "      <th>508</th>\n",
       "      <td>5695</td>\n",
       "      <td>1</td>\n",
       "      <td>6.5</td>\n",
       "      <td>33</td>\n",
       "      <td>instock</td>\n",
       "      <td>3.53</td>\n",
       "      <td>16304</td>\n",
       "      <td>16304</td>\n",
       "      <td>16.0</td>\n",
       "      <td>taxable</td>\n",
       "      <td>...</td>\n",
       "      <td>Philippe Nusswitz IGP Cévènnes Rosé O Pale 2019</td>\n",
       "      <td>&lt;div id=\"wrapper\"&gt;\\n&lt;div id=\"container-wrapper...</td>\n",
       "      <td>philippe-nusswitz-igp-cevennes-opale-rose-2019</td>\n",
       "      <td>2020-08-22 16:15:03</td>\n",
       "      <td>https://www.bottle-neck.fr/?post_type=product&amp;...</td>\n",
       "      <td>product</td>\n",
       "      <td>104.0</td>\n",
       "      <td>0.072383</td>\n",
       "      <td>4.874927</td>\n",
       "      <td>80%CA</td>\n",
       "    </tr>\n",
       "    <tr>\n",
       "      <th>671</th>\n",
       "      <td>4870</td>\n",
       "      <td>1</td>\n",
       "      <td>9.3</td>\n",
       "      <td>0</td>\n",
       "      <td>outofstock</td>\n",
       "      <td>4.81</td>\n",
       "      <td>16149</td>\n",
       "      <td>16149</td>\n",
       "      <td>16.0</td>\n",
       "      <td>taxable</td>\n",
       "      <td>...</td>\n",
       "      <td>Triennes IGP Méditerranée Rosé 2019</td>\n",
       "      <td>&lt;div id=\"wrapper\"&gt;\\n&lt;div id=\"container-wrapper...</td>\n",
       "      <td>triennes-igp-mediterranee-rose-2019</td>\n",
       "      <td>2020-08-27 17:25:03</td>\n",
       "      <td>https://www.bottle-neck.fr/?post_type=product&amp;...</td>\n",
       "      <td>product</td>\n",
       "      <td>148.8</td>\n",
       "      <td>0.103563</td>\n",
       "      <td>21.046130</td>\n",
       "      <td>80%CA</td>\n",
       "    </tr>\n",
       "    <tr>\n",
       "      <th>415</th>\n",
       "      <td>4059</td>\n",
       "      <td>1</td>\n",
       "      <td>8.7</td>\n",
       "      <td>34</td>\n",
       "      <td>instock</td>\n",
       "      <td>4.32</td>\n",
       "      <td>16275</td>\n",
       "      <td>16275</td>\n",
       "      <td>16.0</td>\n",
       "      <td>taxable</td>\n",
       "      <td>...</td>\n",
       "      <td>Mourgues du Grès Costières de Nîmes Galets Ros...</td>\n",
       "      <td>Des senteurs de fruits rouges forment un préam...</td>\n",
       "      <td>mourgues-du-gres-costieres-de-nimes-galets-ros...</td>\n",
       "      <td>2020-08-27 09:30:16</td>\n",
       "      <td>https://www.bottle-neck.fr/?post_type=product&amp;...</td>\n",
       "      <td>product</td>\n",
       "      <td>139.2</td>\n",
       "      <td>0.096882</td>\n",
       "      <td>16.924404</td>\n",
       "      <td>80%CA</td>\n",
       "    </tr>\n",
       "    <tr>\n",
       "      <th>6</th>\n",
       "      <td>5777</td>\n",
       "      <td>1</td>\n",
       "      <td>5.7</td>\n",
       "      <td>51</td>\n",
       "      <td>instock</td>\n",
       "      <td>3.03</td>\n",
       "      <td>14338</td>\n",
       "      <td>14338</td>\n",
       "      <td>16.0</td>\n",
       "      <td>taxable</td>\n",
       "      <td>...</td>\n",
       "      <td>Maurel Pays d'Oc Cabernet-Sauvignon 2017</td>\n",
       "      <td>&lt;span style=\"float: none; background-color: tr...</td>\n",
       "      <td>maurel-pays-d-oc-cabernet-sauvignon-2017</td>\n",
       "      <td>2020-03-11 09:30:06</td>\n",
       "      <td>https://www.bottle-neck.fr/?post_type=product&amp;...</td>\n",
       "      <td>product</td>\n",
       "      <td>91.2</td>\n",
       "      <td>0.063474</td>\n",
       "      <td>2.450653</td>\n",
       "      <td>80%CA</td>\n",
       "    </tr>\n",
       "    <tr>\n",
       "      <th>368</th>\n",
       "      <td>4863</td>\n",
       "      <td>1</td>\n",
       "      <td>8.2</td>\n",
       "      <td>54</td>\n",
       "      <td>instock</td>\n",
       "      <td>4.11</td>\n",
       "      <td>16255</td>\n",
       "      <td>16255</td>\n",
       "      <td>16.0</td>\n",
       "      <td>taxable</td>\n",
       "      <td>...</td>\n",
       "      <td>Château Ollieux Romanis Corbières Rosé Classiq...</td>\n",
       "      <td>&lt;div id=\"wrapper\"&gt;\\n&lt;div id=\"container-wrapper...</td>\n",
       "      <td>chateau-ollieux-romanis-corbieres-rose-classiq...</td>\n",
       "      <td>2020-07-20 17:47:47</td>\n",
       "      <td>https://www.bottle-neck.fr/?post_type=product&amp;...</td>\n",
       "      <td>product</td>\n",
       "      <td>131.2</td>\n",
       "      <td>0.091314</td>\n",
       "      <td>13.605642</td>\n",
       "      <td>80%CA</td>\n",
       "    </tr>\n",
       "    <tr>\n",
       "      <th>120</th>\n",
       "      <td>4207</td>\n",
       "      <td>1</td>\n",
       "      <td>6.7</td>\n",
       "      <td>30</td>\n",
       "      <td>instock</td>\n",
       "      <td>3.63</td>\n",
       "      <td>16023</td>\n",
       "      <td>16023</td>\n",
       "      <td>15.0</td>\n",
       "      <td>taxable</td>\n",
       "      <td>...</td>\n",
       "      <td>Domaine Montrose Côtes de Thongue Rouge 2018</td>\n",
       "      <td>Montrose rouge à une robe grenat aux reflets v...</td>\n",
       "      <td>montrose-cotes-de-thongue-2018</td>\n",
       "      <td>2020-08-25 18:35:02</td>\n",
       "      <td>https://www.bottle-neck.fr/?post_type=product&amp;...</td>\n",
       "      <td>product</td>\n",
       "      <td>100.5</td>\n",
       "      <td>0.069947</td>\n",
       "      <td>3.802753</td>\n",
       "      <td>80%CA</td>\n",
       "    </tr>\n",
       "    <tr>\n",
       "      <th>626</th>\n",
       "      <td>4204</td>\n",
       "      <td>1</td>\n",
       "      <td>11.3</td>\n",
       "      <td>50</td>\n",
       "      <td>instock</td>\n",
       "      <td>5.96</td>\n",
       "      <td>15414</td>\n",
       "      <td>15414</td>\n",
       "      <td>15.0</td>\n",
       "      <td>taxable</td>\n",
       "      <td>...</td>\n",
       "      <td>Mas Laval IGP Pays d'Hérault Les Pampres Rouge...</td>\n",
       "      <td>Fruité, gouleyant et aérien, ce vin à des tani...</td>\n",
       "      <td>mas-laval-igp-pays-dherault-les-pampres-rouges...</td>\n",
       "      <td>2020-08-21 15:15:02</td>\n",
       "      <td>https://www.bottle-neck.fr/?post_type=product&amp;...</td>\n",
       "      <td>product</td>\n",
       "      <td>169.5</td>\n",
       "      <td>0.117970</td>\n",
       "      <td>29.247961</td>\n",
       "      <td>80%CA</td>\n",
       "    </tr>\n",
       "  </tbody>\n",
       "</table>\n",
       "<p>20 rows × 23 columns</p>\n",
       "</div>"
      ],
      "text/plain": [
       "     product_id  onsale_web  price  stock_quantity stock_status  \\\n",
       "256        4867           1    9.9             121      instock   \n",
       "66         4203           1    9.9              74      instock   \n",
       "27         4275           1   14.9              62      instock   \n",
       "474        4726           1   12.7               0   outofstock   \n",
       "113        4647           1   28.5              45      instock   \n",
       "466        6129           1    5.2              68      instock   \n",
       "619        5826           1   41.2              34      instock   \n",
       "48         4220           1   11.6              48      instock   \n",
       "89         6569           1   29.0              58      instock   \n",
       "382        5803           1   17.1              47      instock   \n",
       "82         5778           1    5.8              44      instock   \n",
       "456        4105           1    6.8              45      instock   \n",
       "281        4188           1    9.5              51      instock   \n",
       "508        5695           1    6.5              33      instock   \n",
       "671        4870           1    9.3               0   outofstock   \n",
       "415        4059           1    8.7              34      instock   \n",
       "6          5777           1    5.7              51      instock   \n",
       "368        4863           1    8.2              54      instock   \n",
       "120        4207           1    6.7              30      instock   \n",
       "626        4204           1   11.3              50      instock   \n",
       "\n",
       "     purchase_price id_web    sku  total_sales tax_status  ...  \\\n",
       "256            4.86  16148  16148         36.0    taxable  ...   \n",
       "66             5.01  15415  15415         27.0    taxable  ...   \n",
       "27             7.78  14864  14864         24.0    taxable  ...   \n",
       "474            6.82  14950  14950         22.0    taxable  ...   \n",
       "113           14.14  16525  16525         22.0    taxable  ...   \n",
       "466            2.74  14570  14570         20.0    taxable  ...   \n",
       "619           21.71  15325  15325         20.0    taxable  ...   \n",
       "48             5.75  15758  15758         18.0    taxable  ...   \n",
       "89            15.28  15705  15705         17.0    taxable  ...   \n",
       "382            9.19  13572  13572         17.0    taxable  ...   \n",
       "82             3.09  15561  15561         17.0    taxable  ...   \n",
       "456            3.51  16504  16504         16.0    taxable  ...   \n",
       "281            5.06  16265  16265         16.0    taxable  ...   \n",
       "508            3.53  16304  16304         16.0    taxable  ...   \n",
       "671            4.81  16149  16149         16.0    taxable  ...   \n",
       "415            4.32  16275  16275         16.0    taxable  ...   \n",
       "6              3.03  14338  14338         16.0    taxable  ...   \n",
       "368            4.11  16255  16255         16.0    taxable  ...   \n",
       "120            3.63  16023  16023         15.0    taxable  ...   \n",
       "626            5.96  15414  15414         15.0    taxable  ...   \n",
       "\n",
       "                                            post_title  \\\n",
       "256  Château De La Selve IGP Coteaux de l'Ardèche M...   \n",
       "66   Mas Laval IGP Pays d'Hérault Les Pampres Blanc...   \n",
       "27               I Fabbri Chianti Classico Lamole 2017   \n",
       "474           François Baur Pinot Noir Schlittweg 2017   \n",
       "113  Bernard Baudry Chinon Rouge La Croix Boissée 2017   \n",
       "466  Moulin de Gassac IGP Pays d'Hérault Guilhem Bl...   \n",
       "619              Agnès Levet Côte Rôtie Améthyste 2017   \n",
       "48   Xavier Frissant Touraine Amboise Chenin Les Pi...   \n",
       "89                Decelle-Villa Chorey-Lès-Beaune 2016   \n",
       "382               Château Tour Haut-Caussan Médoc 2015   \n",
       "82                        Maurel Pays d'Oc Merlot 2018   \n",
       "456        Emile Boeckel Sylvaner Vieilles Vignes 2019   \n",
       "281  Château de La Liquière Languedoc Blanc Les Ama...   \n",
       "508    Philippe Nusswitz IGP Cévènnes Rosé O Pale 2019   \n",
       "671                Triennes IGP Méditerranée Rosé 2019   \n",
       "415  Mourgues du Grès Costières de Nîmes Galets Ros...   \n",
       "6             Maurel Pays d'Oc Cabernet-Sauvignon 2017   \n",
       "368  Château Ollieux Romanis Corbières Rosé Classiq...   \n",
       "120       Domaine Montrose Côtes de Thongue Rouge 2018   \n",
       "626  Mas Laval IGP Pays d'Hérault Les Pampres Rouge...   \n",
       "\n",
       "                                          post_excerpt  \\\n",
       "256  <div>\\n\\nUn rosé minéral, fruité et d’une gran...   \n",
       "66   Vin de gourmandise à boire sur la fraîcheur po...   \n",
       "27   Un nez typique de petits fruits rouges. Une bo...   \n",
       "474  Un éclat de fruits, de la souplesse, de la ron...   \n",
       "113  Sur ce sol très calcaire, la Croix Boissée dél...   \n",
       "466  Nez Séduisant et puissant. Bouquet de fleurs j...   \n",
       "619  <span style=\"float: none;background-color: tra...   \n",
       "48   Un Touraine Amboise fin et élégant, un joli ch...   \n",
       "89   <span style=\"display: inline !important; float...   \n",
       "382  Vous trouverez dans cette cuvée du Château Tou...   \n",
       "82   <div>Robe rouge rubis avec des reflets violine...   \n",
       "456  Vin fortement fruité, très bonne longueur en b...   \n",
       "281  Très flatteur et expressif, on y trouve des no...   \n",
       "508  <div id=\"wrapper\">\\n<div id=\"container-wrapper...   \n",
       "671  <div id=\"wrapper\">\\n<div id=\"container-wrapper...   \n",
       "415  Des senteurs de fruits rouges forment un préam...   \n",
       "6    <span style=\"float: none; background-color: tr...   \n",
       "368  <div id=\"wrapper\">\\n<div id=\"container-wrapper...   \n",
       "120  Montrose rouge à une robe grenat aux reflets v...   \n",
       "626  Fruité, gouleyant et aérien, ce vin à des tani...   \n",
       "\n",
       "                                             post_name       post_modified  \\\n",
       "256  chateau-de-la-selve-igp-coteaux-de-lardeche-ma... 2020-08-27 09:30:15   \n",
       "66       mas-laval-igp-pays-herault-pampres-blanc-2018 2020-07-11 16:45:03   \n",
       "27               i-fabbri-chianti-classico-lamole-2017 2020-08-22 14:35:02   \n",
       "474           francois-baur-pinot-noir-schlittweg-2017 2020-05-06 11:35:01   \n",
       "113     bernard-baudry-chinon-rouge-croix-boissee-2017 2020-07-31 09:31:39   \n",
       "466  moulin-de-gassac-igp-pays-dherault-guilhem-bla... 2020-08-26 15:55:02   \n",
       "619                         agnes-levet-amethyste-2017 2020-05-21 14:00:02   \n",
       "48                        frissant-chenin-pierres-2018 2020-08-27 11:45:02   \n",
       "89                    decelle-villa-chorey-beaune-2016 2020-07-27 11:55:02   \n",
       "382                       tour-haut-caussan-medoc-2015 2020-08-26 16:55:02   \n",
       "82                         maurel-pays-d-oc-merot-2018 2020-08-14 10:55:02   \n",
       "456        emile-boeckel-sylvaner-vieilles-vignes-2019 2020-08-27 09:28:39   \n",
       "281           liquiere-languedoc-amandiers-blancs-2019 2020-08-25 18:25:03   \n",
       "508     philippe-nusswitz-igp-cevennes-opale-rose-2019 2020-08-22 16:15:03   \n",
       "671                triennes-igp-mediterranee-rose-2019 2020-08-27 17:25:03   \n",
       "415  mourgues-du-gres-costieres-de-nimes-galets-ros... 2020-08-27 09:30:16   \n",
       "6             maurel-pays-d-oc-cabernet-sauvignon-2017 2020-03-11 09:30:06   \n",
       "368  chateau-ollieux-romanis-corbieres-rose-classiq... 2020-07-20 17:47:47   \n",
       "120                     montrose-cotes-de-thongue-2018 2020-08-25 18:35:02   \n",
       "626  mas-laval-igp-pays-dherault-les-pampres-rouges... 2020-08-21 15:15:02   \n",
       "\n",
       "                                                  guid post_type  \\\n",
       "256  https://www.bottle-neck.fr/?post_type=product&...   product   \n",
       "66   https://www.bottle-neck.fr/?post_type=product&...   product   \n",
       "27   https://www.bottle-neck.fr/?post_type=product&...   product   \n",
       "474  https://www.bottle-neck.fr/?post_type=product&...   product   \n",
       "113  https://www.bottle-neck.fr/?post_type=product&...   product   \n",
       "466  https://www.bottle-neck.fr/?post_type=product&...   product   \n",
       "619  https://www.bottle-neck.fr/?post_type=product&...   product   \n",
       "48   https://www.bottle-neck.fr/?post_type=product&...   product   \n",
       "89   https://www.bottle-neck.fr/?post_type=product&...   product   \n",
       "382  https://www.bottle-neck.fr/?post_type=product&...   product   \n",
       "82   https://www.bottle-neck.fr/?post_type=product&...   product   \n",
       "456  https://www.bottle-neck.fr/?post_type=product&...   product   \n",
       "281  https://www.bottle-neck.fr/?post_type=product&...   product   \n",
       "508  https://www.bottle-neck.fr/?post_type=product&...   product   \n",
       "671  https://www.bottle-neck.fr/?post_type=product&...   product   \n",
       "415  https://www.bottle-neck.fr/?post_type=product&...   product   \n",
       "6    https://www.bottle-neck.fr/?post_type=product&...   product   \n",
       "368  https://www.bottle-neck.fr/?post_type=product&...   product   \n",
       "120  https://www.bottle-neck.fr/?post_type=product&...   product   \n",
       "626  https://www.bottle-neck.fr/?post_type=product&...   product   \n",
       "\n",
       "    ca_par_article   part_ca somme_cumulative_ca  categorie_ca  \n",
       "256          356.4  0.248051           77.448721         80%CA  \n",
       "66           267.3  0.186038           59.946993         80%CA  \n",
       "27           357.6  0.248886           78.691343         80%CA  \n",
       "474          279.4  0.194460           63.387136         80%CA  \n",
       "113          627.0  0.436386           92.212144         20%CA  \n",
       "466          104.0  0.072383            4.802544         80%CA  \n",
       "619          824.0  0.573496           96.703928         20%CA  \n",
       "48           208.8  0.145323           42.244577         80%CA  \n",
       "89           493.0  0.343123           87.920178         20%CA  \n",
       "382          290.7  0.202324           66.175274         80%CA  \n",
       "82            98.6  0.068625            3.316186         80%CA  \n",
       "456          108.8  0.075724            6.137384         80%CA  \n",
       "281          152.0  0.105791           22.091020         80%CA  \n",
       "508          104.0  0.072383            4.874927         80%CA  \n",
       "671          148.8  0.103563           21.046130         80%CA  \n",
       "415          139.2  0.096882           16.924404         80%CA  \n",
       "6             91.2  0.063474            2.450653         80%CA  \n",
       "368          131.2  0.091314           13.605642         80%CA  \n",
       "120          100.5  0.069947            3.802753         80%CA  \n",
       "626          169.5  0.117970           29.247961         80%CA  \n",
       "\n",
       "[20 rows x 23 columns]"
      ]
     },
     "metadata": {},
     "output_type": "display_data"
    },
    {
     "data": {
      "application/vnd.plotly.v1+json": {
       "config": {
        "plotlyServerURL": "https://plot.ly"
       },
       "data": [
        {
         "alignmentgroup": "True",
         "cliponaxis": false,
         "hovertemplate": "Articles=%{x}<br>Nbr de vente=%{y}<extra></extra>",
         "legendgroup": "",
         "marker": {
          "color": "rgb(102, 197, 204)",
          "pattern": {
           "shape": ""
          }
         },
         "name": "",
         "offsetgroup": "",
         "orientation": "v",
         "showlegend": false,
         "textangle": 0,
         "textfont": {
          "size": 12
         },
         "textposition": "outside",
         "texttemplate": "%{y}",
         "type": "bar",
         "x": [
          "Château De La Selve IGP Coteaux de l'Ardèche Maguelonne Rosé 2019",
          "Mas Laval IGP Pays d'Hérault Les Pampres Blancs 2018",
          "I Fabbri Chianti Classico Lamole 2017",
          "François Baur Pinot Noir Schlittweg 2017",
          "Bernard Baudry Chinon Rouge La Croix Boissée 2017",
          "Moulin de Gassac IGP Pays d'Hérault Guilhem Blanc 2017",
          "Agnès Levet Côte Rôtie Améthyste 2017",
          "Xavier Frissant Touraine Amboise Chenin Les Pierres 2018",
          "Decelle-Villa Chorey-Lès-Beaune 2016",
          "Château Tour Haut-Caussan Médoc 2015",
          "Maurel Pays d'Oc Merlot 2018",
          "Emile Boeckel Sylvaner Vieilles Vignes 2019",
          "Château de La Liquière Languedoc Blanc Les Amandiers 2019",
          "Philippe Nusswitz IGP Cévènnes Rosé O Pale 2019",
          "Triennes IGP Méditerranée Rosé 2019",
          "Mourgues du Grès Costières de Nîmes Galets Rosés 2019",
          "Maurel Pays d'Oc Cabernet-Sauvignon 2017",
          "Château Ollieux Romanis Corbières Rosé Classique 2019",
          "Domaine Montrose Côtes de Thongue Rouge 2018",
          "Mas Laval IGP Pays d'Hérault Les Pampres Rouges 2017"
         ],
         "xaxis": "x",
         "y": [
          36,
          27,
          24,
          22,
          22,
          20,
          20,
          18,
          17,
          17,
          17,
          16,
          16,
          16,
          16,
          16,
          16,
          16,
          15,
          15
         ],
         "yaxis": "y"
        }
       ],
       "layout": {
        "barmode": "relative",
        "legend": {
         "tracegroupgap": 0
        },
        "template": {
         "data": {
          "bar": [
           {
            "error_x": {
             "color": "#2a3f5f"
            },
            "error_y": {
             "color": "#2a3f5f"
            },
            "marker": {
             "line": {
              "color": "#E5ECF6",
              "width": 0.5
             },
             "pattern": {
              "fillmode": "overlay",
              "size": 10,
              "solidity": 0.2
             }
            },
            "type": "bar"
           }
          ],
          "barpolar": [
           {
            "marker": {
             "line": {
              "color": "#E5ECF6",
              "width": 0.5
             },
             "pattern": {
              "fillmode": "overlay",
              "size": 10,
              "solidity": 0.2
             }
            },
            "type": "barpolar"
           }
          ],
          "carpet": [
           {
            "aaxis": {
             "endlinecolor": "#2a3f5f",
             "gridcolor": "white",
             "linecolor": "white",
             "minorgridcolor": "white",
             "startlinecolor": "#2a3f5f"
            },
            "baxis": {
             "endlinecolor": "#2a3f5f",
             "gridcolor": "white",
             "linecolor": "white",
             "minorgridcolor": "white",
             "startlinecolor": "#2a3f5f"
            },
            "type": "carpet"
           }
          ],
          "choropleth": [
           {
            "colorbar": {
             "outlinewidth": 0,
             "ticks": ""
            },
            "type": "choropleth"
           }
          ],
          "contour": [
           {
            "colorbar": {
             "outlinewidth": 0,
             "ticks": ""
            },
            "colorscale": [
             [
              0,
              "#0d0887"
             ],
             [
              0.1111111111111111,
              "#46039f"
             ],
             [
              0.2222222222222222,
              "#7201a8"
             ],
             [
              0.3333333333333333,
              "#9c179e"
             ],
             [
              0.4444444444444444,
              "#bd3786"
             ],
             [
              0.5555555555555556,
              "#d8576b"
             ],
             [
              0.6666666666666666,
              "#ed7953"
             ],
             [
              0.7777777777777778,
              "#fb9f3a"
             ],
             [
              0.8888888888888888,
              "#fdca26"
             ],
             [
              1,
              "#f0f921"
             ]
            ],
            "type": "contour"
           }
          ],
          "contourcarpet": [
           {
            "colorbar": {
             "outlinewidth": 0,
             "ticks": ""
            },
            "type": "contourcarpet"
           }
          ],
          "heatmap": [
           {
            "colorbar": {
             "outlinewidth": 0,
             "ticks": ""
            },
            "colorscale": [
             [
              0,
              "#0d0887"
             ],
             [
              0.1111111111111111,
              "#46039f"
             ],
             [
              0.2222222222222222,
              "#7201a8"
             ],
             [
              0.3333333333333333,
              "#9c179e"
             ],
             [
              0.4444444444444444,
              "#bd3786"
             ],
             [
              0.5555555555555556,
              "#d8576b"
             ],
             [
              0.6666666666666666,
              "#ed7953"
             ],
             [
              0.7777777777777778,
              "#fb9f3a"
             ],
             [
              0.8888888888888888,
              "#fdca26"
             ],
             [
              1,
              "#f0f921"
             ]
            ],
            "type": "heatmap"
           }
          ],
          "heatmapgl": [
           {
            "colorbar": {
             "outlinewidth": 0,
             "ticks": ""
            },
            "colorscale": [
             [
              0,
              "#0d0887"
             ],
             [
              0.1111111111111111,
              "#46039f"
             ],
             [
              0.2222222222222222,
              "#7201a8"
             ],
             [
              0.3333333333333333,
              "#9c179e"
             ],
             [
              0.4444444444444444,
              "#bd3786"
             ],
             [
              0.5555555555555556,
              "#d8576b"
             ],
             [
              0.6666666666666666,
              "#ed7953"
             ],
             [
              0.7777777777777778,
              "#fb9f3a"
             ],
             [
              0.8888888888888888,
              "#fdca26"
             ],
             [
              1,
              "#f0f921"
             ]
            ],
            "type": "heatmapgl"
           }
          ],
          "histogram": [
           {
            "marker": {
             "pattern": {
              "fillmode": "overlay",
              "size": 10,
              "solidity": 0.2
             }
            },
            "type": "histogram"
           }
          ],
          "histogram2d": [
           {
            "colorbar": {
             "outlinewidth": 0,
             "ticks": ""
            },
            "colorscale": [
             [
              0,
              "#0d0887"
             ],
             [
              0.1111111111111111,
              "#46039f"
             ],
             [
              0.2222222222222222,
              "#7201a8"
             ],
             [
              0.3333333333333333,
              "#9c179e"
             ],
             [
              0.4444444444444444,
              "#bd3786"
             ],
             [
              0.5555555555555556,
              "#d8576b"
             ],
             [
              0.6666666666666666,
              "#ed7953"
             ],
             [
              0.7777777777777778,
              "#fb9f3a"
             ],
             [
              0.8888888888888888,
              "#fdca26"
             ],
             [
              1,
              "#f0f921"
             ]
            ],
            "type": "histogram2d"
           }
          ],
          "histogram2dcontour": [
           {
            "colorbar": {
             "outlinewidth": 0,
             "ticks": ""
            },
            "colorscale": [
             [
              0,
              "#0d0887"
             ],
             [
              0.1111111111111111,
              "#46039f"
             ],
             [
              0.2222222222222222,
              "#7201a8"
             ],
             [
              0.3333333333333333,
              "#9c179e"
             ],
             [
              0.4444444444444444,
              "#bd3786"
             ],
             [
              0.5555555555555556,
              "#d8576b"
             ],
             [
              0.6666666666666666,
              "#ed7953"
             ],
             [
              0.7777777777777778,
              "#fb9f3a"
             ],
             [
              0.8888888888888888,
              "#fdca26"
             ],
             [
              1,
              "#f0f921"
             ]
            ],
            "type": "histogram2dcontour"
           }
          ],
          "mesh3d": [
           {
            "colorbar": {
             "outlinewidth": 0,
             "ticks": ""
            },
            "type": "mesh3d"
           }
          ],
          "parcoords": [
           {
            "line": {
             "colorbar": {
              "outlinewidth": 0,
              "ticks": ""
             }
            },
            "type": "parcoords"
           }
          ],
          "pie": [
           {
            "automargin": true,
            "type": "pie"
           }
          ],
          "scatter": [
           {
            "fillpattern": {
             "fillmode": "overlay",
             "size": 10,
             "solidity": 0.2
            },
            "type": "scatter"
           }
          ],
          "scatter3d": [
           {
            "line": {
             "colorbar": {
              "outlinewidth": 0,
              "ticks": ""
             }
            },
            "marker": {
             "colorbar": {
              "outlinewidth": 0,
              "ticks": ""
             }
            },
            "type": "scatter3d"
           }
          ],
          "scattercarpet": [
           {
            "marker": {
             "colorbar": {
              "outlinewidth": 0,
              "ticks": ""
             }
            },
            "type": "scattercarpet"
           }
          ],
          "scattergeo": [
           {
            "marker": {
             "colorbar": {
              "outlinewidth": 0,
              "ticks": ""
             }
            },
            "type": "scattergeo"
           }
          ],
          "scattergl": [
           {
            "marker": {
             "colorbar": {
              "outlinewidth": 0,
              "ticks": ""
             }
            },
            "type": "scattergl"
           }
          ],
          "scattermapbox": [
           {
            "marker": {
             "colorbar": {
              "outlinewidth": 0,
              "ticks": ""
             }
            },
            "type": "scattermapbox"
           }
          ],
          "scatterpolar": [
           {
            "marker": {
             "colorbar": {
              "outlinewidth": 0,
              "ticks": ""
             }
            },
            "type": "scatterpolar"
           }
          ],
          "scatterpolargl": [
           {
            "marker": {
             "colorbar": {
              "outlinewidth": 0,
              "ticks": ""
             }
            },
            "type": "scatterpolargl"
           }
          ],
          "scatterternary": [
           {
            "marker": {
             "colorbar": {
              "outlinewidth": 0,
              "ticks": ""
             }
            },
            "type": "scatterternary"
           }
          ],
          "surface": [
           {
            "colorbar": {
             "outlinewidth": 0,
             "ticks": ""
            },
            "colorscale": [
             [
              0,
              "#0d0887"
             ],
             [
              0.1111111111111111,
              "#46039f"
             ],
             [
              0.2222222222222222,
              "#7201a8"
             ],
             [
              0.3333333333333333,
              "#9c179e"
             ],
             [
              0.4444444444444444,
              "#bd3786"
             ],
             [
              0.5555555555555556,
              "#d8576b"
             ],
             [
              0.6666666666666666,
              "#ed7953"
             ],
             [
              0.7777777777777778,
              "#fb9f3a"
             ],
             [
              0.8888888888888888,
              "#fdca26"
             ],
             [
              1,
              "#f0f921"
             ]
            ],
            "type": "surface"
           }
          ],
          "table": [
           {
            "cells": {
             "fill": {
              "color": "#EBF0F8"
             },
             "line": {
              "color": "white"
             }
            },
            "header": {
             "fill": {
              "color": "#C8D4E3"
             },
             "line": {
              "color": "white"
             }
            },
            "type": "table"
           }
          ]
         },
         "layout": {
          "annotationdefaults": {
           "arrowcolor": "#2a3f5f",
           "arrowhead": 0,
           "arrowwidth": 1
          },
          "autotypenumbers": "strict",
          "coloraxis": {
           "colorbar": {
            "outlinewidth": 0,
            "ticks": ""
           }
          },
          "colorscale": {
           "diverging": [
            [
             0,
             "#8e0152"
            ],
            [
             0.1,
             "#c51b7d"
            ],
            [
             0.2,
             "#de77ae"
            ],
            [
             0.3,
             "#f1b6da"
            ],
            [
             0.4,
             "#fde0ef"
            ],
            [
             0.5,
             "#f7f7f7"
            ],
            [
             0.6,
             "#e6f5d0"
            ],
            [
             0.7,
             "#b8e186"
            ],
            [
             0.8,
             "#7fbc41"
            ],
            [
             0.9,
             "#4d9221"
            ],
            [
             1,
             "#276419"
            ]
           ],
           "sequential": [
            [
             0,
             "#0d0887"
            ],
            [
             0.1111111111111111,
             "#46039f"
            ],
            [
             0.2222222222222222,
             "#7201a8"
            ],
            [
             0.3333333333333333,
             "#9c179e"
            ],
            [
             0.4444444444444444,
             "#bd3786"
            ],
            [
             0.5555555555555556,
             "#d8576b"
            ],
            [
             0.6666666666666666,
             "#ed7953"
            ],
            [
             0.7777777777777778,
             "#fb9f3a"
            ],
            [
             0.8888888888888888,
             "#fdca26"
            ],
            [
             1,
             "#f0f921"
            ]
           ],
           "sequentialminus": [
            [
             0,
             "#0d0887"
            ],
            [
             0.1111111111111111,
             "#46039f"
            ],
            [
             0.2222222222222222,
             "#7201a8"
            ],
            [
             0.3333333333333333,
             "#9c179e"
            ],
            [
             0.4444444444444444,
             "#bd3786"
            ],
            [
             0.5555555555555556,
             "#d8576b"
            ],
            [
             0.6666666666666666,
             "#ed7953"
            ],
            [
             0.7777777777777778,
             "#fb9f3a"
            ],
            [
             0.8888888888888888,
             "#fdca26"
            ],
            [
             1,
             "#f0f921"
            ]
           ]
          },
          "colorway": [
           "#636efa",
           "#EF553B",
           "#00cc96",
           "#ab63fa",
           "#FFA15A",
           "#19d3f3",
           "#FF6692",
           "#B6E880",
           "#FF97FF",
           "#FECB52"
          ],
          "font": {
           "color": "#2a3f5f"
          },
          "geo": {
           "bgcolor": "white",
           "lakecolor": "white",
           "landcolor": "#E5ECF6",
           "showlakes": true,
           "showland": true,
           "subunitcolor": "white"
          },
          "hoverlabel": {
           "align": "left"
          },
          "hovermode": "closest",
          "mapbox": {
           "style": "light"
          },
          "paper_bgcolor": "white",
          "plot_bgcolor": "#E5ECF6",
          "polar": {
           "angularaxis": {
            "gridcolor": "white",
            "linecolor": "white",
            "ticks": ""
           },
           "bgcolor": "#E5ECF6",
           "radialaxis": {
            "gridcolor": "white",
            "linecolor": "white",
            "ticks": ""
           }
          },
          "scene": {
           "xaxis": {
            "backgroundcolor": "#E5ECF6",
            "gridcolor": "white",
            "gridwidth": 2,
            "linecolor": "white",
            "showbackground": true,
            "ticks": "",
            "zerolinecolor": "white"
           },
           "yaxis": {
            "backgroundcolor": "#E5ECF6",
            "gridcolor": "white",
            "gridwidth": 2,
            "linecolor": "white",
            "showbackground": true,
            "ticks": "",
            "zerolinecolor": "white"
           },
           "zaxis": {
            "backgroundcolor": "#E5ECF6",
            "gridcolor": "white",
            "gridwidth": 2,
            "linecolor": "white",
            "showbackground": true,
            "ticks": "",
            "zerolinecolor": "white"
           }
          },
          "shapedefaults": {
           "line": {
            "color": "#2a3f5f"
           }
          },
          "ternary": {
           "aaxis": {
            "gridcolor": "white",
            "linecolor": "white",
            "ticks": ""
           },
           "baxis": {
            "gridcolor": "white",
            "linecolor": "white",
            "ticks": ""
           },
           "bgcolor": "#E5ECF6",
           "caxis": {
            "gridcolor": "white",
            "linecolor": "white",
            "ticks": ""
           }
          },
          "title": {
           "x": 0.05
          },
          "xaxis": {
           "automargin": true,
           "gridcolor": "white",
           "linecolor": "white",
           "ticks": "",
           "title": {
            "standoff": 15
           },
           "zerolinecolor": "white",
           "zerolinewidth": 2
          },
          "yaxis": {
           "automargin": true,
           "gridcolor": "white",
           "linecolor": "white",
           "ticks": "",
           "title": {
            "standoff": 15
           },
           "zerolinecolor": "white",
           "zerolinewidth": 2
          }
         }
        },
        "title": {
         "text": "Top 20 articles par vente"
        },
        "xaxis": {
         "anchor": "y",
         "domain": [
          0,
          1
         ],
         "title": {
          "text": "Articles"
         }
        },
        "yaxis": {
         "anchor": "x",
         "domain": [
          0,
          1
         ],
         "title": {
          "text": "Nbr de vente"
         }
        }
       }
      }
     },
     "metadata": {},
     "output_type": "display_data"
    }
   ],
   "source": [
    "#####################################\n",
    "# Palmares des articles en quantité #\n",
    "#####################################\n",
    "\n",
    "#Effectuer le tri dans l'ordre décroissant de quantités vendues du dataset df_merge\n",
    "df_temp2 = df_merge.sort_values('total_sales', ascending=False)\n",
    "#Réinitialiser l'index du dataset par un reset_index\n",
    "df_temp2.reset_index()\n",
    "#Afficher les 20 premier articles en quantité\n",
    "df_top20_quantity = df_temp2.head(20)\n",
    "display(df_top20_quantity)\n",
    "#Graphique en barre des 20 premiers articles avec plotly express\n",
    "fig = px.bar(df_top20_quantity,x='post_title',y='total_sales',\n",
    "             color_discrete_sequence=px.colors.qualitative.Pastel,\n",
    "             title=\"Top 20 articles par vente\",\n",
    "             text_auto=True,\n",
    "             labels={'total_sales':'Nbr de vente','post_title':'Articles'}\n",
    "\n",
    "            )\n",
    "fig.update_traces(textfont_size=12, textangle=0,textposition=\"outside\",cliponaxis=False)\n",
    "fig.show()"
   ]
  },
  {
   "cell_type": "code",
   "execution_count": null,
   "id": "2aad021e",
   "metadata": {},
   "outputs": [
    {
     "name": "stdout",
     "output_type": "stream",
     "text": [
      "Il y a 638 articles qui représentent 80% des ventes en quantité.\n"
     ]
    },
    {
     "data": {
      "application/vnd.plotly.v1+json": {
       "config": {
        "plotlyServerURL": "https://plot.ly"
       },
       "data": [
        {
         "alignmentgroup": "True",
         "cliponaxis": false,
         "hovertemplate": "Catégorie=%{x}<br>Nombre d'articles=%{y}<extra></extra>",
         "legendgroup": "80%Ventes",
         "marker": {
          "color": "rgb(102, 197, 204)",
          "pattern": {
           "shape": ""
          }
         },
         "name": "80%Ventes",
         "offsetgroup": "80%Ventes",
         "orientation": "v",
         "showlegend": true,
         "textangle": 0,
         "textfont": {
          "size": 16
         },
         "textposition": "inside",
         "texttemplate": "%{y}",
         "type": "bar",
         "x": [
          "80%Ventes"
         ],
         "xaxis": "x",
         "y": [
          638
         ],
         "yaxis": "y"
        },
        {
         "alignmentgroup": "True",
         "cliponaxis": false,
         "hovertemplate": "Catégorie=%{x}<br>Nombre d'articles=%{y}<extra></extra>",
         "legendgroup": "20%Ventes",
         "marker": {
          "color": "rgb(246, 207, 113)",
          "pattern": {
           "shape": ""
          }
         },
         "name": "20%Ventes",
         "offsetgroup": "20%Ventes",
         "orientation": "v",
         "showlegend": true,
         "textangle": 0,
         "textfont": {
          "size": 16
         },
         "textposition": "inside",
         "texttemplate": "%{y}",
         "type": "bar",
         "x": [
          "20%Ventes"
         ],
         "xaxis": "x",
         "y": [
          76
         ],
         "yaxis": "y"
        }
       ],
       "layout": {
        "barmode": "relative",
        "legend": {
         "title": {
          "text": "Catégorie"
         },
         "tracegroupgap": 0
        },
        "showlegend": false,
        "template": {
         "data": {
          "bar": [
           {
            "error_x": {
             "color": "#2a3f5f"
            },
            "error_y": {
             "color": "#2a3f5f"
            },
            "marker": {
             "line": {
              "color": "#E5ECF6",
              "width": 0.5
             },
             "pattern": {
              "fillmode": "overlay",
              "size": 10,
              "solidity": 0.2
             }
            },
            "type": "bar"
           }
          ],
          "barpolar": [
           {
            "marker": {
             "line": {
              "color": "#E5ECF6",
              "width": 0.5
             },
             "pattern": {
              "fillmode": "overlay",
              "size": 10,
              "solidity": 0.2
             }
            },
            "type": "barpolar"
           }
          ],
          "carpet": [
           {
            "aaxis": {
             "endlinecolor": "#2a3f5f",
             "gridcolor": "white",
             "linecolor": "white",
             "minorgridcolor": "white",
             "startlinecolor": "#2a3f5f"
            },
            "baxis": {
             "endlinecolor": "#2a3f5f",
             "gridcolor": "white",
             "linecolor": "white",
             "minorgridcolor": "white",
             "startlinecolor": "#2a3f5f"
            },
            "type": "carpet"
           }
          ],
          "choropleth": [
           {
            "colorbar": {
             "outlinewidth": 0,
             "ticks": ""
            },
            "type": "choropleth"
           }
          ],
          "contour": [
           {
            "colorbar": {
             "outlinewidth": 0,
             "ticks": ""
            },
            "colorscale": [
             [
              0,
              "#0d0887"
             ],
             [
              0.1111111111111111,
              "#46039f"
             ],
             [
              0.2222222222222222,
              "#7201a8"
             ],
             [
              0.3333333333333333,
              "#9c179e"
             ],
             [
              0.4444444444444444,
              "#bd3786"
             ],
             [
              0.5555555555555556,
              "#d8576b"
             ],
             [
              0.6666666666666666,
              "#ed7953"
             ],
             [
              0.7777777777777778,
              "#fb9f3a"
             ],
             [
              0.8888888888888888,
              "#fdca26"
             ],
             [
              1,
              "#f0f921"
             ]
            ],
            "type": "contour"
           }
          ],
          "contourcarpet": [
           {
            "colorbar": {
             "outlinewidth": 0,
             "ticks": ""
            },
            "type": "contourcarpet"
           }
          ],
          "heatmap": [
           {
            "colorbar": {
             "outlinewidth": 0,
             "ticks": ""
            },
            "colorscale": [
             [
              0,
              "#0d0887"
             ],
             [
              0.1111111111111111,
              "#46039f"
             ],
             [
              0.2222222222222222,
              "#7201a8"
             ],
             [
              0.3333333333333333,
              "#9c179e"
             ],
             [
              0.4444444444444444,
              "#bd3786"
             ],
             [
              0.5555555555555556,
              "#d8576b"
             ],
             [
              0.6666666666666666,
              "#ed7953"
             ],
             [
              0.7777777777777778,
              "#fb9f3a"
             ],
             [
              0.8888888888888888,
              "#fdca26"
             ],
             [
              1,
              "#f0f921"
             ]
            ],
            "type": "heatmap"
           }
          ],
          "heatmapgl": [
           {
            "colorbar": {
             "outlinewidth": 0,
             "ticks": ""
            },
            "colorscale": [
             [
              0,
              "#0d0887"
             ],
             [
              0.1111111111111111,
              "#46039f"
             ],
             [
              0.2222222222222222,
              "#7201a8"
             ],
             [
              0.3333333333333333,
              "#9c179e"
             ],
             [
              0.4444444444444444,
              "#bd3786"
             ],
             [
              0.5555555555555556,
              "#d8576b"
             ],
             [
              0.6666666666666666,
              "#ed7953"
             ],
             [
              0.7777777777777778,
              "#fb9f3a"
             ],
             [
              0.8888888888888888,
              "#fdca26"
             ],
             [
              1,
              "#f0f921"
             ]
            ],
            "type": "heatmapgl"
           }
          ],
          "histogram": [
           {
            "marker": {
             "pattern": {
              "fillmode": "overlay",
              "size": 10,
              "solidity": 0.2
             }
            },
            "type": "histogram"
           }
          ],
          "histogram2d": [
           {
            "colorbar": {
             "outlinewidth": 0,
             "ticks": ""
            },
            "colorscale": [
             [
              0,
              "#0d0887"
             ],
             [
              0.1111111111111111,
              "#46039f"
             ],
             [
              0.2222222222222222,
              "#7201a8"
             ],
             [
              0.3333333333333333,
              "#9c179e"
             ],
             [
              0.4444444444444444,
              "#bd3786"
             ],
             [
              0.5555555555555556,
              "#d8576b"
             ],
             [
              0.6666666666666666,
              "#ed7953"
             ],
             [
              0.7777777777777778,
              "#fb9f3a"
             ],
             [
              0.8888888888888888,
              "#fdca26"
             ],
             [
              1,
              "#f0f921"
             ]
            ],
            "type": "histogram2d"
           }
          ],
          "histogram2dcontour": [
           {
            "colorbar": {
             "outlinewidth": 0,
             "ticks": ""
            },
            "colorscale": [
             [
              0,
              "#0d0887"
             ],
             [
              0.1111111111111111,
              "#46039f"
             ],
             [
              0.2222222222222222,
              "#7201a8"
             ],
             [
              0.3333333333333333,
              "#9c179e"
             ],
             [
              0.4444444444444444,
              "#bd3786"
             ],
             [
              0.5555555555555556,
              "#d8576b"
             ],
             [
              0.6666666666666666,
              "#ed7953"
             ],
             [
              0.7777777777777778,
              "#fb9f3a"
             ],
             [
              0.8888888888888888,
              "#fdca26"
             ],
             [
              1,
              "#f0f921"
             ]
            ],
            "type": "histogram2dcontour"
           }
          ],
          "mesh3d": [
           {
            "colorbar": {
             "outlinewidth": 0,
             "ticks": ""
            },
            "type": "mesh3d"
           }
          ],
          "parcoords": [
           {
            "line": {
             "colorbar": {
              "outlinewidth": 0,
              "ticks": ""
             }
            },
            "type": "parcoords"
           }
          ],
          "pie": [
           {
            "automargin": true,
            "type": "pie"
           }
          ],
          "scatter": [
           {
            "fillpattern": {
             "fillmode": "overlay",
             "size": 10,
             "solidity": 0.2
            },
            "type": "scatter"
           }
          ],
          "scatter3d": [
           {
            "line": {
             "colorbar": {
              "outlinewidth": 0,
              "ticks": ""
             }
            },
            "marker": {
             "colorbar": {
              "outlinewidth": 0,
              "ticks": ""
             }
            },
            "type": "scatter3d"
           }
          ],
          "scattercarpet": [
           {
            "marker": {
             "colorbar": {
              "outlinewidth": 0,
              "ticks": ""
             }
            },
            "type": "scattercarpet"
           }
          ],
          "scattergeo": [
           {
            "marker": {
             "colorbar": {
              "outlinewidth": 0,
              "ticks": ""
             }
            },
            "type": "scattergeo"
           }
          ],
          "scattergl": [
           {
            "marker": {
             "colorbar": {
              "outlinewidth": 0,
              "ticks": ""
             }
            },
            "type": "scattergl"
           }
          ],
          "scattermapbox": [
           {
            "marker": {
             "colorbar": {
              "outlinewidth": 0,
              "ticks": ""
             }
            },
            "type": "scattermapbox"
           }
          ],
          "scatterpolar": [
           {
            "marker": {
             "colorbar": {
              "outlinewidth": 0,
              "ticks": ""
             }
            },
            "type": "scatterpolar"
           }
          ],
          "scatterpolargl": [
           {
            "marker": {
             "colorbar": {
              "outlinewidth": 0,
              "ticks": ""
             }
            },
            "type": "scatterpolargl"
           }
          ],
          "scatterternary": [
           {
            "marker": {
             "colorbar": {
              "outlinewidth": 0,
              "ticks": ""
             }
            },
            "type": "scatterternary"
           }
          ],
          "surface": [
           {
            "colorbar": {
             "outlinewidth": 0,
             "ticks": ""
            },
            "colorscale": [
             [
              0,
              "#0d0887"
             ],
             [
              0.1111111111111111,
              "#46039f"
             ],
             [
              0.2222222222222222,
              "#7201a8"
             ],
             [
              0.3333333333333333,
              "#9c179e"
             ],
             [
              0.4444444444444444,
              "#bd3786"
             ],
             [
              0.5555555555555556,
              "#d8576b"
             ],
             [
              0.6666666666666666,
              "#ed7953"
             ],
             [
              0.7777777777777778,
              "#fb9f3a"
             ],
             [
              0.8888888888888888,
              "#fdca26"
             ],
             [
              1,
              "#f0f921"
             ]
            ],
            "type": "surface"
           }
          ],
          "table": [
           {
            "cells": {
             "fill": {
              "color": "#EBF0F8"
             },
             "line": {
              "color": "white"
             }
            },
            "header": {
             "fill": {
              "color": "#C8D4E3"
             },
             "line": {
              "color": "white"
             }
            },
            "type": "table"
           }
          ]
         },
         "layout": {
          "annotationdefaults": {
           "arrowcolor": "#2a3f5f",
           "arrowhead": 0,
           "arrowwidth": 1
          },
          "autotypenumbers": "strict",
          "coloraxis": {
           "colorbar": {
            "outlinewidth": 0,
            "ticks": ""
           }
          },
          "colorscale": {
           "diverging": [
            [
             0,
             "#8e0152"
            ],
            [
             0.1,
             "#c51b7d"
            ],
            [
             0.2,
             "#de77ae"
            ],
            [
             0.3,
             "#f1b6da"
            ],
            [
             0.4,
             "#fde0ef"
            ],
            [
             0.5,
             "#f7f7f7"
            ],
            [
             0.6,
             "#e6f5d0"
            ],
            [
             0.7,
             "#b8e186"
            ],
            [
             0.8,
             "#7fbc41"
            ],
            [
             0.9,
             "#4d9221"
            ],
            [
             1,
             "#276419"
            ]
           ],
           "sequential": [
            [
             0,
             "#0d0887"
            ],
            [
             0.1111111111111111,
             "#46039f"
            ],
            [
             0.2222222222222222,
             "#7201a8"
            ],
            [
             0.3333333333333333,
             "#9c179e"
            ],
            [
             0.4444444444444444,
             "#bd3786"
            ],
            [
             0.5555555555555556,
             "#d8576b"
            ],
            [
             0.6666666666666666,
             "#ed7953"
            ],
            [
             0.7777777777777778,
             "#fb9f3a"
            ],
            [
             0.8888888888888888,
             "#fdca26"
            ],
            [
             1,
             "#f0f921"
            ]
           ],
           "sequentialminus": [
            [
             0,
             "#0d0887"
            ],
            [
             0.1111111111111111,
             "#46039f"
            ],
            [
             0.2222222222222222,
             "#7201a8"
            ],
            [
             0.3333333333333333,
             "#9c179e"
            ],
            [
             0.4444444444444444,
             "#bd3786"
            ],
            [
             0.5555555555555556,
             "#d8576b"
            ],
            [
             0.6666666666666666,
             "#ed7953"
            ],
            [
             0.7777777777777778,
             "#fb9f3a"
            ],
            [
             0.8888888888888888,
             "#fdca26"
            ],
            [
             1,
             "#f0f921"
            ]
           ]
          },
          "colorway": [
           "#636efa",
           "#EF553B",
           "#00cc96",
           "#ab63fa",
           "#FFA15A",
           "#19d3f3",
           "#FF6692",
           "#B6E880",
           "#FF97FF",
           "#FECB52"
          ],
          "font": {
           "color": "#2a3f5f"
          },
          "geo": {
           "bgcolor": "white",
           "lakecolor": "white",
           "landcolor": "#E5ECF6",
           "showlakes": true,
           "showland": true,
           "subunitcolor": "white"
          },
          "hoverlabel": {
           "align": "left"
          },
          "hovermode": "closest",
          "mapbox": {
           "style": "light"
          },
          "paper_bgcolor": "white",
          "plot_bgcolor": "#E5ECF6",
          "polar": {
           "angularaxis": {
            "gridcolor": "white",
            "linecolor": "white",
            "ticks": ""
           },
           "bgcolor": "#E5ECF6",
           "radialaxis": {
            "gridcolor": "white",
            "linecolor": "white",
            "ticks": ""
           }
          },
          "scene": {
           "xaxis": {
            "backgroundcolor": "#E5ECF6",
            "gridcolor": "white",
            "gridwidth": 2,
            "linecolor": "white",
            "showbackground": true,
            "ticks": "",
            "zerolinecolor": "white"
           },
           "yaxis": {
            "backgroundcolor": "#E5ECF6",
            "gridcolor": "white",
            "gridwidth": 2,
            "linecolor": "white",
            "showbackground": true,
            "ticks": "",
            "zerolinecolor": "white"
           },
           "zaxis": {
            "backgroundcolor": "#E5ECF6",
            "gridcolor": "white",
            "gridwidth": 2,
            "linecolor": "white",
            "showbackground": true,
            "ticks": "",
            "zerolinecolor": "white"
           }
          },
          "shapedefaults": {
           "line": {
            "color": "#2a3f5f"
           }
          },
          "ternary": {
           "aaxis": {
            "gridcolor": "white",
            "linecolor": "white",
            "ticks": ""
           },
           "baxis": {
            "gridcolor": "white",
            "linecolor": "white",
            "ticks": ""
           },
           "bgcolor": "#E5ECF6",
           "caxis": {
            "gridcolor": "white",
            "linecolor": "white",
            "ticks": ""
           }
          },
          "title": {
           "x": 0.05
          },
          "xaxis": {
           "automargin": true,
           "gridcolor": "white",
           "linecolor": "white",
           "ticks": "",
           "title": {
            "standoff": 15
           },
           "zerolinecolor": "white",
           "zerolinewidth": 2
          },
          "yaxis": {
           "automargin": true,
           "gridcolor": "white",
           "linecolor": "white",
           "ticks": "",
           "title": {
            "standoff": 15
           },
           "zerolinecolor": "white",
           "zerolinewidth": 2
          }
         }
        },
        "title": {
         "text": "Proportion des 80/20 (quantité)"
        },
        "xaxis": {
         "anchor": "y",
         "categoryarray": [
          "80%Ventes",
          "20%Ventes"
         ],
         "categoryorder": "array",
         "domain": [
          0,
          1
         ],
         "title": {
          "text": "Catégorie"
         }
        },
        "yaxis": {
         "anchor": "x",
         "domain": [
          0,
          1
         ],
         "title": {
          "text": "Nombre d'articles"
         }
        }
       }
      }
     },
     "metadata": {},
     "output_type": "display_data"
    }
   ],
   "source": [
    "#############################\n",
    "# Calculer le 20 / 80 en quantité #\n",
    "#############################\n",
    "\n",
    "#Créer une colonne calculant la part en quantité de la ligne dans le dataset\n",
    "quantite_article_total = df_merge['total_sales'].sum()\n",
    "df_merge['part_quantité_vente']= ((df_merge['total_sales']*100)/quantite_article_total)\n",
    "df_merge.sort_values(\"total_sales\",inplace=True)\n",
    "df_merge.reset_index()\n",
    "\n",
    "#Créer une colonne réalisant la somme cumulative de la colonne précedemment créée\n",
    "df_merge['somme_cumulative_stock']= df_merge['part_quantité_vente'].cumsum()\n",
    "\n",
    "#Grâce au deux colonnes créées précedemment, calculer le nombre d'articles représentant 80% des ventes en quantité\n",
    "stock_80 = df_merge.loc[df_merge[\"somme_cumulative_stock\"]<=80].shape[0]\n",
    "print(\"Il y a {} articles qui représentent 80% des ventes en quantité.\".format(stock_80))\n",
    "#Afficher la proportion que représentent ce groupe d'articles dans le catalogue entier du site web\n",
    "def group2(somme_cumulative_stock):\n",
    "    if (somme_cumulative_stock <=80):\n",
    "        return '80%Ventes'\n",
    "    else:\n",
    "        return '20%Ventes'\n",
    "    \n",
    "df_merge[\"categorie_vente\"] = df_merge['somme_cumulative_stock'].apply(group2)\n",
    "\n",
    "effectifs2 = df_merge['categorie_vente'].value_counts()\n",
    "modalites2 = effectifs2.index\n",
    "tab2= pd.DataFrame(modalites2)\n",
    "tab2[\"n\"]=effectifs2.values\n",
    "tab2[\"total\"]=df_merge.shape[0]\n",
    "\n",
    "fig2=px.bar(tab2,x='categorie_vente',y='n',color='categorie_vente',\n",
    "            color_discrete_sequence=px.colors.qualitative.Pastel,\n",
    "            title=\"Proportion des 80/20 (quantité)\",\n",
    "            text_auto=True,\n",
    "            labels={'categorie_vente':'Catégorie','n':\"Nombre d'articles\"}\n",
    "            )\n",
    "fig2.update(layout_showlegend=False)\n",
    "fig2.update_traces(textfont_size=16, textangle=0, textposition=\"inside\", cliponaxis=False)\n",
    "fig2.show()\n"
   ]
  },
  {
   "cell_type": "markdown",
   "id": "077789b1",
   "metadata": {},
   "source": [
    "<div style=\"border: 1px solid RGB(51,165,182);\" >\n",
    "<h3 style=\"margin: auto; padding: 20px; color: RGB(51,165,182); \">Etape 5.3 - Analyse des stocks</h3>\n",
    "</div>"
   ]
  },
  {
   "cell_type": "code",
   "execution_count": 60,
   "id": "14e45472",
   "metadata": {},
   "outputs": [
    {
     "data": {
      "application/vnd.plotly.v1+json": {
       "config": {
        "plotlyServerURL": "https://plot.ly"
       },
       "data": [
        {
         "alignmentgroup": "True",
         "hovertemplate": "Articles=%{x}<br>Durée stock (mois)=%{y}<extra></extra>",
         "legendgroup": "",
         "marker": {
          "color": "rgb(102, 197, 204)",
          "pattern": {
           "shape": ""
          }
         },
         "name": "",
         "offsetgroup": "",
         "orientation": "v",
         "showlegend": false,
         "textposition": "auto",
         "texttemplate": "%{y}",
         "type": "bar",
         "x": [
          "Champagne Gosset Grand Millésime 2006",
          "Champagne Gosset Célébris Vintage 2007",
          "Champagne Egly-Ouriet Premier Cru Les Vignes de Vrigny",
          "Champagne Egly-Ouriet Grand Cru Brut Tradition",
          "Champagne Mailly Grand Cru Brut Rosé",
          "Champagne Larmandier-Bernier Latitude",
          "Champagne Gosset Grand Rosé",
          "Champagne Agrapart &amp; Fils L'Avizoise Extra Brut Blanc de Blancs Grand Cru 2012",
          "Champagne Egly-Ouriet Grand Cru Extra Brut V.P.",
          "Champagne Mailly Grand Cru Intemporelle 2010",
          "Champagne Gosset Grand Blanc de Blancs",
          "Champagne Mailly Grand Cru Intemporelle Rosé 2009",
          "Domaine Weinbach Gewurztraminer Grand Cru Furstentum SGN 2010 1/2",
          "Château de Meursault Puligny-Montrachet 1er Cru Champ Canet 2014",
          "Champagne Agrapart &amp; Fils Les 7 Crus Brut Blanc de Blancs",
          "Champagne Larmandier-Bernier Terre de Vertus Premier Cru 2011",
          "Coteaux Champenois Egly-Ouriet Ambonnay Rouge 2016",
          "Champagne Larmandier-Bernier Grand Cru Les Chemins d'Avize 2011",
          "Champagne Gosset Grande Réserve",
          "Champagne Mailly Grand Cru Brut Réserve"
         ],
         "xaxis": "x",
         "y": [
          31.25,
          27.6,
          27,
          25,
          23.67,
          23,
          22.75,
          22.67,
          20.71,
          20.5,
          20.29,
          20.2,
          19,
          18,
          17.17,
          16.67,
          16.33,
          16,
          15.38,
          14.33
         ],
         "yaxis": "y"
        }
       ],
       "layout": {
        "barmode": "relative",
        "legend": {
         "tracegroupgap": 0
        },
        "template": {
         "data": {
          "bar": [
           {
            "error_x": {
             "color": "#2a3f5f"
            },
            "error_y": {
             "color": "#2a3f5f"
            },
            "marker": {
             "line": {
              "color": "#E5ECF6",
              "width": 0.5
             },
             "pattern": {
              "fillmode": "overlay",
              "size": 10,
              "solidity": 0.2
             }
            },
            "type": "bar"
           }
          ],
          "barpolar": [
           {
            "marker": {
             "line": {
              "color": "#E5ECF6",
              "width": 0.5
             },
             "pattern": {
              "fillmode": "overlay",
              "size": 10,
              "solidity": 0.2
             }
            },
            "type": "barpolar"
           }
          ],
          "carpet": [
           {
            "aaxis": {
             "endlinecolor": "#2a3f5f",
             "gridcolor": "white",
             "linecolor": "white",
             "minorgridcolor": "white",
             "startlinecolor": "#2a3f5f"
            },
            "baxis": {
             "endlinecolor": "#2a3f5f",
             "gridcolor": "white",
             "linecolor": "white",
             "minorgridcolor": "white",
             "startlinecolor": "#2a3f5f"
            },
            "type": "carpet"
           }
          ],
          "choropleth": [
           {
            "colorbar": {
             "outlinewidth": 0,
             "ticks": ""
            },
            "type": "choropleth"
           }
          ],
          "contour": [
           {
            "colorbar": {
             "outlinewidth": 0,
             "ticks": ""
            },
            "colorscale": [
             [
              0,
              "#0d0887"
             ],
             [
              0.1111111111111111,
              "#46039f"
             ],
             [
              0.2222222222222222,
              "#7201a8"
             ],
             [
              0.3333333333333333,
              "#9c179e"
             ],
             [
              0.4444444444444444,
              "#bd3786"
             ],
             [
              0.5555555555555556,
              "#d8576b"
             ],
             [
              0.6666666666666666,
              "#ed7953"
             ],
             [
              0.7777777777777778,
              "#fb9f3a"
             ],
             [
              0.8888888888888888,
              "#fdca26"
             ],
             [
              1,
              "#f0f921"
             ]
            ],
            "type": "contour"
           }
          ],
          "contourcarpet": [
           {
            "colorbar": {
             "outlinewidth": 0,
             "ticks": ""
            },
            "type": "contourcarpet"
           }
          ],
          "heatmap": [
           {
            "colorbar": {
             "outlinewidth": 0,
             "ticks": ""
            },
            "colorscale": [
             [
              0,
              "#0d0887"
             ],
             [
              0.1111111111111111,
              "#46039f"
             ],
             [
              0.2222222222222222,
              "#7201a8"
             ],
             [
              0.3333333333333333,
              "#9c179e"
             ],
             [
              0.4444444444444444,
              "#bd3786"
             ],
             [
              0.5555555555555556,
              "#d8576b"
             ],
             [
              0.6666666666666666,
              "#ed7953"
             ],
             [
              0.7777777777777778,
              "#fb9f3a"
             ],
             [
              0.8888888888888888,
              "#fdca26"
             ],
             [
              1,
              "#f0f921"
             ]
            ],
            "type": "heatmap"
           }
          ],
          "heatmapgl": [
           {
            "colorbar": {
             "outlinewidth": 0,
             "ticks": ""
            },
            "colorscale": [
             [
              0,
              "#0d0887"
             ],
             [
              0.1111111111111111,
              "#46039f"
             ],
             [
              0.2222222222222222,
              "#7201a8"
             ],
             [
              0.3333333333333333,
              "#9c179e"
             ],
             [
              0.4444444444444444,
              "#bd3786"
             ],
             [
              0.5555555555555556,
              "#d8576b"
             ],
             [
              0.6666666666666666,
              "#ed7953"
             ],
             [
              0.7777777777777778,
              "#fb9f3a"
             ],
             [
              0.8888888888888888,
              "#fdca26"
             ],
             [
              1,
              "#f0f921"
             ]
            ],
            "type": "heatmapgl"
           }
          ],
          "histogram": [
           {
            "marker": {
             "pattern": {
              "fillmode": "overlay",
              "size": 10,
              "solidity": 0.2
             }
            },
            "type": "histogram"
           }
          ],
          "histogram2d": [
           {
            "colorbar": {
             "outlinewidth": 0,
             "ticks": ""
            },
            "colorscale": [
             [
              0,
              "#0d0887"
             ],
             [
              0.1111111111111111,
              "#46039f"
             ],
             [
              0.2222222222222222,
              "#7201a8"
             ],
             [
              0.3333333333333333,
              "#9c179e"
             ],
             [
              0.4444444444444444,
              "#bd3786"
             ],
             [
              0.5555555555555556,
              "#d8576b"
             ],
             [
              0.6666666666666666,
              "#ed7953"
             ],
             [
              0.7777777777777778,
              "#fb9f3a"
             ],
             [
              0.8888888888888888,
              "#fdca26"
             ],
             [
              1,
              "#f0f921"
             ]
            ],
            "type": "histogram2d"
           }
          ],
          "histogram2dcontour": [
           {
            "colorbar": {
             "outlinewidth": 0,
             "ticks": ""
            },
            "colorscale": [
             [
              0,
              "#0d0887"
             ],
             [
              0.1111111111111111,
              "#46039f"
             ],
             [
              0.2222222222222222,
              "#7201a8"
             ],
             [
              0.3333333333333333,
              "#9c179e"
             ],
             [
              0.4444444444444444,
              "#bd3786"
             ],
             [
              0.5555555555555556,
              "#d8576b"
             ],
             [
              0.6666666666666666,
              "#ed7953"
             ],
             [
              0.7777777777777778,
              "#fb9f3a"
             ],
             [
              0.8888888888888888,
              "#fdca26"
             ],
             [
              1,
              "#f0f921"
             ]
            ],
            "type": "histogram2dcontour"
           }
          ],
          "mesh3d": [
           {
            "colorbar": {
             "outlinewidth": 0,
             "ticks": ""
            },
            "type": "mesh3d"
           }
          ],
          "parcoords": [
           {
            "line": {
             "colorbar": {
              "outlinewidth": 0,
              "ticks": ""
             }
            },
            "type": "parcoords"
           }
          ],
          "pie": [
           {
            "automargin": true,
            "type": "pie"
           }
          ],
          "scatter": [
           {
            "fillpattern": {
             "fillmode": "overlay",
             "size": 10,
             "solidity": 0.2
            },
            "type": "scatter"
           }
          ],
          "scatter3d": [
           {
            "line": {
             "colorbar": {
              "outlinewidth": 0,
              "ticks": ""
             }
            },
            "marker": {
             "colorbar": {
              "outlinewidth": 0,
              "ticks": ""
             }
            },
            "type": "scatter3d"
           }
          ],
          "scattercarpet": [
           {
            "marker": {
             "colorbar": {
              "outlinewidth": 0,
              "ticks": ""
             }
            },
            "type": "scattercarpet"
           }
          ],
          "scattergeo": [
           {
            "marker": {
             "colorbar": {
              "outlinewidth": 0,
              "ticks": ""
             }
            },
            "type": "scattergeo"
           }
          ],
          "scattergl": [
           {
            "marker": {
             "colorbar": {
              "outlinewidth": 0,
              "ticks": ""
             }
            },
            "type": "scattergl"
           }
          ],
          "scattermapbox": [
           {
            "marker": {
             "colorbar": {
              "outlinewidth": 0,
              "ticks": ""
             }
            },
            "type": "scattermapbox"
           }
          ],
          "scatterpolar": [
           {
            "marker": {
             "colorbar": {
              "outlinewidth": 0,
              "ticks": ""
             }
            },
            "type": "scatterpolar"
           }
          ],
          "scatterpolargl": [
           {
            "marker": {
             "colorbar": {
              "outlinewidth": 0,
              "ticks": ""
             }
            },
            "type": "scatterpolargl"
           }
          ],
          "scatterternary": [
           {
            "marker": {
             "colorbar": {
              "outlinewidth": 0,
              "ticks": ""
             }
            },
            "type": "scatterternary"
           }
          ],
          "surface": [
           {
            "colorbar": {
             "outlinewidth": 0,
             "ticks": ""
            },
            "colorscale": [
             [
              0,
              "#0d0887"
             ],
             [
              0.1111111111111111,
              "#46039f"
             ],
             [
              0.2222222222222222,
              "#7201a8"
             ],
             [
              0.3333333333333333,
              "#9c179e"
             ],
             [
              0.4444444444444444,
              "#bd3786"
             ],
             [
              0.5555555555555556,
              "#d8576b"
             ],
             [
              0.6666666666666666,
              "#ed7953"
             ],
             [
              0.7777777777777778,
              "#fb9f3a"
             ],
             [
              0.8888888888888888,
              "#fdca26"
             ],
             [
              1,
              "#f0f921"
             ]
            ],
            "type": "surface"
           }
          ],
          "table": [
           {
            "cells": {
             "fill": {
              "color": "#EBF0F8"
             },
             "line": {
              "color": "white"
             }
            },
            "header": {
             "fill": {
              "color": "#C8D4E3"
             },
             "line": {
              "color": "white"
             }
            },
            "type": "table"
           }
          ]
         },
         "layout": {
          "annotationdefaults": {
           "arrowcolor": "#2a3f5f",
           "arrowhead": 0,
           "arrowwidth": 1
          },
          "autotypenumbers": "strict",
          "coloraxis": {
           "colorbar": {
            "outlinewidth": 0,
            "ticks": ""
           }
          },
          "colorscale": {
           "diverging": [
            [
             0,
             "#8e0152"
            ],
            [
             0.1,
             "#c51b7d"
            ],
            [
             0.2,
             "#de77ae"
            ],
            [
             0.3,
             "#f1b6da"
            ],
            [
             0.4,
             "#fde0ef"
            ],
            [
             0.5,
             "#f7f7f7"
            ],
            [
             0.6,
             "#e6f5d0"
            ],
            [
             0.7,
             "#b8e186"
            ],
            [
             0.8,
             "#7fbc41"
            ],
            [
             0.9,
             "#4d9221"
            ],
            [
             1,
             "#276419"
            ]
           ],
           "sequential": [
            [
             0,
             "#0d0887"
            ],
            [
             0.1111111111111111,
             "#46039f"
            ],
            [
             0.2222222222222222,
             "#7201a8"
            ],
            [
             0.3333333333333333,
             "#9c179e"
            ],
            [
             0.4444444444444444,
             "#bd3786"
            ],
            [
             0.5555555555555556,
             "#d8576b"
            ],
            [
             0.6666666666666666,
             "#ed7953"
            ],
            [
             0.7777777777777778,
             "#fb9f3a"
            ],
            [
             0.8888888888888888,
             "#fdca26"
            ],
            [
             1,
             "#f0f921"
            ]
           ],
           "sequentialminus": [
            [
             0,
             "#0d0887"
            ],
            [
             0.1111111111111111,
             "#46039f"
            ],
            [
             0.2222222222222222,
             "#7201a8"
            ],
            [
             0.3333333333333333,
             "#9c179e"
            ],
            [
             0.4444444444444444,
             "#bd3786"
            ],
            [
             0.5555555555555556,
             "#d8576b"
            ],
            [
             0.6666666666666666,
             "#ed7953"
            ],
            [
             0.7777777777777778,
             "#fb9f3a"
            ],
            [
             0.8888888888888888,
             "#fdca26"
            ],
            [
             1,
             "#f0f921"
            ]
           ]
          },
          "colorway": [
           "#636efa",
           "#EF553B",
           "#00cc96",
           "#ab63fa",
           "#FFA15A",
           "#19d3f3",
           "#FF6692",
           "#B6E880",
           "#FF97FF",
           "#FECB52"
          ],
          "font": {
           "color": "#2a3f5f"
          },
          "geo": {
           "bgcolor": "white",
           "lakecolor": "white",
           "landcolor": "#E5ECF6",
           "showlakes": true,
           "showland": true,
           "subunitcolor": "white"
          },
          "hoverlabel": {
           "align": "left"
          },
          "hovermode": "closest",
          "mapbox": {
           "style": "light"
          },
          "paper_bgcolor": "white",
          "plot_bgcolor": "#E5ECF6",
          "polar": {
           "angularaxis": {
            "gridcolor": "white",
            "linecolor": "white",
            "ticks": ""
           },
           "bgcolor": "#E5ECF6",
           "radialaxis": {
            "gridcolor": "white",
            "linecolor": "white",
            "ticks": ""
           }
          },
          "scene": {
           "xaxis": {
            "backgroundcolor": "#E5ECF6",
            "gridcolor": "white",
            "gridwidth": 2,
            "linecolor": "white",
            "showbackground": true,
            "ticks": "",
            "zerolinecolor": "white"
           },
           "yaxis": {
            "backgroundcolor": "#E5ECF6",
            "gridcolor": "white",
            "gridwidth": 2,
            "linecolor": "white",
            "showbackground": true,
            "ticks": "",
            "zerolinecolor": "white"
           },
           "zaxis": {
            "backgroundcolor": "#E5ECF6",
            "gridcolor": "white",
            "gridwidth": 2,
            "linecolor": "white",
            "showbackground": true,
            "ticks": "",
            "zerolinecolor": "white"
           }
          },
          "shapedefaults": {
           "line": {
            "color": "#2a3f5f"
           }
          },
          "ternary": {
           "aaxis": {
            "gridcolor": "white",
            "linecolor": "white",
            "ticks": ""
           },
           "baxis": {
            "gridcolor": "white",
            "linecolor": "white",
            "ticks": ""
           },
           "bgcolor": "#E5ECF6",
           "caxis": {
            "gridcolor": "white",
            "linecolor": "white",
            "ticks": ""
           }
          },
          "title": {
           "x": 0.05
          },
          "xaxis": {
           "automargin": true,
           "gridcolor": "white",
           "linecolor": "white",
           "ticks": "",
           "title": {
            "standoff": 15
           },
           "zerolinecolor": "white",
           "zerolinewidth": 2
          },
          "yaxis": {
           "automargin": true,
           "gridcolor": "white",
           "linecolor": "white",
           "ticks": "",
           "title": {
            "standoff": 15
           },
           "zerolinecolor": "white",
           "zerolinewidth": 2
          }
         }
        },
        "title": {
         "text": "Flop 20 des articles qui ont le plus de mois de stock "
        },
        "xaxis": {
         "anchor": "y",
         "domain": [
          0,
          1
         ],
         "title": {
          "text": "Articles"
         }
        },
        "yaxis": {
         "anchor": "x",
         "domain": [
          0,
          1
         ],
         "title": {
          "text": "Durée stock (mois)"
         }
        }
       }
      }
     },
     "metadata": {},
     "output_type": "display_data"
    }
   ],
   "source": [
    "######################################\n",
    "# Calcule le nombre de mois de stock #\n",
    "######################################\n",
    "\n",
    "\n",
    "\n",
    "#Création de la colonne Rotation de stock\n",
    "df_merge[\"mois_stock\"]= round(df_merge[\"stock_quantity\"]/df_merge[\"total_sales\"],2)\n",
    "#Remplacement des \"inf\" par 0\n",
    "df_merge.fillna({\"mois_stock\" : 0},inplace=True)\n",
    "df_merge.replace([np.inf],0,inplace=True)\n",
    "#Effectuer le tri dans l'ordre décroissant du nombre de mois de stock dans le dataset df_merge\n",
    "df_merge.sort_values('mois_stock',ascending=False,inplace=True)\n",
    "df_merge.reset_index()\n",
    "df_flop20 = df_merge.head(20)\n",
    "#Graphique en barre du flop 20 des produits qui ont le plus de mois de stock\n",
    "flop20 = px.bar(df_flop20,x='post_title',y='mois_stock',\n",
    "                color_discrete_sequence=px.colors.qualitative.Pastel,\n",
    "                title=\"Flop 20 des articles qui ont le plus de mois de stock \",\n",
    "                text_auto=True,\n",
    "                labels={'mois_stock':'Durée stock (mois)','post_title':'Articles'}\n",
    "                )\n",
    "flop20.show()"
   ]
  },
  {
   "cell_type": "code",
   "execution_count": 61,
   "id": "0cd6696c",
   "metadata": {},
   "outputs": [
    {
     "name": "stdout",
     "output_type": "stream",
     "text": [
      "La valorisation du stock actuelle est de 494682.4 €\n"
     ]
    }
   ],
   "source": [
    "####################################\n",
    "# Valorisation des stocks en euros #\n",
    "####################################\n",
    "\n",
    "#Création de la colonne Valorisation des stocks en euros\n",
    "df_merge[\"valorisation_stock_euros\"] = (df_merge[\"stock_quantity\"] * df_merge[\"price\"])\n",
    "#Calculer la somme de la colonne \"Valorisation_stock_euros\"\n",
    "valorisation_stock = round(df_merge['valorisation_stock_euros'].sum(),2)\n",
    "print(\"La valorisation du stock actuelle est de {} €\".format(valorisation_stock))"
   ]
  },
  {
   "cell_type": "code",
   "execution_count": 62,
   "id": "4a3dd99d",
   "metadata": {},
   "outputs": [
    {
     "name": "stdout",
     "output_type": "stream",
     "text": [
      "Il y a actuellement au total 16741 articles en stock.\n"
     ]
    }
   ],
   "source": [
    "##############################################\n",
    "# Valorisation du nombre de produit en stock #\n",
    "##############################################\n",
    "\n",
    "#Calculer la somme de la colonne stock quantity\n",
    "print(\"Il y a actuellement au total {} articles en stock.\".format(df_merge[\"stock_quantity\"].sum()))"
   ]
  },
  {
   "cell_type": "markdown",
   "id": "9e48f6dc",
   "metadata": {},
   "source": [
    "<div style=\"border: 1px solid RGB(51,165,182);\" >\n",
    "<h3 style=\"margin: auto; padding: 20px; color: RGB(51,165,182); \">Etape 5.4 - Analyse du taux de marge</h3>\n",
    "</div>"
   ]
  },
  {
   "cell_type": "code",
   "execution_count": 63,
   "id": "7de5ca46",
   "metadata": {},
   "outputs": [
    {
     "name": "stdout",
     "output_type": "stream",
     "text": [
      "Le taux minimum est de -635.1.\n",
      "Le taux maximum est de 47.75.\n"
     ]
    }
   ],
   "source": [
    "############################\n",
    "# Analyse du taux de marge #\n",
    "############################\n",
    "\n",
    "#Création de la colonne prix HT\n",
    "df_merge[\"price_ht\"] = round((df_merge[\"price\"]/1.20),2)\n",
    "\n",
    "#Création de la colonne Taux de marge\n",
    "df_merge[\"taux_marge\"] = round((((df_merge[\"price_ht\"]-df_merge[\"purchase_price\"])/df_merge[\"price_ht\"])*100),2)\n",
    "#Afficher le prix minimum de la colonne \"taux_marge\"\n",
    "taux_min = df_merge[\"taux_marge\"].min()\n",
    "print(\"Le taux minimum est de {}.\".format(taux_min))\n",
    "#Afficher le prix maximum de la colonne \"taux_marge\"\n",
    "taux_max = df_merge[\"taux_marge\"].max()\n",
    "print(\"Le taux maximum est de {}.\".format(taux_max))"
   ]
  },
  {
   "cell_type": "code",
   "execution_count": 64,
   "id": "6082d42b",
   "metadata": {},
   "outputs": [
    {
     "data": {
      "text/html": [
       "<div>\n",
       "<style scoped>\n",
       "    .dataframe tbody tr th:only-of-type {\n",
       "        vertical-align: middle;\n",
       "    }\n",
       "\n",
       "    .dataframe tbody tr th {\n",
       "        vertical-align: top;\n",
       "    }\n",
       "\n",
       "    .dataframe thead th {\n",
       "        text-align: right;\n",
       "    }\n",
       "</style>\n",
       "<table border=\"1\" class=\"dataframe\">\n",
       "  <thead>\n",
       "    <tr style=\"text-align: right;\">\n",
       "      <th></th>\n",
       "      <th>product_id</th>\n",
       "      <th>onsale_web</th>\n",
       "      <th>price</th>\n",
       "      <th>stock_quantity</th>\n",
       "      <th>stock_status</th>\n",
       "      <th>purchase_price</th>\n",
       "      <th>id_web</th>\n",
       "      <th>sku</th>\n",
       "      <th>total_sales</th>\n",
       "      <th>tax_status</th>\n",
       "      <th>...</th>\n",
       "      <th>part_ca</th>\n",
       "      <th>somme_cumulative_ca</th>\n",
       "      <th>categorie_ca</th>\n",
       "      <th>part_quantité_vente</th>\n",
       "      <th>somme_cumulative_stock</th>\n",
       "      <th>categorie_vente</th>\n",
       "      <th>mois_stock</th>\n",
       "      <th>valorisation_stock_euros</th>\n",
       "      <th>price_ht</th>\n",
       "      <th>taux_marge</th>\n",
       "    </tr>\n",
       "  </thead>\n",
       "  <tbody>\n",
       "    <tr>\n",
       "      <th>344</th>\n",
       "      <td>4355</td>\n",
       "      <td>1</td>\n",
       "      <td>12.65</td>\n",
       "      <td>97</td>\n",
       "      <td>instock</td>\n",
       "      <td>77.48</td>\n",
       "      <td>12589</td>\n",
       "      <td>12589</td>\n",
       "      <td>0.0</td>\n",
       "      <td>taxable</td>\n",
       "      <td>...</td>\n",
       "      <td>0.0</td>\n",
       "      <td>0.0</td>\n",
       "      <td>80%CA</td>\n",
       "      <td>0.0</td>\n",
       "      <td>0.0</td>\n",
       "      <td>80%Ventes</td>\n",
       "      <td>0.0</td>\n",
       "      <td>1227.05</td>\n",
       "      <td>10.54</td>\n",
       "      <td>-635.1</td>\n",
       "    </tr>\n",
       "  </tbody>\n",
       "</table>\n",
       "<p>1 rows × 30 columns</p>\n",
       "</div>"
      ],
      "text/plain": [
       "     product_id  onsale_web  price  stock_quantity stock_status  \\\n",
       "344        4355           1  12.65              97      instock   \n",
       "\n",
       "     purchase_price id_web    sku  total_sales tax_status  ...  part_ca  \\\n",
       "344           77.48  12589  12589          0.0    taxable  ...      0.0   \n",
       "\n",
       "    somme_cumulative_ca categorie_ca part_quantité_vente  \\\n",
       "344                 0.0        80%CA                 0.0   \n",
       "\n",
       "    somme_cumulative_stock categorie_vente mois_stock  \\\n",
       "344                    0.0       80%Ventes        0.0   \n",
       "\n",
       "    valorisation_stock_euros price_ht  taux_marge  \n",
       "344                  1227.05    10.54      -635.1  \n",
       "\n",
       "[1 rows x 30 columns]"
      ]
     },
     "execution_count": 64,
     "metadata": {},
     "output_type": "execute_result"
    }
   ],
   "source": [
    "#affichage de la ligne avec un taux de marge inférieur à 0\n",
    "df_merge.loc[df_merge[\"taux_marge\"] < 0]"
   ]
  },
  {
   "cell_type": "code",
   "execution_count": 65,
   "id": "d756037c",
   "metadata": {},
   "outputs": [
    {
     "name": "stdout",
     "output_type": "stream",
     "text": [
      "Le taux minimum pratiqué est de 22.8.\n",
      "Le taux maximum pratiqué est de 47.75.\n"
     ]
    }
   ],
   "source": [
    "#création d'un dataframe avec les taux positifs\n",
    "df_taux_positif = df_merge.loc[df_merge['taux_marge']>0]\n",
    "#Afficher le prix minimum de la colonne \"taux_marge\"\n",
    "taux_min = df_taux_positif[\"taux_marge\"].min()\n",
    "print(\"Le taux minimum pratiqué est de {}.\".format(taux_min))\n",
    "#Afficher le prix maximum de la colonne \"taux_marge\"\n",
    "taux_max = df_taux_positif[\"taux_marge\"].max()\n",
    "print(\"Le taux maximum pratiqué est de {}.\".format(taux_max))\n"
   ]
  },
  {
   "cell_type": "code",
   "execution_count": 66,
   "id": "b24042f8",
   "metadata": {},
   "outputs": [
    {
     "data": {
      "application/vnd.plotly.v1+json": {
       "config": {
        "plotlyServerURL": "https://plot.ly"
       },
       "data": [
        {
         "alignmentgroup": "True",
         "cliponaxis": false,
         "hovertemplate": "Type de produit=%{x}<br>Taux de la marge(%)=%{y}<extra></extra>",
         "legendgroup": "",
         "marker": {
          "color": "rgb(102, 197, 204)",
          "pattern": {
           "shape": ""
          }
         },
         "name": "",
         "offsetgroup": "",
         "orientation": "v",
         "showlegend": false,
         "textangle": 0,
         "textfont": {
          "size": 16
         },
         "textposition": "inside",
         "texttemplate": "%{y}",
         "type": "bar",
         "x": [
          "Champagne",
          "Cognac",
          "Gin",
          "Huile d'olive",
          "Vin",
          "Whisky"
         ],
         "xaxis": "x",
         "y": [
          28.49,
          45.07,
          42.8,
          25.01,
          38.01,
          44.92
         ],
         "yaxis": "y"
        }
       ],
       "layout": {
        "annotations": [
         {
          "arrowhead": 1,
          "showarrow": true,
          "text": "Moyenne du taux de marge général (37.8%)",
          "x": "0",
          "y": 39
         }
        ],
        "barmode": "relative",
        "legend": {
         "tracegroupgap": 0
        },
        "shapes": [
         {
          "line": {
           "color": "salmon",
           "dash": "dot",
           "width": 3
          },
          "opacity": 1,
          "type": "line",
          "x0": 0,
          "x1": 1,
          "xref": "paper",
          "y0": 37.8,
          "y1": 37.8,
          "yref": "y"
         }
        ],
        "template": {
         "data": {
          "bar": [
           {
            "error_x": {
             "color": "#2a3f5f"
            },
            "error_y": {
             "color": "#2a3f5f"
            },
            "marker": {
             "line": {
              "color": "#E5ECF6",
              "width": 0.5
             },
             "pattern": {
              "fillmode": "overlay",
              "size": 10,
              "solidity": 0.2
             }
            },
            "type": "bar"
           }
          ],
          "barpolar": [
           {
            "marker": {
             "line": {
              "color": "#E5ECF6",
              "width": 0.5
             },
             "pattern": {
              "fillmode": "overlay",
              "size": 10,
              "solidity": 0.2
             }
            },
            "type": "barpolar"
           }
          ],
          "carpet": [
           {
            "aaxis": {
             "endlinecolor": "#2a3f5f",
             "gridcolor": "white",
             "linecolor": "white",
             "minorgridcolor": "white",
             "startlinecolor": "#2a3f5f"
            },
            "baxis": {
             "endlinecolor": "#2a3f5f",
             "gridcolor": "white",
             "linecolor": "white",
             "minorgridcolor": "white",
             "startlinecolor": "#2a3f5f"
            },
            "type": "carpet"
           }
          ],
          "choropleth": [
           {
            "colorbar": {
             "outlinewidth": 0,
             "ticks": ""
            },
            "type": "choropleth"
           }
          ],
          "contour": [
           {
            "colorbar": {
             "outlinewidth": 0,
             "ticks": ""
            },
            "colorscale": [
             [
              0,
              "#0d0887"
             ],
             [
              0.1111111111111111,
              "#46039f"
             ],
             [
              0.2222222222222222,
              "#7201a8"
             ],
             [
              0.3333333333333333,
              "#9c179e"
             ],
             [
              0.4444444444444444,
              "#bd3786"
             ],
             [
              0.5555555555555556,
              "#d8576b"
             ],
             [
              0.6666666666666666,
              "#ed7953"
             ],
             [
              0.7777777777777778,
              "#fb9f3a"
             ],
             [
              0.8888888888888888,
              "#fdca26"
             ],
             [
              1,
              "#f0f921"
             ]
            ],
            "type": "contour"
           }
          ],
          "contourcarpet": [
           {
            "colorbar": {
             "outlinewidth": 0,
             "ticks": ""
            },
            "type": "contourcarpet"
           }
          ],
          "heatmap": [
           {
            "colorbar": {
             "outlinewidth": 0,
             "ticks": ""
            },
            "colorscale": [
             [
              0,
              "#0d0887"
             ],
             [
              0.1111111111111111,
              "#46039f"
             ],
             [
              0.2222222222222222,
              "#7201a8"
             ],
             [
              0.3333333333333333,
              "#9c179e"
             ],
             [
              0.4444444444444444,
              "#bd3786"
             ],
             [
              0.5555555555555556,
              "#d8576b"
             ],
             [
              0.6666666666666666,
              "#ed7953"
             ],
             [
              0.7777777777777778,
              "#fb9f3a"
             ],
             [
              0.8888888888888888,
              "#fdca26"
             ],
             [
              1,
              "#f0f921"
             ]
            ],
            "type": "heatmap"
           }
          ],
          "heatmapgl": [
           {
            "colorbar": {
             "outlinewidth": 0,
             "ticks": ""
            },
            "colorscale": [
             [
              0,
              "#0d0887"
             ],
             [
              0.1111111111111111,
              "#46039f"
             ],
             [
              0.2222222222222222,
              "#7201a8"
             ],
             [
              0.3333333333333333,
              "#9c179e"
             ],
             [
              0.4444444444444444,
              "#bd3786"
             ],
             [
              0.5555555555555556,
              "#d8576b"
             ],
             [
              0.6666666666666666,
              "#ed7953"
             ],
             [
              0.7777777777777778,
              "#fb9f3a"
             ],
             [
              0.8888888888888888,
              "#fdca26"
             ],
             [
              1,
              "#f0f921"
             ]
            ],
            "type": "heatmapgl"
           }
          ],
          "histogram": [
           {
            "marker": {
             "pattern": {
              "fillmode": "overlay",
              "size": 10,
              "solidity": 0.2
             }
            },
            "type": "histogram"
           }
          ],
          "histogram2d": [
           {
            "colorbar": {
             "outlinewidth": 0,
             "ticks": ""
            },
            "colorscale": [
             [
              0,
              "#0d0887"
             ],
             [
              0.1111111111111111,
              "#46039f"
             ],
             [
              0.2222222222222222,
              "#7201a8"
             ],
             [
              0.3333333333333333,
              "#9c179e"
             ],
             [
              0.4444444444444444,
              "#bd3786"
             ],
             [
              0.5555555555555556,
              "#d8576b"
             ],
             [
              0.6666666666666666,
              "#ed7953"
             ],
             [
              0.7777777777777778,
              "#fb9f3a"
             ],
             [
              0.8888888888888888,
              "#fdca26"
             ],
             [
              1,
              "#f0f921"
             ]
            ],
            "type": "histogram2d"
           }
          ],
          "histogram2dcontour": [
           {
            "colorbar": {
             "outlinewidth": 0,
             "ticks": ""
            },
            "colorscale": [
             [
              0,
              "#0d0887"
             ],
             [
              0.1111111111111111,
              "#46039f"
             ],
             [
              0.2222222222222222,
              "#7201a8"
             ],
             [
              0.3333333333333333,
              "#9c179e"
             ],
             [
              0.4444444444444444,
              "#bd3786"
             ],
             [
              0.5555555555555556,
              "#d8576b"
             ],
             [
              0.6666666666666666,
              "#ed7953"
             ],
             [
              0.7777777777777778,
              "#fb9f3a"
             ],
             [
              0.8888888888888888,
              "#fdca26"
             ],
             [
              1,
              "#f0f921"
             ]
            ],
            "type": "histogram2dcontour"
           }
          ],
          "mesh3d": [
           {
            "colorbar": {
             "outlinewidth": 0,
             "ticks": ""
            },
            "type": "mesh3d"
           }
          ],
          "parcoords": [
           {
            "line": {
             "colorbar": {
              "outlinewidth": 0,
              "ticks": ""
             }
            },
            "type": "parcoords"
           }
          ],
          "pie": [
           {
            "automargin": true,
            "type": "pie"
           }
          ],
          "scatter": [
           {
            "fillpattern": {
             "fillmode": "overlay",
             "size": 10,
             "solidity": 0.2
            },
            "type": "scatter"
           }
          ],
          "scatter3d": [
           {
            "line": {
             "colorbar": {
              "outlinewidth": 0,
              "ticks": ""
             }
            },
            "marker": {
             "colorbar": {
              "outlinewidth": 0,
              "ticks": ""
             }
            },
            "type": "scatter3d"
           }
          ],
          "scattercarpet": [
           {
            "marker": {
             "colorbar": {
              "outlinewidth": 0,
              "ticks": ""
             }
            },
            "type": "scattercarpet"
           }
          ],
          "scattergeo": [
           {
            "marker": {
             "colorbar": {
              "outlinewidth": 0,
              "ticks": ""
             }
            },
            "type": "scattergeo"
           }
          ],
          "scattergl": [
           {
            "marker": {
             "colorbar": {
              "outlinewidth": 0,
              "ticks": ""
             }
            },
            "type": "scattergl"
           }
          ],
          "scattermapbox": [
           {
            "marker": {
             "colorbar": {
              "outlinewidth": 0,
              "ticks": ""
             }
            },
            "type": "scattermapbox"
           }
          ],
          "scatterpolar": [
           {
            "marker": {
             "colorbar": {
              "outlinewidth": 0,
              "ticks": ""
             }
            },
            "type": "scatterpolar"
           }
          ],
          "scatterpolargl": [
           {
            "marker": {
             "colorbar": {
              "outlinewidth": 0,
              "ticks": ""
             }
            },
            "type": "scatterpolargl"
           }
          ],
          "scatterternary": [
           {
            "marker": {
             "colorbar": {
              "outlinewidth": 0,
              "ticks": ""
             }
            },
            "type": "scatterternary"
           }
          ],
          "surface": [
           {
            "colorbar": {
             "outlinewidth": 0,
             "ticks": ""
            },
            "colorscale": [
             [
              0,
              "#0d0887"
             ],
             [
              0.1111111111111111,
              "#46039f"
             ],
             [
              0.2222222222222222,
              "#7201a8"
             ],
             [
              0.3333333333333333,
              "#9c179e"
             ],
             [
              0.4444444444444444,
              "#bd3786"
             ],
             [
              0.5555555555555556,
              "#d8576b"
             ],
             [
              0.6666666666666666,
              "#ed7953"
             ],
             [
              0.7777777777777778,
              "#fb9f3a"
             ],
             [
              0.8888888888888888,
              "#fdca26"
             ],
             [
              1,
              "#f0f921"
             ]
            ],
            "type": "surface"
           }
          ],
          "table": [
           {
            "cells": {
             "fill": {
              "color": "#EBF0F8"
             },
             "line": {
              "color": "white"
             }
            },
            "header": {
             "fill": {
              "color": "#C8D4E3"
             },
             "line": {
              "color": "white"
             }
            },
            "type": "table"
           }
          ]
         },
         "layout": {
          "annotationdefaults": {
           "arrowcolor": "#2a3f5f",
           "arrowhead": 0,
           "arrowwidth": 1
          },
          "autotypenumbers": "strict",
          "coloraxis": {
           "colorbar": {
            "outlinewidth": 0,
            "ticks": ""
           }
          },
          "colorscale": {
           "diverging": [
            [
             0,
             "#8e0152"
            ],
            [
             0.1,
             "#c51b7d"
            ],
            [
             0.2,
             "#de77ae"
            ],
            [
             0.3,
             "#f1b6da"
            ],
            [
             0.4,
             "#fde0ef"
            ],
            [
             0.5,
             "#f7f7f7"
            ],
            [
             0.6,
             "#e6f5d0"
            ],
            [
             0.7,
             "#b8e186"
            ],
            [
             0.8,
             "#7fbc41"
            ],
            [
             0.9,
             "#4d9221"
            ],
            [
             1,
             "#276419"
            ]
           ],
           "sequential": [
            [
             0,
             "#0d0887"
            ],
            [
             0.1111111111111111,
             "#46039f"
            ],
            [
             0.2222222222222222,
             "#7201a8"
            ],
            [
             0.3333333333333333,
             "#9c179e"
            ],
            [
             0.4444444444444444,
             "#bd3786"
            ],
            [
             0.5555555555555556,
             "#d8576b"
            ],
            [
             0.6666666666666666,
             "#ed7953"
            ],
            [
             0.7777777777777778,
             "#fb9f3a"
            ],
            [
             0.8888888888888888,
             "#fdca26"
            ],
            [
             1,
             "#f0f921"
            ]
           ],
           "sequentialminus": [
            [
             0,
             "#0d0887"
            ],
            [
             0.1111111111111111,
             "#46039f"
            ],
            [
             0.2222222222222222,
             "#7201a8"
            ],
            [
             0.3333333333333333,
             "#9c179e"
            ],
            [
             0.4444444444444444,
             "#bd3786"
            ],
            [
             0.5555555555555556,
             "#d8576b"
            ],
            [
             0.6666666666666666,
             "#ed7953"
            ],
            [
             0.7777777777777778,
             "#fb9f3a"
            ],
            [
             0.8888888888888888,
             "#fdca26"
            ],
            [
             1,
             "#f0f921"
            ]
           ]
          },
          "colorway": [
           "#636efa",
           "#EF553B",
           "#00cc96",
           "#ab63fa",
           "#FFA15A",
           "#19d3f3",
           "#FF6692",
           "#B6E880",
           "#FF97FF",
           "#FECB52"
          ],
          "font": {
           "color": "#2a3f5f"
          },
          "geo": {
           "bgcolor": "white",
           "lakecolor": "white",
           "landcolor": "#E5ECF6",
           "showlakes": true,
           "showland": true,
           "subunitcolor": "white"
          },
          "hoverlabel": {
           "align": "left"
          },
          "hovermode": "closest",
          "mapbox": {
           "style": "light"
          },
          "paper_bgcolor": "white",
          "plot_bgcolor": "#E5ECF6",
          "polar": {
           "angularaxis": {
            "gridcolor": "white",
            "linecolor": "white",
            "ticks": ""
           },
           "bgcolor": "#E5ECF6",
           "radialaxis": {
            "gridcolor": "white",
            "linecolor": "white",
            "ticks": ""
           }
          },
          "scene": {
           "xaxis": {
            "backgroundcolor": "#E5ECF6",
            "gridcolor": "white",
            "gridwidth": 2,
            "linecolor": "white",
            "showbackground": true,
            "ticks": "",
            "zerolinecolor": "white"
           },
           "yaxis": {
            "backgroundcolor": "#E5ECF6",
            "gridcolor": "white",
            "gridwidth": 2,
            "linecolor": "white",
            "showbackground": true,
            "ticks": "",
            "zerolinecolor": "white"
           },
           "zaxis": {
            "backgroundcolor": "#E5ECF6",
            "gridcolor": "white",
            "gridwidth": 2,
            "linecolor": "white",
            "showbackground": true,
            "ticks": "",
            "zerolinecolor": "white"
           }
          },
          "shapedefaults": {
           "line": {
            "color": "#2a3f5f"
           }
          },
          "ternary": {
           "aaxis": {
            "gridcolor": "white",
            "linecolor": "white",
            "ticks": ""
           },
           "baxis": {
            "gridcolor": "white",
            "linecolor": "white",
            "ticks": ""
           },
           "bgcolor": "#E5ECF6",
           "caxis": {
            "gridcolor": "white",
            "linecolor": "white",
            "ticks": ""
           }
          },
          "title": {
           "x": 0.05
          },
          "xaxis": {
           "automargin": true,
           "gridcolor": "white",
           "linecolor": "white",
           "ticks": "",
           "title": {
            "standoff": 15
           },
           "zerolinecolor": "white",
           "zerolinewidth": 2
          },
          "yaxis": {
           "automargin": true,
           "gridcolor": "white",
           "linecolor": "white",
           "ticks": "",
           "title": {
            "standoff": 15
           },
           "zerolinecolor": "white",
           "zerolinewidth": 2
          }
         }
        },
        "title": {
         "text": "Taux de marge par type de produit"
        },
        "xaxis": {
         "anchor": "y",
         "domain": [
          0,
          1
         ],
         "title": {
          "text": "Type de produit"
         }
        },
        "yaxis": {
         "anchor": "x",
         "domain": [
          0,
          1
         ],
         "title": {
          "text": "Taux de la marge(%)"
         }
        }
       }
      }
     },
     "metadata": {},
     "output_type": "display_data"
    }
   ],
   "source": [
    "#création d'un dataframe avec le taux de marge moyen par type de produit\n",
    "df_taux_marge_moyen = round(df_taux_positif.groupby('product_type').mean('taux_marge'),2)\n",
    "#Affichage dans un graphique du taux de marge par type de produit\n",
    "marge=px.bar(df_taux_marge_moyen,x=df_taux_marge_moyen.index,y='taux_marge',\n",
    "             title=\"Taux de marge par type de produit\",\n",
    "             color_discrete_sequence=px.colors.qualitative.Pastel,\n",
    "             text_auto=True,\n",
    "             labels={'product_type':'Type de produit','taux_marge':'Taux de la marge(%)'}\n",
    "             )\n",
    "marge.update_traces(textfont_size=16, textangle=0, textposition=\"inside\", cliponaxis=False)\n",
    "# [+]Ajout d'une ligne spécifiant la moyenne du taux de marge pratiqué tout produit confondu\n",
    "marge.add_shape( \n",
    "    type=\"line\", line_color=\"salmon\", line_width=3, opacity=1, line_dash=\"dot\",\n",
    "    x0=0, x1=1, xref=\"paper\", y0=37.8, y1=37.8, yref=\"y\"\n",
    ")\n",
    "# [+]Ajout du descriptif de la ligne\n",
    "marge.add_annotation( \n",
    "    text=\"Moyenne du taux de marge général (37.8%)\",x='0', y=39, arrowhead=1, showarrow=True\n",
    ")\n",
    "marge.show()\n",
    "\n"
   ]
  },
  {
   "cell_type": "markdown",
   "id": "ce216060",
   "metadata": {},
   "source": [
    "<div style=\"border: 1px solid RGB(51,165,182);\" >\n",
    "<h3 style=\"margin: auto; padding: 20px; color: RGB(51,165,182); \">Etape 5.5 - Analyse des correlations entre les variables stock, sales et price</h3>\n",
    "</div>"
   ]
  },
  {
   "cell_type": "code",
   "execution_count": 67,
   "id": "12e4a540",
   "metadata": {},
   "outputs": [
    {
     "data": {
      "image/png": "[encoded data removed]",
      "text/plain": [
       "<Figure size 640x480 with 2 Axes>"
      ]
     },
     "metadata": {},
     "output_type": "display_data"
    },
    {
     "data": {
      "image/png": "[encoded data removed]",
      "text/plain": [
       "<Figure size 640x480 with 2 Axes>"
      ]
     },
     "metadata": {},
     "output_type": "display_data"
    }
   ],
   "source": [
    "############################\n",
    "# Analyse des correlations #\n",
    "############################\n",
    "\n",
    "#Création d'un heatmap de correlation avec les variables stock, sales et price\n",
    "df_correlation = pd.DataFrame(df_merge,columns=[\"stock_quantity\",\"total_sales\",\"price\"])\n",
    "#display(df_correlation)\n",
    "corr=df_correlation.corr()\n",
    "hm = sns.heatmap(corr,cmap='viridis',annot=True)\n",
    "plt.show(hm)\n",
    "#On peut également créer un mask pour n'afficher qu'une demi heatmap\n",
    "mask = np.triu(np.ones_like(corr,dtype=bool))\n",
    "hm2=sns.heatmap(corr,\n",
    "                cmap='coolwarm',\n",
    "                annot=True,\n",
    "                mask=mask,\n",
    "                xticklabels=['Stock','Ventes','Prix'],\n",
    "                yticklabels=['Stock','Ventes','Prix'],\n",
    "                )\n",
    "hm2.set_title(\"Heatmap des corrélations entre les stocks, les ventes et le prix\")\n",
    "plt.show(hm2)\n"
   ]
  },
  {
   "cell_type": "code",
   "execution_count": 68,
   "id": "c49d1459",
   "metadata": {},
   "outputs": [
    {
     "name": "stdout",
     "output_type": "stream",
     "text": [
      "Une corrélation positive se fait remarquer entre les stocks et les ventes, ces variables augmentent dans le même sens.\n",
      "A l'inverse, le prix et les ventes ont une corrélation négative, ce qui veut dire que lorsque l'un baisse, l'autre à tendance a augmenter.\n",
      "Nous ne voyons aucune corrélation entre le prix et les stocks.\n"
     ]
    }
   ],
   "source": [
    "#Que peut-on conclure des correlations ?\n",
    "print(\"Une corrélation positive se fait remarquer entre les stocks et les ventes, ces variables augmentent dans le même sens.\")\n",
    "print(\"A l'inverse, le prix et les ventes ont une corrélation négative, ce qui veut dire que lorsque l'un baisse, l'autre à tendance a augmenter.\")\n",
    "print(\"Nous ne voyons aucune corrélation entre le prix et les stocks.\")"
   ]
  },
  {
   "cell_type": "markdown",
   "id": "f1d22f1d",
   "metadata": {},
   "source": [
    "<div style=\"border: 1px solid RGB(51,165,182);\" >\n",
    "<h3 style=\"margin: auto; padding: 20px; color: RGB(51,165,182); \">Etape 5.6 - Mettre à disposition la nouvelle table sur un fichier Excel</h3>\n",
    "</div>"
   ]
  },
  {
   "cell_type": "code",
   "execution_count": 69,
   "id": "09bfe632",
   "metadata": {},
   "outputs": [],
   "source": [
    "#Mettre le dataset df_merge sur un fichier Excel\n",
    "#Cette étape peut-être utile pour partager le résultat du dataset obtenu pour le partager avec les équipes.  \n",
    "df_merge.to_excel('DF_Merge.xlsx',index=False)"
   ]
  }
 ],
 "metadata": {
  "kernelspec": {
   "display_name": "Python 3 (ipykernel)",
   "language": "python",
   "name": "python3"
  },
  "language_info": {
   "codemirror_mode": {
    "name": "ipython",
    "version": 3
   },
   "file_extension": ".py",
   "mimetype": "text/x-python",
   "name": "python",
   "nbconvert_exporter": "python",
   "pygments_lexer": "ipython3",
   "version": "3.9.13"
  }
 },
 "nbformat": 4,
 "nbformat_minor": 5
}
